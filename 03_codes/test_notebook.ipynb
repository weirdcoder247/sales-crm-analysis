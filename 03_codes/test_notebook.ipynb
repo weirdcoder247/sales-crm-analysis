{
 "metadata": {
  "language_info": {
   "codemirror_mode": {
    "name": "ipython",
    "version": 3
   },
   "file_extension": ".py",
   "mimetype": "text/x-python",
   "name": "python",
   "nbconvert_exporter": "python",
   "pygments_lexer": "ipython3",
   "version": "3.8.3-final"
  },
  "orig_nbformat": 2,
  "kernelspec": {
   "name": "python383jvsc74a57bd06e43f85b8c899b31f9c6e20303c90261e28e4bc4148d5526e30491a7115eaa38",
   "display_name": "Python 3.8.3 64-bit (conda)"
  }
 },
 "nbformat": 4,
 "nbformat_minor": 2,
 "cells": [
  {
   "cell_type": "code",
   "execution_count": 1,
   "metadata": {},
   "outputs": [],
   "source": [
    "# -----------------------------------------------------------------------------\n",
    "# Author: Dhruv Panchal <dhruvpanchal1491@gmail.com>\n",
    "# Project: UrbanPiper_Assignment\n",
    "# Create Date: 2021-04-12\n",
    "# Update Date:\n",
    "# Contributors:\n",
    "# Python Version: 3.8.3\n",
    "# -----------------------------------------------------------------------------"
   ]
  },
  {
   "cell_type": "code",
   "execution_count": 2,
   "metadata": {},
   "outputs": [],
   "source": [
    "# Import Packages\n",
    "import pandas as pd\n",
    "import os\n",
    "import xlrd\n",
    "import numpy as np\n",
    "import seaborn as sns\n",
    "# import sys\n",
    "import matplotlib.pyplot as plt\n",
    "%matplotlib inline"
   ]
  },
  {
   "cell_type": "code",
   "execution_count": 5,
   "metadata": {},
   "outputs": [
    {
     "output_type": "stream",
     "name": "stdout",
     "text": [
      "                 id  age_in_days  next_reach_out_date  number_of_outlets\ncount  5.863000e+03  5863.000000           185.000000        5863.000000\nmean   2.003714e+09   350.491557         44355.108108         104.600887\nstd    1.024682e+06   329.953288            88.841941        7416.533507\nmin    2.001614e+09 -1192.000000         44209.000000           1.000000\n25%    2.002778e+09    91.500000         44293.000000           1.000000\n50%    2.003950e+09   248.000000         44328.000000           3.000000\n75%    2.004686e+09   509.000000         44419.000000           8.000000\nmax    2.005079e+09  1173.000000         44882.000000      567890.000000\nid                        5863\nowner                       13\ndeal_stage                  20\nupdated_at                2708\ncreated_at                5067\nage_in_days                910\ndeferred_reason              7\nnot_interested_reasons       3\nno_requirement_reasons       3\nnext_reach_out_date         94\ncomments                   163\nsource_of_the_deal          16\nhead_office_city            59\ncountry                      1\nnumber_of_outlets           97\ndtype: int64\nid                        5863\nowner                     5842\ndeal_stage                5863\nupdated_at                5863\ncreated_at                5863\nage_in_days               5863\ndeferred_reason            313\nnot_interested_reasons      40\nno_requirement_reasons      37\nnext_reach_out_date        185\ncomments                   235\nsource_of_the_deal        5566\nhead_office_city          5697\ncountry                   5863\nnumber_of_outlets         5863\ndtype: int64\n"
     ]
    }
   ],
   "source": [
    "# Change Directory\n",
    "os.chdir(r'C:\\Users\\dhruv\\Documents\\UrbanPiper\\sales-crm-analysis\\02_data')\n",
    "os.getcwd()\n",
    "\n",
    "# Import Data\n",
    "df = pd.read_csv(\"crm_data.csv\")\n",
    "\n",
    "# Continuous Variables\n",
    "print(df.describe())\n",
    "print(df.nunique())\n",
    "print(df.count())\n"
   ]
  },
  {
   "cell_type": "code",
   "execution_count": 9,
   "metadata": {},
   "outputs": [
    {
     "output_type": "execute_result",
     "data": {
      "text/plain": [
       "[<matplotlib.lines.Line2D at 0x20871380c70>]"
      ]
     },
     "metadata": {},
     "execution_count": 9
    },
    {
     "output_type": "display_data",
     "data": {
      "text/plain": "<Figure size 432x288 with 1 Axes>",
      "image/svg+xml": "<?xml version=\"1.0\" encoding=\"utf-8\" standalone=\"no\"?>\r\n<!DOCTYPE svg PUBLIC \"-//W3C//DTD SVG 1.1//EN\"\r\n  \"http://www.w3.org/Graphics/SVG/1.1/DTD/svg11.dtd\">\r\n<svg height=\"248.79625pt\" version=\"1.1\" viewBox=\"0 0 412.984162 248.79625\" width=\"412.984162pt\" xmlns=\"http://www.w3.org/2000/svg\" xmlns:xlink=\"http://www.w3.org/1999/xlink\">\r\n <metadata>\r\n  <rdf:RDF xmlns:cc=\"http://creativecommons.org/ns#\" xmlns:dc=\"http://purl.org/dc/elements/1.1/\" xmlns:rdf=\"http://www.w3.org/1999/02/22-rdf-syntax-ns#\">\r\n   <cc:Work>\r\n    <dc:type rdf:resource=\"http://purl.org/dc/dcmitype/StillImage\"/>\r\n    <dc:date>2021-04-12T18:52:35.517369</dc:date>\r\n    <dc:format>image/svg+xml</dc:format>\r\n    <dc:creator>\r\n     <cc:Agent>\r\n      <dc:title>Matplotlib v3.4.1, https://matplotlib.org/</dc:title>\r\n     </cc:Agent>\r\n    </dc:creator>\r\n   </cc:Work>\r\n  </rdf:RDF>\r\n </metadata>\r\n <defs>\r\n  <style type=\"text/css\">*{stroke-linecap:butt;stroke-linejoin:round;}</style>\r\n </defs>\r\n <g id=\"figure_1\">\r\n  <g id=\"patch_1\">\r\n   <path d=\"M -0 248.79625 \r\nL 412.984162 248.79625 \r\nL 412.984162 0 \r\nL -0 0 \r\nz\r\n\" style=\"fill:none;\"/>\r\n  </g>\r\n  <g id=\"axes_1\">\r\n   <g id=\"patch_2\">\r\n    <path d=\"M 39.65 224.64 \r\nL 374.45 224.64 \r\nL 374.45 7.2 \r\nL 39.65 7.2 \r\nz\r\n\" style=\"fill:#ffffff;\"/>\r\n   </g>\r\n   <g id=\"matplotlib.axis_1\">\r\n    <g id=\"xtick_1\">\r\n     <g id=\"line2d_1\">\r\n      <defs>\r\n       <path d=\"M 0 0 \r\nL 0 3.5 \r\n\" id=\"m52b2d3ca32\" style=\"stroke:#000000;stroke-width:0.8;\"/>\r\n      </defs>\r\n      <g>\r\n       <use style=\"stroke:#000000;stroke-width:0.8;\" x=\"54.868182\" xlink:href=\"#m52b2d3ca32\" y=\"224.64\"/>\r\n      </g>\r\n     </g>\r\n     <g id=\"text_1\">\r\n      <!-- id -->\r\n      <g transform=\"translate(50.304901 239.238437)scale(0.1 -0.1)\">\r\n       <defs>\r\n        <path d=\"M 603 3500 \r\nL 1178 3500 \r\nL 1178 0 \r\nL 603 0 \r\nL 603 3500 \r\nz\r\nM 603 4863 \r\nL 1178 4863 \r\nL 1178 4134 \r\nL 603 4134 \r\nL 603 4863 \r\nz\r\n\" id=\"DejaVuSans-69\" transform=\"scale(0.015625)\"/>\r\n        <path d=\"M 2906 2969 \r\nL 2906 4863 \r\nL 3481 4863 \r\nL 3481 0 \r\nL 2906 0 \r\nL 2906 525 \r\nQ 2725 213 2448 61 \r\nQ 2172 -91 1784 -91 \r\nQ 1150 -91 751 415 \r\nQ 353 922 353 1747 \r\nQ 353 2572 751 3078 \r\nQ 1150 3584 1784 3584 \r\nQ 2172 3584 2448 3432 \r\nQ 2725 3281 2906 2969 \r\nz\r\nM 947 1747 \r\nQ 947 1113 1208 752 \r\nQ 1469 391 1925 391 \r\nQ 2381 391 2643 752 \r\nQ 2906 1113 2906 1747 \r\nQ 2906 2381 2643 2742 \r\nQ 2381 3103 1925 3103 \r\nQ 1469 3103 1208 2742 \r\nQ 947 2381 947 1747 \r\nz\r\n\" id=\"DejaVuSans-64\" transform=\"scale(0.015625)\"/>\r\n       </defs>\r\n       <use xlink:href=\"#DejaVuSans-69\"/>\r\n       <use x=\"27.783203\" xlink:href=\"#DejaVuSans-64\"/>\r\n      </g>\r\n     </g>\r\n    </g>\r\n    <g id=\"xtick_2\">\r\n     <g id=\"line2d_2\">\r\n      <g>\r\n       <use style=\"stroke:#000000;stroke-width:0.8;\" x=\"76.608442\" xlink:href=\"#m52b2d3ca32\" y=\"224.64\"/>\r\n      </g>\r\n     </g>\r\n     <g id=\"text_2\">\r\n      <!-- owner -->\r\n      <g transform=\"translate(61.159223 239.238437)scale(0.1 -0.1)\">\r\n       <defs>\r\n        <path d=\"M 1959 3097 \r\nQ 1497 3097 1228 2736 \r\nQ 959 2375 959 1747 \r\nQ 959 1119 1226 758 \r\nQ 1494 397 1959 397 \r\nQ 2419 397 2687 759 \r\nQ 2956 1122 2956 1747 \r\nQ 2956 2369 2687 2733 \r\nQ 2419 3097 1959 3097 \r\nz\r\nM 1959 3584 \r\nQ 2709 3584 3137 3096 \r\nQ 3566 2609 3566 1747 \r\nQ 3566 888 3137 398 \r\nQ 2709 -91 1959 -91 \r\nQ 1206 -91 779 398 \r\nQ 353 888 353 1747 \r\nQ 353 2609 779 3096 \r\nQ 1206 3584 1959 3584 \r\nz\r\n\" id=\"DejaVuSans-6f\" transform=\"scale(0.015625)\"/>\r\n        <path d=\"M 269 3500 \r\nL 844 3500 \r\nL 1563 769 \r\nL 2278 3500 \r\nL 2956 3500 \r\nL 3675 769 \r\nL 4391 3500 \r\nL 4966 3500 \r\nL 4050 0 \r\nL 3372 0 \r\nL 2619 2869 \r\nL 1863 0 \r\nL 1184 0 \r\nL 269 3500 \r\nz\r\n\" id=\"DejaVuSans-77\" transform=\"scale(0.015625)\"/>\r\n        <path d=\"M 3513 2113 \r\nL 3513 0 \r\nL 2938 0 \r\nL 2938 2094 \r\nQ 2938 2591 2744 2837 \r\nQ 2550 3084 2163 3084 \r\nQ 1697 3084 1428 2787 \r\nQ 1159 2491 1159 1978 \r\nL 1159 0 \r\nL 581 0 \r\nL 581 3500 \r\nL 1159 3500 \r\nL 1159 2956 \r\nQ 1366 3272 1645 3428 \r\nQ 1925 3584 2291 3584 \r\nQ 2894 3584 3203 3211 \r\nQ 3513 2838 3513 2113 \r\nz\r\n\" id=\"DejaVuSans-6e\" transform=\"scale(0.015625)\"/>\r\n        <path d=\"M 3597 1894 \r\nL 3597 1613 \r\nL 953 1613 \r\nQ 991 1019 1311 708 \r\nQ 1631 397 2203 397 \r\nQ 2534 397 2845 478 \r\nQ 3156 559 3463 722 \r\nL 3463 178 \r\nQ 3153 47 2828 -22 \r\nQ 2503 -91 2169 -91 \r\nQ 1331 -91 842 396 \r\nQ 353 884 353 1716 \r\nQ 353 2575 817 3079 \r\nQ 1281 3584 2069 3584 \r\nQ 2775 3584 3186 3129 \r\nQ 3597 2675 3597 1894 \r\nz\r\nM 3022 2063 \r\nQ 3016 2534 2758 2815 \r\nQ 2500 3097 2075 3097 \r\nQ 1594 3097 1305 2825 \r\nQ 1016 2553 972 2059 \r\nL 3022 2063 \r\nz\r\n\" id=\"DejaVuSans-65\" transform=\"scale(0.015625)\"/>\r\n        <path d=\"M 2631 2963 \r\nQ 2534 3019 2420 3045 \r\nQ 2306 3072 2169 3072 \r\nQ 1681 3072 1420 2755 \r\nQ 1159 2438 1159 1844 \r\nL 1159 0 \r\nL 581 0 \r\nL 581 3500 \r\nL 1159 3500 \r\nL 1159 2956 \r\nQ 1341 3275 1631 3429 \r\nQ 1922 3584 2338 3584 \r\nQ 2397 3584 2469 3576 \r\nQ 2541 3569 2628 3553 \r\nL 2631 2963 \r\nz\r\n\" id=\"DejaVuSans-72\" transform=\"scale(0.015625)\"/>\r\n       </defs>\r\n       <use xlink:href=\"#DejaVuSans-6f\"/>\r\n       <use x=\"61.181641\" xlink:href=\"#DejaVuSans-77\"/>\r\n       <use x=\"142.96875\" xlink:href=\"#DejaVuSans-6e\"/>\r\n       <use x=\"206.347656\" xlink:href=\"#DejaVuSans-65\"/>\r\n       <use x=\"267.871094\" xlink:href=\"#DejaVuSans-72\"/>\r\n      </g>\r\n     </g>\r\n    </g>\r\n    <g id=\"xtick_3\">\r\n     <g id=\"line2d_3\">\r\n      <g>\r\n       <use style=\"stroke:#000000;stroke-width:0.8;\" x=\"98.348701\" xlink:href=\"#m52b2d3ca32\" y=\"224.64\"/>\r\n      </g>\r\n     </g>\r\n     <g id=\"text_3\">\r\n      <!-- deal_stage -->\r\n      <g transform=\"translate(71.265108 239.238437)scale(0.1 -0.1)\">\r\n       <defs>\r\n        <path d=\"M 2194 1759 \r\nQ 1497 1759 1228 1600 \r\nQ 959 1441 959 1056 \r\nQ 959 750 1161 570 \r\nQ 1363 391 1709 391 \r\nQ 2188 391 2477 730 \r\nQ 2766 1069 2766 1631 \r\nL 2766 1759 \r\nL 2194 1759 \r\nz\r\nM 3341 1997 \r\nL 3341 0 \r\nL 2766 0 \r\nL 2766 531 \r\nQ 2569 213 2275 61 \r\nQ 1981 -91 1556 -91 \r\nQ 1019 -91 701 211 \r\nQ 384 513 384 1019 \r\nQ 384 1609 779 1909 \r\nQ 1175 2209 1959 2209 \r\nL 2766 2209 \r\nL 2766 2266 \r\nQ 2766 2663 2505 2880 \r\nQ 2244 3097 1772 3097 \r\nQ 1472 3097 1187 3025 \r\nQ 903 2953 641 2809 \r\nL 641 3341 \r\nQ 956 3463 1253 3523 \r\nQ 1550 3584 1831 3584 \r\nQ 2591 3584 2966 3190 \r\nQ 3341 2797 3341 1997 \r\nz\r\n\" id=\"DejaVuSans-61\" transform=\"scale(0.015625)\"/>\r\n        <path d=\"M 603 4863 \r\nL 1178 4863 \r\nL 1178 0 \r\nL 603 0 \r\nL 603 4863 \r\nz\r\n\" id=\"DejaVuSans-6c\" transform=\"scale(0.015625)\"/>\r\n        <path d=\"M 3263 -1063 \r\nL 3263 -1509 \r\nL -63 -1509 \r\nL -63 -1063 \r\nL 3263 -1063 \r\nz\r\n\" id=\"DejaVuSans-5f\" transform=\"scale(0.015625)\"/>\r\n        <path d=\"M 2834 3397 \r\nL 2834 2853 \r\nQ 2591 2978 2328 3040 \r\nQ 2066 3103 1784 3103 \r\nQ 1356 3103 1142 2972 \r\nQ 928 2841 928 2578 \r\nQ 928 2378 1081 2264 \r\nQ 1234 2150 1697 2047 \r\nL 1894 2003 \r\nQ 2506 1872 2764 1633 \r\nQ 3022 1394 3022 966 \r\nQ 3022 478 2636 193 \r\nQ 2250 -91 1575 -91 \r\nQ 1294 -91 989 -36 \r\nQ 684 19 347 128 \r\nL 347 722 \r\nQ 666 556 975 473 \r\nQ 1284 391 1588 391 \r\nQ 1994 391 2212 530 \r\nQ 2431 669 2431 922 \r\nQ 2431 1156 2273 1281 \r\nQ 2116 1406 1581 1522 \r\nL 1381 1569 \r\nQ 847 1681 609 1914 \r\nQ 372 2147 372 2553 \r\nQ 372 3047 722 3315 \r\nQ 1072 3584 1716 3584 \r\nQ 2034 3584 2315 3537 \r\nQ 2597 3491 2834 3397 \r\nz\r\n\" id=\"DejaVuSans-73\" transform=\"scale(0.015625)\"/>\r\n        <path d=\"M 1172 4494 \r\nL 1172 3500 \r\nL 2356 3500 \r\nL 2356 3053 \r\nL 1172 3053 \r\nL 1172 1153 \r\nQ 1172 725 1289 603 \r\nQ 1406 481 1766 481 \r\nL 2356 481 \r\nL 2356 0 \r\nL 1766 0 \r\nQ 1100 0 847 248 \r\nQ 594 497 594 1153 \r\nL 594 3053 \r\nL 172 3053 \r\nL 172 3500 \r\nL 594 3500 \r\nL 594 4494 \r\nL 1172 4494 \r\nz\r\n\" id=\"DejaVuSans-74\" transform=\"scale(0.015625)\"/>\r\n        <path d=\"M 2906 1791 \r\nQ 2906 2416 2648 2759 \r\nQ 2391 3103 1925 3103 \r\nQ 1463 3103 1205 2759 \r\nQ 947 2416 947 1791 \r\nQ 947 1169 1205 825 \r\nQ 1463 481 1925 481 \r\nQ 2391 481 2648 825 \r\nQ 2906 1169 2906 1791 \r\nz\r\nM 3481 434 \r\nQ 3481 -459 3084 -895 \r\nQ 2688 -1331 1869 -1331 \r\nQ 1566 -1331 1297 -1286 \r\nQ 1028 -1241 775 -1147 \r\nL 775 -588 \r\nQ 1028 -725 1275 -790 \r\nQ 1522 -856 1778 -856 \r\nQ 2344 -856 2625 -561 \r\nQ 2906 -266 2906 331 \r\nL 2906 616 \r\nQ 2728 306 2450 153 \r\nQ 2172 0 1784 0 \r\nQ 1141 0 747 490 \r\nQ 353 981 353 1791 \r\nQ 353 2603 747 3093 \r\nQ 1141 3584 1784 3584 \r\nQ 2172 3584 2450 3431 \r\nQ 2728 3278 2906 2969 \r\nL 2906 3500 \r\nL 3481 3500 \r\nL 3481 434 \r\nz\r\n\" id=\"DejaVuSans-67\" transform=\"scale(0.015625)\"/>\r\n       </defs>\r\n       <use xlink:href=\"#DejaVuSans-64\"/>\r\n       <use x=\"63.476562\" xlink:href=\"#DejaVuSans-65\"/>\r\n       <use x=\"125\" xlink:href=\"#DejaVuSans-61\"/>\r\n       <use x=\"186.279297\" xlink:href=\"#DejaVuSans-6c\"/>\r\n       <use x=\"214.0625\" xlink:href=\"#DejaVuSans-5f\"/>\r\n       <use x=\"264.0625\" xlink:href=\"#DejaVuSans-73\"/>\r\n       <use x=\"316.162109\" xlink:href=\"#DejaVuSans-74\"/>\r\n       <use x=\"355.371094\" xlink:href=\"#DejaVuSans-61\"/>\r\n       <use x=\"416.650391\" xlink:href=\"#DejaVuSans-67\"/>\r\n       <use x=\"480.126953\" xlink:href=\"#DejaVuSans-65\"/>\r\n      </g>\r\n     </g>\r\n    </g>\r\n    <g id=\"xtick_4\">\r\n     <g id=\"line2d_4\">\r\n      <g>\r\n       <use style=\"stroke:#000000;stroke-width:0.8;\" x=\"120.088961\" xlink:href=\"#m52b2d3ca32\" y=\"224.64\"/>\r\n      </g>\r\n     </g>\r\n     <g id=\"text_4\">\r\n      <!-- updated_at -->\r\n      <g transform=\"translate(91.772555 239.238437)scale(0.1 -0.1)\">\r\n       <defs>\r\n        <path d=\"M 544 1381 \r\nL 544 3500 \r\nL 1119 3500 \r\nL 1119 1403 \r\nQ 1119 906 1312 657 \r\nQ 1506 409 1894 409 \r\nQ 2359 409 2629 706 \r\nQ 2900 1003 2900 1516 \r\nL 2900 3500 \r\nL 3475 3500 \r\nL 3475 0 \r\nL 2900 0 \r\nL 2900 538 \r\nQ 2691 219 2414 64 \r\nQ 2138 -91 1772 -91 \r\nQ 1169 -91 856 284 \r\nQ 544 659 544 1381 \r\nz\r\nM 1991 3584 \r\nL 1991 3584 \r\nz\r\n\" id=\"DejaVuSans-75\" transform=\"scale(0.015625)\"/>\r\n        <path d=\"M 1159 525 \r\nL 1159 -1331 \r\nL 581 -1331 \r\nL 581 3500 \r\nL 1159 3500 \r\nL 1159 2969 \r\nQ 1341 3281 1617 3432 \r\nQ 1894 3584 2278 3584 \r\nQ 2916 3584 3314 3078 \r\nQ 3713 2572 3713 1747 \r\nQ 3713 922 3314 415 \r\nQ 2916 -91 2278 -91 \r\nQ 1894 -91 1617 61 \r\nQ 1341 213 1159 525 \r\nz\r\nM 3116 1747 \r\nQ 3116 2381 2855 2742 \r\nQ 2594 3103 2138 3103 \r\nQ 1681 3103 1420 2742 \r\nQ 1159 2381 1159 1747 \r\nQ 1159 1113 1420 752 \r\nQ 1681 391 2138 391 \r\nQ 2594 391 2855 752 \r\nQ 3116 1113 3116 1747 \r\nz\r\n\" id=\"DejaVuSans-70\" transform=\"scale(0.015625)\"/>\r\n       </defs>\r\n       <use xlink:href=\"#DejaVuSans-75\"/>\r\n       <use x=\"63.378906\" xlink:href=\"#DejaVuSans-70\"/>\r\n       <use x=\"126.855469\" xlink:href=\"#DejaVuSans-64\"/>\r\n       <use x=\"190.332031\" xlink:href=\"#DejaVuSans-61\"/>\r\n       <use x=\"251.611328\" xlink:href=\"#DejaVuSans-74\"/>\r\n       <use x=\"290.820312\" xlink:href=\"#DejaVuSans-65\"/>\r\n       <use x=\"352.34375\" xlink:href=\"#DejaVuSans-64\"/>\r\n       <use x=\"415.820312\" xlink:href=\"#DejaVuSans-5f\"/>\r\n       <use x=\"465.820312\" xlink:href=\"#DejaVuSans-61\"/>\r\n       <use x=\"527.099609\" xlink:href=\"#DejaVuSans-74\"/>\r\n      </g>\r\n     </g>\r\n    </g>\r\n    <g id=\"xtick_5\">\r\n     <g id=\"line2d_5\">\r\n      <g>\r\n       <use style=\"stroke:#000000;stroke-width:0.8;\" x=\"141.829221\" xlink:href=\"#m52b2d3ca32\" y=\"224.64\"/>\r\n      </g>\r\n     </g>\r\n     <g id=\"text_5\">\r\n      <!-- created_at -->\r\n      <g transform=\"translate(115.261252 239.238437)scale(0.1 -0.1)\">\r\n       <defs>\r\n        <path d=\"M 3122 3366 \r\nL 3122 2828 \r\nQ 2878 2963 2633 3030 \r\nQ 2388 3097 2138 3097 \r\nQ 1578 3097 1268 2742 \r\nQ 959 2388 959 1747 \r\nQ 959 1106 1268 751 \r\nQ 1578 397 2138 397 \r\nQ 2388 397 2633 464 \r\nQ 2878 531 3122 666 \r\nL 3122 134 \r\nQ 2881 22 2623 -34 \r\nQ 2366 -91 2075 -91 \r\nQ 1284 -91 818 406 \r\nQ 353 903 353 1747 \r\nQ 353 2603 823 3093 \r\nQ 1294 3584 2113 3584 \r\nQ 2378 3584 2631 3529 \r\nQ 2884 3475 3122 3366 \r\nz\r\n\" id=\"DejaVuSans-63\" transform=\"scale(0.015625)\"/>\r\n       </defs>\r\n       <use xlink:href=\"#DejaVuSans-63\"/>\r\n       <use x=\"54.980469\" xlink:href=\"#DejaVuSans-72\"/>\r\n       <use x=\"93.84375\" xlink:href=\"#DejaVuSans-65\"/>\r\n       <use x=\"155.367188\" xlink:href=\"#DejaVuSans-61\"/>\r\n       <use x=\"216.646484\" xlink:href=\"#DejaVuSans-74\"/>\r\n       <use x=\"255.855469\" xlink:href=\"#DejaVuSans-65\"/>\r\n       <use x=\"317.378906\" xlink:href=\"#DejaVuSans-64\"/>\r\n       <use x=\"380.855469\" xlink:href=\"#DejaVuSans-5f\"/>\r\n       <use x=\"430.855469\" xlink:href=\"#DejaVuSans-61\"/>\r\n       <use x=\"492.134766\" xlink:href=\"#DejaVuSans-74\"/>\r\n      </g>\r\n     </g>\r\n    </g>\r\n    <g id=\"xtick_6\">\r\n     <g id=\"line2d_6\">\r\n      <g>\r\n       <use style=\"stroke:#000000;stroke-width:0.8;\" x=\"163.569481\" xlink:href=\"#m52b2d3ca32\" y=\"224.64\"/>\r\n      </g>\r\n     </g>\r\n     <g id=\"text_6\">\r\n      <!-- age_in_days -->\r\n      <g transform=\"translate(132.894481 239.238437)scale(0.1 -0.1)\">\r\n       <defs>\r\n        <path d=\"M 2059 -325 \r\nQ 1816 -950 1584 -1140 \r\nQ 1353 -1331 966 -1331 \r\nL 506 -1331 \r\nL 506 -850 \r\nL 844 -850 \r\nQ 1081 -850 1212 -737 \r\nQ 1344 -625 1503 -206 \r\nL 1606 56 \r\nL 191 3500 \r\nL 800 3500 \r\nL 1894 763 \r\nL 2988 3500 \r\nL 3597 3500 \r\nL 2059 -325 \r\nz\r\n\" id=\"DejaVuSans-79\" transform=\"scale(0.015625)\"/>\r\n       </defs>\r\n       <use xlink:href=\"#DejaVuSans-61\"/>\r\n       <use x=\"61.279297\" xlink:href=\"#DejaVuSans-67\"/>\r\n       <use x=\"124.755859\" xlink:href=\"#DejaVuSans-65\"/>\r\n       <use x=\"186.279297\" xlink:href=\"#DejaVuSans-5f\"/>\r\n       <use x=\"236.279297\" xlink:href=\"#DejaVuSans-69\"/>\r\n       <use x=\"264.0625\" xlink:href=\"#DejaVuSans-6e\"/>\r\n       <use x=\"327.441406\" xlink:href=\"#DejaVuSans-5f\"/>\r\n       <use x=\"377.441406\" xlink:href=\"#DejaVuSans-64\"/>\r\n       <use x=\"440.917969\" xlink:href=\"#DejaVuSans-61\"/>\r\n       <use x=\"502.197266\" xlink:href=\"#DejaVuSans-79\"/>\r\n       <use x=\"561.376953\" xlink:href=\"#DejaVuSans-73\"/>\r\n      </g>\r\n     </g>\r\n    </g>\r\n    <g id=\"xtick_7\">\r\n     <g id=\"line2d_7\">\r\n      <g>\r\n       <use style=\"stroke:#000000;stroke-width:0.8;\" x=\"185.30974\" xlink:href=\"#m52b2d3ca32\" y=\"224.64\"/>\r\n      </g>\r\n     </g>\r\n     <g id=\"text_7\">\r\n      <!-- deferred_reason -->\r\n      <g transform=\"translate(144.644115 239.238437)scale(0.1 -0.1)\">\r\n       <defs>\r\n        <path d=\"M 2375 4863 \r\nL 2375 4384 \r\nL 1825 4384 \r\nQ 1516 4384 1395 4259 \r\nQ 1275 4134 1275 3809 \r\nL 1275 3500 \r\nL 2222 3500 \r\nL 2222 3053 \r\nL 1275 3053 \r\nL 1275 0 \r\nL 697 0 \r\nL 697 3053 \r\nL 147 3053 \r\nL 147 3500 \r\nL 697 3500 \r\nL 697 3744 \r\nQ 697 4328 969 4595 \r\nQ 1241 4863 1831 4863 \r\nL 2375 4863 \r\nz\r\n\" id=\"DejaVuSans-66\" transform=\"scale(0.015625)\"/>\r\n       </defs>\r\n       <use xlink:href=\"#DejaVuSans-64\"/>\r\n       <use x=\"63.476562\" xlink:href=\"#DejaVuSans-65\"/>\r\n       <use x=\"125\" xlink:href=\"#DejaVuSans-66\"/>\r\n       <use x=\"160.205078\" xlink:href=\"#DejaVuSans-65\"/>\r\n       <use x=\"221.728516\" xlink:href=\"#DejaVuSans-72\"/>\r\n       <use x=\"261.091797\" xlink:href=\"#DejaVuSans-72\"/>\r\n       <use x=\"299.955078\" xlink:href=\"#DejaVuSans-65\"/>\r\n       <use x=\"361.478516\" xlink:href=\"#DejaVuSans-64\"/>\r\n       <use x=\"424.955078\" xlink:href=\"#DejaVuSans-5f\"/>\r\n       <use x=\"474.955078\" xlink:href=\"#DejaVuSans-72\"/>\r\n       <use x=\"513.818359\" xlink:href=\"#DejaVuSans-65\"/>\r\n       <use x=\"575.341797\" xlink:href=\"#DejaVuSans-61\"/>\r\n       <use x=\"636.621094\" xlink:href=\"#DejaVuSans-73\"/>\r\n       <use x=\"688.720703\" xlink:href=\"#DejaVuSans-6f\"/>\r\n       <use x=\"749.902344\" xlink:href=\"#DejaVuSans-6e\"/>\r\n      </g>\r\n     </g>\r\n    </g>\r\n    <g id=\"xtick_8\">\r\n     <g id=\"line2d_8\">\r\n      <g>\r\n       <use style=\"stroke:#000000;stroke-width:0.8;\" x=\"207.05\" xlink:href=\"#m52b2d3ca32\" y=\"224.64\"/>\r\n      </g>\r\n     </g>\r\n     <g id=\"text_8\">\r\n      <!-- not_interested_reasons -->\r\n      <g transform=\"translate(148.910938 239.238437)scale(0.1 -0.1)\">\r\n       <use xlink:href=\"#DejaVuSans-6e\"/>\r\n       <use x=\"63.378906\" xlink:href=\"#DejaVuSans-6f\"/>\r\n       <use x=\"124.560547\" xlink:href=\"#DejaVuSans-74\"/>\r\n       <use x=\"163.769531\" xlink:href=\"#DejaVuSans-5f\"/>\r\n       <use x=\"213.769531\" xlink:href=\"#DejaVuSans-69\"/>\r\n       <use x=\"241.552734\" xlink:href=\"#DejaVuSans-6e\"/>\r\n       <use x=\"304.931641\" xlink:href=\"#DejaVuSans-74\"/>\r\n       <use x=\"344.140625\" xlink:href=\"#DejaVuSans-65\"/>\r\n       <use x=\"405.664062\" xlink:href=\"#DejaVuSans-72\"/>\r\n       <use x=\"444.527344\" xlink:href=\"#DejaVuSans-65\"/>\r\n       <use x=\"506.050781\" xlink:href=\"#DejaVuSans-73\"/>\r\n       <use x=\"558.150391\" xlink:href=\"#DejaVuSans-74\"/>\r\n       <use x=\"597.359375\" xlink:href=\"#DejaVuSans-65\"/>\r\n       <use x=\"658.882812\" xlink:href=\"#DejaVuSans-64\"/>\r\n       <use x=\"722.359375\" xlink:href=\"#DejaVuSans-5f\"/>\r\n       <use x=\"772.359375\" xlink:href=\"#DejaVuSans-72\"/>\r\n       <use x=\"811.222656\" xlink:href=\"#DejaVuSans-65\"/>\r\n       <use x=\"872.746094\" xlink:href=\"#DejaVuSans-61\"/>\r\n       <use x=\"934.025391\" xlink:href=\"#DejaVuSans-73\"/>\r\n       <use x=\"986.125\" xlink:href=\"#DejaVuSans-6f\"/>\r\n       <use x=\"1047.306641\" xlink:href=\"#DejaVuSans-6e\"/>\r\n       <use x=\"1110.685547\" xlink:href=\"#DejaVuSans-73\"/>\r\n      </g>\r\n     </g>\r\n    </g>\r\n    <g id=\"xtick_9\">\r\n     <g id=\"line2d_9\">\r\n      <g>\r\n       <use style=\"stroke:#000000;stroke-width:0.8;\" x=\"228.79026\" xlink:href=\"#m52b2d3ca32\" y=\"224.64\"/>\r\n      </g>\r\n     </g>\r\n     <g id=\"text_9\">\r\n      <!-- no_requirement_reasons -->\r\n      <g transform=\"translate(167.194166 239.238437)scale(0.1 -0.1)\">\r\n       <defs>\r\n        <path d=\"M 947 1747 \r\nQ 947 1113 1208 752 \r\nQ 1469 391 1925 391 \r\nQ 2381 391 2643 752 \r\nQ 2906 1113 2906 1747 \r\nQ 2906 2381 2643 2742 \r\nQ 2381 3103 1925 3103 \r\nQ 1469 3103 1208 2742 \r\nQ 947 2381 947 1747 \r\nz\r\nM 2906 525 \r\nQ 2725 213 2448 61 \r\nQ 2172 -91 1784 -91 \r\nQ 1150 -91 751 415 \r\nQ 353 922 353 1747 \r\nQ 353 2572 751 3078 \r\nQ 1150 3584 1784 3584 \r\nQ 2172 3584 2448 3432 \r\nQ 2725 3281 2906 2969 \r\nL 2906 3500 \r\nL 3481 3500 \r\nL 3481 -1331 \r\nL 2906 -1331 \r\nL 2906 525 \r\nz\r\n\" id=\"DejaVuSans-71\" transform=\"scale(0.015625)\"/>\r\n        <path d=\"M 3328 2828 \r\nQ 3544 3216 3844 3400 \r\nQ 4144 3584 4550 3584 \r\nQ 5097 3584 5394 3201 \r\nQ 5691 2819 5691 2113 \r\nL 5691 0 \r\nL 5113 0 \r\nL 5113 2094 \r\nQ 5113 2597 4934 2840 \r\nQ 4756 3084 4391 3084 \r\nQ 3944 3084 3684 2787 \r\nQ 3425 2491 3425 1978 \r\nL 3425 0 \r\nL 2847 0 \r\nL 2847 2094 \r\nQ 2847 2600 2669 2842 \r\nQ 2491 3084 2119 3084 \r\nQ 1678 3084 1418 2786 \r\nQ 1159 2488 1159 1978 \r\nL 1159 0 \r\nL 581 0 \r\nL 581 3500 \r\nL 1159 3500 \r\nL 1159 2956 \r\nQ 1356 3278 1631 3431 \r\nQ 1906 3584 2284 3584 \r\nQ 2666 3584 2933 3390 \r\nQ 3200 3197 3328 2828 \r\nz\r\n\" id=\"DejaVuSans-6d\" transform=\"scale(0.015625)\"/>\r\n       </defs>\r\n       <use xlink:href=\"#DejaVuSans-6e\"/>\r\n       <use x=\"63.378906\" xlink:href=\"#DejaVuSans-6f\"/>\r\n       <use x=\"124.560547\" xlink:href=\"#DejaVuSans-5f\"/>\r\n       <use x=\"174.560547\" xlink:href=\"#DejaVuSans-72\"/>\r\n       <use x=\"213.423828\" xlink:href=\"#DejaVuSans-65\"/>\r\n       <use x=\"274.947266\" xlink:href=\"#DejaVuSans-71\"/>\r\n       <use x=\"338.423828\" xlink:href=\"#DejaVuSans-75\"/>\r\n       <use x=\"401.802734\" xlink:href=\"#DejaVuSans-69\"/>\r\n       <use x=\"429.585938\" xlink:href=\"#DejaVuSans-72\"/>\r\n       <use x=\"468.449219\" xlink:href=\"#DejaVuSans-65\"/>\r\n       <use x=\"529.972656\" xlink:href=\"#DejaVuSans-6d\"/>\r\n       <use x=\"627.384766\" xlink:href=\"#DejaVuSans-65\"/>\r\n       <use x=\"688.908203\" xlink:href=\"#DejaVuSans-6e\"/>\r\n       <use x=\"752.287109\" xlink:href=\"#DejaVuSans-74\"/>\r\n       <use x=\"791.496094\" xlink:href=\"#DejaVuSans-5f\"/>\r\n       <use x=\"841.496094\" xlink:href=\"#DejaVuSans-72\"/>\r\n       <use x=\"880.359375\" xlink:href=\"#DejaVuSans-65\"/>\r\n       <use x=\"941.882812\" xlink:href=\"#DejaVuSans-61\"/>\r\n       <use x=\"1003.162109\" xlink:href=\"#DejaVuSans-73\"/>\r\n       <use x=\"1055.261719\" xlink:href=\"#DejaVuSans-6f\"/>\r\n       <use x=\"1116.443359\" xlink:href=\"#DejaVuSans-6e\"/>\r\n       <use x=\"1179.822266\" xlink:href=\"#DejaVuSans-73\"/>\r\n      </g>\r\n     </g>\r\n    </g>\r\n    <g id=\"xtick_10\">\r\n     <g id=\"line2d_10\">\r\n      <g>\r\n       <use style=\"stroke:#000000;stroke-width:0.8;\" x=\"250.530519\" xlink:href=\"#m52b2d3ca32\" y=\"224.64\"/>\r\n      </g>\r\n     </g>\r\n     <g id=\"text_10\">\r\n      <!-- next_reach_out_date -->\r\n      <g transform=\"translate(198.488332 239.238437)scale(0.1 -0.1)\">\r\n       <defs>\r\n        <path d=\"M 3513 3500 \r\nL 2247 1797 \r\nL 3578 0 \r\nL 2900 0 \r\nL 1881 1375 \r\nL 863 0 \r\nL 184 0 \r\nL 1544 1831 \r\nL 300 3500 \r\nL 978 3500 \r\nL 1906 2253 \r\nL 2834 3500 \r\nL 3513 3500 \r\nz\r\n\" id=\"DejaVuSans-78\" transform=\"scale(0.015625)\"/>\r\n        <path d=\"M 3513 2113 \r\nL 3513 0 \r\nL 2938 0 \r\nL 2938 2094 \r\nQ 2938 2591 2744 2837 \r\nQ 2550 3084 2163 3084 \r\nQ 1697 3084 1428 2787 \r\nQ 1159 2491 1159 1978 \r\nL 1159 0 \r\nL 581 0 \r\nL 581 4863 \r\nL 1159 4863 \r\nL 1159 2956 \r\nQ 1366 3272 1645 3428 \r\nQ 1925 3584 2291 3584 \r\nQ 2894 3584 3203 3211 \r\nQ 3513 2838 3513 2113 \r\nz\r\n\" id=\"DejaVuSans-68\" transform=\"scale(0.015625)\"/>\r\n       </defs>\r\n       <use xlink:href=\"#DejaVuSans-6e\"/>\r\n       <use x=\"63.378906\" xlink:href=\"#DejaVuSans-65\"/>\r\n       <use x=\"123.152344\" xlink:href=\"#DejaVuSans-78\"/>\r\n       <use x=\"182.332031\" xlink:href=\"#DejaVuSans-74\"/>\r\n       <use x=\"221.541016\" xlink:href=\"#DejaVuSans-5f\"/>\r\n       <use x=\"271.541016\" xlink:href=\"#DejaVuSans-72\"/>\r\n       <use x=\"310.404297\" xlink:href=\"#DejaVuSans-65\"/>\r\n       <use x=\"371.927734\" xlink:href=\"#DejaVuSans-61\"/>\r\n       <use x=\"433.207031\" xlink:href=\"#DejaVuSans-63\"/>\r\n       <use x=\"488.1875\" xlink:href=\"#DejaVuSans-68\"/>\r\n       <use x=\"551.566406\" xlink:href=\"#DejaVuSans-5f\"/>\r\n       <use x=\"601.566406\" xlink:href=\"#DejaVuSans-6f\"/>\r\n       <use x=\"662.748047\" xlink:href=\"#DejaVuSans-75\"/>\r\n       <use x=\"726.126953\" xlink:href=\"#DejaVuSans-74\"/>\r\n       <use x=\"765.335938\" xlink:href=\"#DejaVuSans-5f\"/>\r\n       <use x=\"815.335938\" xlink:href=\"#DejaVuSans-64\"/>\r\n       <use x=\"878.8125\" xlink:href=\"#DejaVuSans-61\"/>\r\n       <use x=\"940.091797\" xlink:href=\"#DejaVuSans-74\"/>\r\n       <use x=\"979.300781\" xlink:href=\"#DejaVuSans-65\"/>\r\n      </g>\r\n     </g>\r\n    </g>\r\n    <g id=\"xtick_11\">\r\n     <g id=\"line2d_11\">\r\n      <g>\r\n       <use style=\"stroke:#000000;stroke-width:0.8;\" x=\"272.270779\" xlink:href=\"#m52b2d3ca32\" y=\"224.64\"/>\r\n      </g>\r\n     </g>\r\n     <g id=\"text_11\">\r\n      <!-- comments -->\r\n      <g transform=\"translate(245.911404 239.238437)scale(0.1 -0.1)\">\r\n       <use xlink:href=\"#DejaVuSans-63\"/>\r\n       <use x=\"54.980469\" xlink:href=\"#DejaVuSans-6f\"/>\r\n       <use x=\"116.162109\" xlink:href=\"#DejaVuSans-6d\"/>\r\n       <use x=\"213.574219\" xlink:href=\"#DejaVuSans-6d\"/>\r\n       <use x=\"310.986328\" xlink:href=\"#DejaVuSans-65\"/>\r\n       <use x=\"372.509766\" xlink:href=\"#DejaVuSans-6e\"/>\r\n       <use x=\"435.888672\" xlink:href=\"#DejaVuSans-74\"/>\r\n       <use x=\"475.097656\" xlink:href=\"#DejaVuSans-73\"/>\r\n      </g>\r\n     </g>\r\n    </g>\r\n    <g id=\"xtick_12\">\r\n     <g id=\"line2d_12\">\r\n      <g>\r\n       <use style=\"stroke:#000000;stroke-width:0.8;\" x=\"294.011039\" xlink:href=\"#m52b2d3ca32\" y=\"224.64\"/>\r\n      </g>\r\n     </g>\r\n     <g id=\"text_12\">\r\n      <!-- source_of_the_deal -->\r\n      <g transform=\"translate(246.18057 239.238437)scale(0.1 -0.1)\">\r\n       <use xlink:href=\"#DejaVuSans-73\"/>\r\n       <use x=\"52.099609\" xlink:href=\"#DejaVuSans-6f\"/>\r\n       <use x=\"113.28125\" xlink:href=\"#DejaVuSans-75\"/>\r\n       <use x=\"176.660156\" xlink:href=\"#DejaVuSans-72\"/>\r\n       <use x=\"215.523438\" xlink:href=\"#DejaVuSans-63\"/>\r\n       <use x=\"270.503906\" xlink:href=\"#DejaVuSans-65\"/>\r\n       <use x=\"332.027344\" xlink:href=\"#DejaVuSans-5f\"/>\r\n       <use x=\"382.027344\" xlink:href=\"#DejaVuSans-6f\"/>\r\n       <use x=\"443.208984\" xlink:href=\"#DejaVuSans-66\"/>\r\n       <use x=\"478.414062\" xlink:href=\"#DejaVuSans-5f\"/>\r\n       <use x=\"528.414062\" xlink:href=\"#DejaVuSans-74\"/>\r\n       <use x=\"567.623047\" xlink:href=\"#DejaVuSans-68\"/>\r\n       <use x=\"631.001953\" xlink:href=\"#DejaVuSans-65\"/>\r\n       <use x=\"692.525391\" xlink:href=\"#DejaVuSans-5f\"/>\r\n       <use x=\"742.525391\" xlink:href=\"#DejaVuSans-64\"/>\r\n       <use x=\"806.001953\" xlink:href=\"#DejaVuSans-65\"/>\r\n       <use x=\"867.525391\" xlink:href=\"#DejaVuSans-61\"/>\r\n       <use x=\"928.804688\" xlink:href=\"#DejaVuSans-6c\"/>\r\n      </g>\r\n     </g>\r\n    </g>\r\n    <g id=\"xtick_13\">\r\n     <g id=\"line2d_13\">\r\n      <g>\r\n       <use style=\"stroke:#000000;stroke-width:0.8;\" x=\"315.751299\" xlink:href=\"#m52b2d3ca32\" y=\"224.64\"/>\r\n      </g>\r\n     </g>\r\n     <g id=\"text_13\">\r\n      <!-- head_office_city -->\r\n      <g transform=\"translate(275.415361 239.238437)scale(0.1 -0.1)\">\r\n       <use xlink:href=\"#DejaVuSans-68\"/>\r\n       <use x=\"63.378906\" xlink:href=\"#DejaVuSans-65\"/>\r\n       <use x=\"124.902344\" xlink:href=\"#DejaVuSans-61\"/>\r\n       <use x=\"186.181641\" xlink:href=\"#DejaVuSans-64\"/>\r\n       <use x=\"249.658203\" xlink:href=\"#DejaVuSans-5f\"/>\r\n       <use x=\"299.658203\" xlink:href=\"#DejaVuSans-6f\"/>\r\n       <use x=\"360.839844\" xlink:href=\"#DejaVuSans-66\"/>\r\n       <use x=\"396.044922\" xlink:href=\"#DejaVuSans-66\"/>\r\n       <use x=\"431.25\" xlink:href=\"#DejaVuSans-69\"/>\r\n       <use x=\"459.033203\" xlink:href=\"#DejaVuSans-63\"/>\r\n       <use x=\"514.013672\" xlink:href=\"#DejaVuSans-65\"/>\r\n       <use x=\"575.537109\" xlink:href=\"#DejaVuSans-5f\"/>\r\n       <use x=\"625.537109\" xlink:href=\"#DejaVuSans-63\"/>\r\n       <use x=\"680.517578\" xlink:href=\"#DejaVuSans-69\"/>\r\n       <use x=\"708.300781\" xlink:href=\"#DejaVuSans-74\"/>\r\n       <use x=\"747.509766\" xlink:href=\"#DejaVuSans-79\"/>\r\n      </g>\r\n     </g>\r\n    </g>\r\n    <g id=\"xtick_14\">\r\n     <g id=\"line2d_14\">\r\n      <g>\r\n       <use style=\"stroke:#000000;stroke-width:0.8;\" x=\"337.491558\" xlink:href=\"#m52b2d3ca32\" y=\"224.64\"/>\r\n      </g>\r\n     </g>\r\n     <g id=\"text_14\">\r\n      <!-- country -->\r\n      <g transform=\"translate(318.370465 239.238437)scale(0.1 -0.1)\">\r\n       <use xlink:href=\"#DejaVuSans-63\"/>\r\n       <use x=\"54.980469\" xlink:href=\"#DejaVuSans-6f\"/>\r\n       <use x=\"116.162109\" xlink:href=\"#DejaVuSans-75\"/>\r\n       <use x=\"179.541016\" xlink:href=\"#DejaVuSans-6e\"/>\r\n       <use x=\"242.919922\" xlink:href=\"#DejaVuSans-74\"/>\r\n       <use x=\"282.128906\" xlink:href=\"#DejaVuSans-72\"/>\r\n       <use x=\"323.242188\" xlink:href=\"#DejaVuSans-79\"/>\r\n      </g>\r\n     </g>\r\n    </g>\r\n    <g id=\"xtick_15\">\r\n     <g id=\"line2d_15\">\r\n      <g>\r\n       <use style=\"stroke:#000000;stroke-width:0.8;\" x=\"359.231818\" xlink:href=\"#m52b2d3ca32\" y=\"224.64\"/>\r\n      </g>\r\n     </g>\r\n     <g id=\"text_15\">\r\n      <!-- number_of_outlets -->\r\n      <g transform=\"translate(312.679474 239.238437)scale(0.1 -0.1)\">\r\n       <defs>\r\n        <path d=\"M 3116 1747 \r\nQ 3116 2381 2855 2742 \r\nQ 2594 3103 2138 3103 \r\nQ 1681 3103 1420 2742 \r\nQ 1159 2381 1159 1747 \r\nQ 1159 1113 1420 752 \r\nQ 1681 391 2138 391 \r\nQ 2594 391 2855 752 \r\nQ 3116 1113 3116 1747 \r\nz\r\nM 1159 2969 \r\nQ 1341 3281 1617 3432 \r\nQ 1894 3584 2278 3584 \r\nQ 2916 3584 3314 3078 \r\nQ 3713 2572 3713 1747 \r\nQ 3713 922 3314 415 \r\nQ 2916 -91 2278 -91 \r\nQ 1894 -91 1617 61 \r\nQ 1341 213 1159 525 \r\nL 1159 0 \r\nL 581 0 \r\nL 581 4863 \r\nL 1159 4863 \r\nL 1159 2969 \r\nz\r\n\" id=\"DejaVuSans-62\" transform=\"scale(0.015625)\"/>\r\n       </defs>\r\n       <use xlink:href=\"#DejaVuSans-6e\"/>\r\n       <use x=\"63.378906\" xlink:href=\"#DejaVuSans-75\"/>\r\n       <use x=\"126.757812\" xlink:href=\"#DejaVuSans-6d\"/>\r\n       <use x=\"224.169922\" xlink:href=\"#DejaVuSans-62\"/>\r\n       <use x=\"287.646484\" xlink:href=\"#DejaVuSans-65\"/>\r\n       <use x=\"349.169922\" xlink:href=\"#DejaVuSans-72\"/>\r\n       <use x=\"390.283203\" xlink:href=\"#DejaVuSans-5f\"/>\r\n       <use x=\"440.283203\" xlink:href=\"#DejaVuSans-6f\"/>\r\n       <use x=\"501.464844\" xlink:href=\"#DejaVuSans-66\"/>\r\n       <use x=\"536.669922\" xlink:href=\"#DejaVuSans-5f\"/>\r\n       <use x=\"586.669922\" xlink:href=\"#DejaVuSans-6f\"/>\r\n       <use x=\"647.851562\" xlink:href=\"#DejaVuSans-75\"/>\r\n       <use x=\"711.230469\" xlink:href=\"#DejaVuSans-74\"/>\r\n       <use x=\"750.439453\" xlink:href=\"#DejaVuSans-6c\"/>\r\n       <use x=\"778.222656\" xlink:href=\"#DejaVuSans-65\"/>\r\n       <use x=\"839.746094\" xlink:href=\"#DejaVuSans-74\"/>\r\n       <use x=\"878.955078\" xlink:href=\"#DejaVuSans-73\"/>\r\n      </g>\r\n     </g>\r\n    </g>\r\n   </g>\r\n   <g id=\"matplotlib.axis_2\">\r\n    <g id=\"ytick_1\">\r\n     <g id=\"line2d_16\">\r\n      <defs>\r\n       <path d=\"M 0 0 \r\nL -3.5 0 \r\n\" id=\"meae51e2eaa\" style=\"stroke:#000000;stroke-width:0.8;\"/>\r\n      </defs>\r\n      <g>\r\n       <use style=\"stroke:#000000;stroke-width:0.8;\" x=\"39.65\" xlink:href=\"#meae51e2eaa\" y=\"214.790085\"/>\r\n      </g>\r\n     </g>\r\n     <g id=\"text_16\">\r\n      <!-- 0 -->\r\n      <g transform=\"translate(26.2875 218.589303)scale(0.1 -0.1)\">\r\n       <defs>\r\n        <path d=\"M 2034 4250 \r\nQ 1547 4250 1301 3770 \r\nQ 1056 3291 1056 2328 \r\nQ 1056 1369 1301 889 \r\nQ 1547 409 2034 409 \r\nQ 2525 409 2770 889 \r\nQ 3016 1369 3016 2328 \r\nQ 3016 3291 2770 3770 \r\nQ 2525 4250 2034 4250 \r\nz\r\nM 2034 4750 \r\nQ 2819 4750 3233 4129 \r\nQ 3647 3509 3647 2328 \r\nQ 3647 1150 3233 529 \r\nQ 2819 -91 2034 -91 \r\nQ 1250 -91 836 529 \r\nQ 422 1150 422 2328 \r\nQ 422 3509 836 4129 \r\nQ 1250 4750 2034 4750 \r\nz\r\n\" id=\"DejaVuSans-30\" transform=\"scale(0.015625)\"/>\r\n       </defs>\r\n       <use xlink:href=\"#DejaVuSans-30\"/>\r\n      </g>\r\n     </g>\r\n    </g>\r\n    <g id=\"ytick_2\">\r\n     <g id=\"line2d_17\">\r\n      <g>\r\n       <use style=\"stroke:#000000;stroke-width:0.8;\" x=\"39.65\" xlink:href=\"#meae51e2eaa\" y=\"181.069046\"/>\r\n      </g>\r\n     </g>\r\n     <g id=\"text_17\">\r\n      <!-- 1000 -->\r\n      <g transform=\"translate(7.2 184.868265)scale(0.1 -0.1)\">\r\n       <defs>\r\n        <path d=\"M 794 531 \r\nL 1825 531 \r\nL 1825 4091 \r\nL 703 3866 \r\nL 703 4441 \r\nL 1819 4666 \r\nL 2450 4666 \r\nL 2450 531 \r\nL 3481 531 \r\nL 3481 0 \r\nL 794 0 \r\nL 794 531 \r\nz\r\n\" id=\"DejaVuSans-31\" transform=\"scale(0.015625)\"/>\r\n       </defs>\r\n       <use xlink:href=\"#DejaVuSans-31\"/>\r\n       <use x=\"63.623047\" xlink:href=\"#DejaVuSans-30\"/>\r\n       <use x=\"127.246094\" xlink:href=\"#DejaVuSans-30\"/>\r\n       <use x=\"190.869141\" xlink:href=\"#DejaVuSans-30\"/>\r\n      </g>\r\n     </g>\r\n    </g>\r\n    <g id=\"ytick_3\">\r\n     <g id=\"line2d_18\">\r\n      <g>\r\n       <use style=\"stroke:#000000;stroke-width:0.8;\" x=\"39.65\" xlink:href=\"#meae51e2eaa\" y=\"147.348008\"/>\r\n      </g>\r\n     </g>\r\n     <g id=\"text_18\">\r\n      <!-- 2000 -->\r\n      <g transform=\"translate(7.2 151.147227)scale(0.1 -0.1)\">\r\n       <defs>\r\n        <path d=\"M 1228 531 \r\nL 3431 531 \r\nL 3431 0 \r\nL 469 0 \r\nL 469 531 \r\nQ 828 903 1448 1529 \r\nQ 2069 2156 2228 2338 \r\nQ 2531 2678 2651 2914 \r\nQ 2772 3150 2772 3378 \r\nQ 2772 3750 2511 3984 \r\nQ 2250 4219 1831 4219 \r\nQ 1534 4219 1204 4116 \r\nQ 875 4013 500 3803 \r\nL 500 4441 \r\nQ 881 4594 1212 4672 \r\nQ 1544 4750 1819 4750 \r\nQ 2544 4750 2975 4387 \r\nQ 3406 4025 3406 3419 \r\nQ 3406 3131 3298 2873 \r\nQ 3191 2616 2906 2266 \r\nQ 2828 2175 2409 1742 \r\nQ 1991 1309 1228 531 \r\nz\r\n\" id=\"DejaVuSans-32\" transform=\"scale(0.015625)\"/>\r\n       </defs>\r\n       <use xlink:href=\"#DejaVuSans-32\"/>\r\n       <use x=\"63.623047\" xlink:href=\"#DejaVuSans-30\"/>\r\n       <use x=\"127.246094\" xlink:href=\"#DejaVuSans-30\"/>\r\n       <use x=\"190.869141\" xlink:href=\"#DejaVuSans-30\"/>\r\n      </g>\r\n     </g>\r\n    </g>\r\n    <g id=\"ytick_4\">\r\n     <g id=\"line2d_19\">\r\n      <g>\r\n       <use style=\"stroke:#000000;stroke-width:0.8;\" x=\"39.65\" xlink:href=\"#meae51e2eaa\" y=\"113.626969\"/>\r\n      </g>\r\n     </g>\r\n     <g id=\"text_19\">\r\n      <!-- 3000 -->\r\n      <g transform=\"translate(7.2 117.426188)scale(0.1 -0.1)\">\r\n       <defs>\r\n        <path d=\"M 2597 2516 \r\nQ 3050 2419 3304 2112 \r\nQ 3559 1806 3559 1356 \r\nQ 3559 666 3084 287 \r\nQ 2609 -91 1734 -91 \r\nQ 1441 -91 1130 -33 \r\nQ 819 25 488 141 \r\nL 488 750 \r\nQ 750 597 1062 519 \r\nQ 1375 441 1716 441 \r\nQ 2309 441 2620 675 \r\nQ 2931 909 2931 1356 \r\nQ 2931 1769 2642 2001 \r\nQ 2353 2234 1838 2234 \r\nL 1294 2234 \r\nL 1294 2753 \r\nL 1863 2753 \r\nQ 2328 2753 2575 2939 \r\nQ 2822 3125 2822 3475 \r\nQ 2822 3834 2567 4026 \r\nQ 2313 4219 1838 4219 \r\nQ 1578 4219 1281 4162 \r\nQ 984 4106 628 3988 \r\nL 628 4550 \r\nQ 988 4650 1302 4700 \r\nQ 1616 4750 1894 4750 \r\nQ 2613 4750 3031 4423 \r\nQ 3450 4097 3450 3541 \r\nQ 3450 3153 3228 2886 \r\nQ 3006 2619 2597 2516 \r\nz\r\n\" id=\"DejaVuSans-33\" transform=\"scale(0.015625)\"/>\r\n       </defs>\r\n       <use xlink:href=\"#DejaVuSans-33\"/>\r\n       <use x=\"63.623047\" xlink:href=\"#DejaVuSans-30\"/>\r\n       <use x=\"127.246094\" xlink:href=\"#DejaVuSans-30\"/>\r\n       <use x=\"190.869141\" xlink:href=\"#DejaVuSans-30\"/>\r\n      </g>\r\n     </g>\r\n    </g>\r\n    <g id=\"ytick_5\">\r\n     <g id=\"line2d_20\">\r\n      <g>\r\n       <use style=\"stroke:#000000;stroke-width:0.8;\" x=\"39.65\" xlink:href=\"#meae51e2eaa\" y=\"79.905931\"/>\r\n      </g>\r\n     </g>\r\n     <g id=\"text_20\">\r\n      <!-- 4000 -->\r\n      <g transform=\"translate(7.2 83.70515)scale(0.1 -0.1)\">\r\n       <defs>\r\n        <path d=\"M 2419 4116 \r\nL 825 1625 \r\nL 2419 1625 \r\nL 2419 4116 \r\nz\r\nM 2253 4666 \r\nL 3047 4666 \r\nL 3047 1625 \r\nL 3713 1625 \r\nL 3713 1100 \r\nL 3047 1100 \r\nL 3047 0 \r\nL 2419 0 \r\nL 2419 1100 \r\nL 313 1100 \r\nL 313 1709 \r\nL 2253 4666 \r\nz\r\n\" id=\"DejaVuSans-34\" transform=\"scale(0.015625)\"/>\r\n       </defs>\r\n       <use xlink:href=\"#DejaVuSans-34\"/>\r\n       <use x=\"63.623047\" xlink:href=\"#DejaVuSans-30\"/>\r\n       <use x=\"127.246094\" xlink:href=\"#DejaVuSans-30\"/>\r\n       <use x=\"190.869141\" xlink:href=\"#DejaVuSans-30\"/>\r\n      </g>\r\n     </g>\r\n    </g>\r\n    <g id=\"ytick_6\">\r\n     <g id=\"line2d_21\">\r\n      <g>\r\n       <use style=\"stroke:#000000;stroke-width:0.8;\" x=\"39.65\" xlink:href=\"#meae51e2eaa\" y=\"46.184893\"/>\r\n      </g>\r\n     </g>\r\n     <g id=\"text_21\">\r\n      <!-- 5000 -->\r\n      <g transform=\"translate(7.2 49.984111)scale(0.1 -0.1)\">\r\n       <defs>\r\n        <path d=\"M 691 4666 \r\nL 3169 4666 \r\nL 3169 4134 \r\nL 1269 4134 \r\nL 1269 2991 \r\nQ 1406 3038 1543 3061 \r\nQ 1681 3084 1819 3084 \r\nQ 2600 3084 3056 2656 \r\nQ 3513 2228 3513 1497 \r\nQ 3513 744 3044 326 \r\nQ 2575 -91 1722 -91 \r\nQ 1428 -91 1123 -41 \r\nQ 819 9 494 109 \r\nL 494 744 \r\nQ 775 591 1075 516 \r\nQ 1375 441 1709 441 \r\nQ 2250 441 2565 725 \r\nQ 2881 1009 2881 1497 \r\nQ 2881 1984 2565 2268 \r\nQ 2250 2553 1709 2553 \r\nQ 1456 2553 1204 2497 \r\nQ 953 2441 691 2322 \r\nL 691 4666 \r\nz\r\n\" id=\"DejaVuSans-35\" transform=\"scale(0.015625)\"/>\r\n       </defs>\r\n       <use xlink:href=\"#DejaVuSans-35\"/>\r\n       <use x=\"63.623047\" xlink:href=\"#DejaVuSans-30\"/>\r\n       <use x=\"127.246094\" xlink:href=\"#DejaVuSans-30\"/>\r\n       <use x=\"190.869141\" xlink:href=\"#DejaVuSans-30\"/>\r\n      </g>\r\n     </g>\r\n    </g>\r\n    <g id=\"ytick_7\">\r\n     <g id=\"line2d_22\">\r\n      <g>\r\n       <use style=\"stroke:#000000;stroke-width:0.8;\" x=\"39.65\" xlink:href=\"#meae51e2eaa\" y=\"12.463854\"/>\r\n      </g>\r\n     </g>\r\n     <g id=\"text_22\">\r\n      <!-- 6000 -->\r\n      <g transform=\"translate(7.2 16.263073)scale(0.1 -0.1)\">\r\n       <defs>\r\n        <path d=\"M 2113 2584 \r\nQ 1688 2584 1439 2293 \r\nQ 1191 2003 1191 1497 \r\nQ 1191 994 1439 701 \r\nQ 1688 409 2113 409 \r\nQ 2538 409 2786 701 \r\nQ 3034 994 3034 1497 \r\nQ 3034 2003 2786 2293 \r\nQ 2538 2584 2113 2584 \r\nz\r\nM 3366 4563 \r\nL 3366 3988 \r\nQ 3128 4100 2886 4159 \r\nQ 2644 4219 2406 4219 \r\nQ 1781 4219 1451 3797 \r\nQ 1122 3375 1075 2522 \r\nQ 1259 2794 1537 2939 \r\nQ 1816 3084 2150 3084 \r\nQ 2853 3084 3261 2657 \r\nQ 3669 2231 3669 1497 \r\nQ 3669 778 3244 343 \r\nQ 2819 -91 2113 -91 \r\nQ 1303 -91 875 529 \r\nQ 447 1150 447 2328 \r\nQ 447 3434 972 4092 \r\nQ 1497 4750 2381 4750 \r\nQ 2619 4750 2861 4703 \r\nQ 3103 4656 3366 4563 \r\nz\r\n\" id=\"DejaVuSans-36\" transform=\"scale(0.015625)\"/>\r\n       </defs>\r\n       <use xlink:href=\"#DejaVuSans-36\"/>\r\n       <use x=\"63.623047\" xlink:href=\"#DejaVuSans-30\"/>\r\n       <use x=\"127.246094\" xlink:href=\"#DejaVuSans-30\"/>\r\n       <use x=\"190.869141\" xlink:href=\"#DejaVuSans-30\"/>\r\n      </g>\r\n     </g>\r\n    </g>\r\n   </g>\r\n   <g id=\"line2d_23\">\r\n    <path clip-path=\"url(#pe61bfc47fa)\" d=\"M 54.868182 17.083636 \r\nL 76.608442 214.351711 \r\nL 98.348701 214.115664 \r\nL 120.088961 123.473513 \r\nL 141.829221 43.925583 \r\nL 163.569481 184.10394 \r\nL 185.30974 214.554037 \r\nL 207.05 214.688922 \r\nL 228.79026 214.688922 \r\nL 250.530519 211.620307 \r\nL 272.270779 209.293555 \r\nL 294.011039 214.250548 \r\nL 315.751299 212.800543 \r\nL 337.491558 214.756364 \r\nL 359.231818 211.519144 \r\n\" style=\"fill:none;stroke:#1f77b4;stroke-linecap:square;stroke-width:1.5;\"/>\r\n   </g>\r\n   <g id=\"patch_3\">\r\n    <path d=\"M 39.65 224.64 \r\nL 39.65 7.2 \r\n\" style=\"fill:none;stroke:#000000;stroke-linecap:square;stroke-linejoin:miter;stroke-width:0.8;\"/>\r\n   </g>\r\n   <g id=\"patch_4\">\r\n    <path d=\"M 374.45 224.64 \r\nL 374.45 7.2 \r\n\" style=\"fill:none;stroke:#000000;stroke-linecap:square;stroke-linejoin:miter;stroke-width:0.8;\"/>\r\n   </g>\r\n   <g id=\"patch_5\">\r\n    <path d=\"M 39.65 224.64 \r\nL 374.45 224.64 \r\n\" style=\"fill:none;stroke:#000000;stroke-linecap:square;stroke-linejoin:miter;stroke-width:0.8;\"/>\r\n   </g>\r\n   <g id=\"patch_6\">\r\n    <path d=\"M 39.65 7.2 \r\nL 374.45 7.2 \r\n\" style=\"fill:none;stroke:#000000;stroke-linecap:square;stroke-linejoin:miter;stroke-width:0.8;\"/>\r\n   </g>\r\n  </g>\r\n </g>\r\n <defs>\r\n  <clipPath id=\"pe61bfc47fa\">\r\n   <rect height=\"217.44\" width=\"334.8\" x=\"39.65\" y=\"7.2\"/>\r\n  </clipPath>\r\n </defs>\r\n</svg>\r\n",
      "image/png": "[encoded data removed]"
     },
     "metadata": {
      "needs_background": "light"
     }
    }
   ],
   "source": [
    "plt.plot(df.nunique())"
   ]
  },
  {
   "cell_type": "code",
   "execution_count": 10,
   "metadata": {},
   "outputs": [],
   "source": [
    "# Need to remap deal_stage unique values since there seem to be some duplicate entries\n",
    "\n",
    "# Convert next_reachout_date to date format\n",
    "\n",
    "# Data Type Conversion\n",
    "\n",
    "# Missing Value Treatment\n",
    "\n",
    "# Outlier Treatment\n",
    "\n",
    "# Create New Features: Categorical and Continuous\n",
    "\n",
    "# Univariate Report\n",
    "\n",
    "# Bivariate Report\n",
    "\n",
    "# Multivariate Report\n"
   ]
  },
  {
   "cell_type": "code",
   "execution_count": 11,
   "metadata": {},
   "outputs": [
    {
     "output_type": "execute_result",
     "data": {
      "text/plain": [
       "           id owner     deal_stage          updated_at        created_at  \\\n",
       "0  2001640758    DJ            Won    12/03/2018 21:57  01/03/2018 16:55   \n",
       "1  2001652776   AIB            Won    09/10/2020 11:48  01/08/2018 12:31   \n",
       "2  2001652912    JM  Deal Deferred    07/01/2020 11:43  01/08/2018 14:22   \n",
       "3  2001653793   NaN           Lost      12/14/18 16:11  01/08/2018 20:37   \n",
       "4  2001653901    JM           Lost  9-21-2020 18:34:00  01/08/2018 20:44   \n",
       "\n",
       "   age_in_days deferred_reason not_interested_reasons no_requirement_reasons  \\\n",
       "0           18             NaN                    NaN                    NaN   \n",
       "1          612             NaN                    NaN                    NaN   \n",
       "2         1167             NaN                    NaN                    NaN   \n",
       "3            8             NaN                    NaN                    NaN   \n",
       "4           87             NaN                    NaN                    NaN   \n",
       "\n",
       "   next_reach_out_date comments source_of_the_deal head_office_city country  \\\n",
       "0                  NaN      NaN       POS Partners        Bangalore   India   \n",
       "1                  NaN      NaN              Phone        Bangalore   India   \n",
       "2                  NaN      NaN       POS Partners        Hyderabad   India   \n",
       "3                  NaN      NaN    Cold call/email        Bangalore   India   \n",
       "4                  NaN      NaN    Cold call/email             Pune   India   \n",
       "\n",
       "   number_of_outlets  \n",
       "0                  1  \n",
       "1                 69  \n",
       "2                  1  \n",
       "3                  1  \n",
       "4                  1  "
      ],
      "text/html": "<div>\n<style scoped>\n    .dataframe tbody tr th:only-of-type {\n        vertical-align: middle;\n    }\n\n    .dataframe tbody tr th {\n        vertical-align: top;\n    }\n\n    .dataframe thead th {\n        text-align: right;\n    }\n</style>\n<table border=\"1\" class=\"dataframe\">\n  <thead>\n    <tr style=\"text-align: right;\">\n      <th></th>\n      <th>id</th>\n      <th>owner</th>\n      <th>deal_stage</th>\n      <th>updated_at</th>\n      <th>created_at</th>\n      <th>age_in_days</th>\n      <th>deferred_reason</th>\n      <th>not_interested_reasons</th>\n      <th>no_requirement_reasons</th>\n      <th>next_reach_out_date</th>\n      <th>comments</th>\n      <th>source_of_the_deal</th>\n      <th>head_office_city</th>\n      <th>country</th>\n      <th>number_of_outlets</th>\n    </tr>\n  </thead>\n  <tbody>\n    <tr>\n      <th>0</th>\n      <td>2001640758</td>\n      <td>DJ</td>\n      <td>Won</td>\n      <td>12/03/2018 21:57</td>\n      <td>01/03/2018 16:55</td>\n      <td>18</td>\n      <td>NaN</td>\n      <td>NaN</td>\n      <td>NaN</td>\n      <td>NaN</td>\n      <td>NaN</td>\n      <td>POS Partners</td>\n      <td>Bangalore</td>\n      <td>India</td>\n      <td>1</td>\n    </tr>\n    <tr>\n      <th>1</th>\n      <td>2001652776</td>\n      <td>AIB</td>\n      <td>Won</td>\n      <td>09/10/2020 11:48</td>\n      <td>01/08/2018 12:31</td>\n      <td>612</td>\n      <td>NaN</td>\n      <td>NaN</td>\n      <td>NaN</td>\n      <td>NaN</td>\n      <td>NaN</td>\n      <td>Phone</td>\n      <td>Bangalore</td>\n      <td>India</td>\n      <td>69</td>\n    </tr>\n    <tr>\n      <th>2</th>\n      <td>2001652912</td>\n      <td>JM</td>\n      <td>Deal Deferred</td>\n      <td>07/01/2020 11:43</td>\n      <td>01/08/2018 14:22</td>\n      <td>1167</td>\n      <td>NaN</td>\n      <td>NaN</td>\n      <td>NaN</td>\n      <td>NaN</td>\n      <td>NaN</td>\n      <td>POS Partners</td>\n      <td>Hyderabad</td>\n      <td>India</td>\n      <td>1</td>\n    </tr>\n    <tr>\n      <th>3</th>\n      <td>2001653793</td>\n      <td>NaN</td>\n      <td>Lost</td>\n      <td>12/14/18 16:11</td>\n      <td>01/08/2018 20:37</td>\n      <td>8</td>\n      <td>NaN</td>\n      <td>NaN</td>\n      <td>NaN</td>\n      <td>NaN</td>\n      <td>NaN</td>\n      <td>Cold call/email</td>\n      <td>Bangalore</td>\n      <td>India</td>\n      <td>1</td>\n    </tr>\n    <tr>\n      <th>4</th>\n      <td>2001653901</td>\n      <td>JM</td>\n      <td>Lost</td>\n      <td>9-21-2020 18:34:00</td>\n      <td>01/08/2018 20:44</td>\n      <td>87</td>\n      <td>NaN</td>\n      <td>NaN</td>\n      <td>NaN</td>\n      <td>NaN</td>\n      <td>NaN</td>\n      <td>Cold call/email</td>\n      <td>Pune</td>\n      <td>India</td>\n      <td>1</td>\n    </tr>\n  </tbody>\n</table>\n</div>"
     },
     "metadata": {},
     "execution_count": 11
    }
   ],
   "source": [
    "df.head'()"
   ]
  },
  {
   "cell_type": "code",
   "execution_count": 21,
   "metadata": {},
   "outputs": [
    {
     "output_type": "stream",
     "name": "stdout",
     "text": [
      "count    5863.000000\nmean       16.413781\nstd         1.884781\nmin        13.000000\n25%        16.000000\n50%        16.000000\n75%        18.000000\nmax        19.000000\nName: updated_at, dtype: float64\n"
     ]
    }
   ],
   "source": [
    "print(df[\"updated_at\"].str.len().describe())"
   ]
  },
  {
   "cell_type": "code",
   "execution_count": 25,
   "metadata": {},
   "outputs": [
    {
     "output_type": "execute_result",
     "data": {
      "text/plain": [
       "0    16\n",
       "1    16\n",
       "2    16\n",
       "3    14\n",
       "4    18\n",
       "Name: updated_at, dtype: int64"
      ]
     },
     "metadata": {},
     "execution_count": 25
    }
   ],
   "source": [
    "df[\"updated_at\"].str.len().head()"
   ]
  },
  {
   "cell_type": "code",
   "execution_count": 30,
   "metadata": {},
   "outputs": [
    {
     "output_type": "execute_result",
     "data": {
      "text/plain": [
       "           id owner     deal_stage          updated_at        created_at  \\\n",
       "0  2001640758    DJ            Won    12/03/2018 21:57  01/03/2018 16:55   \n",
       "1  2001652776   AIB            Won    09/10/2020 11:48  01/08/2018 12:31   \n",
       "2  2001652912    JM  Deal Deferred    07/01/2020 11:43  01/08/2018 14:22   \n",
       "3  2001653793   NaN           Lost      12/14/18 16:11  01/08/2018 20:37   \n",
       "4  2001653901    JM           Lost  9-21-2020 18:34:00  01/08/2018 20:44   \n",
       "\n",
       "   age_in_days deferred_reason not_interested_reasons no_requirement_reasons  \\\n",
       "0           18             NaN                    NaN                    NaN   \n",
       "1          612             NaN                    NaN                    NaN   \n",
       "2         1167             NaN                    NaN                    NaN   \n",
       "3            8             NaN                    NaN                    NaN   \n",
       "4           87             NaN                    NaN                    NaN   \n",
       "\n",
       "   next_reach_out_date comments source_of_the_deal head_office_city country  \\\n",
       "0                  NaN      NaN       POS Partners        Bangalore   India   \n",
       "1                  NaN      NaN              Phone        Bangalore   India   \n",
       "2                  NaN      NaN       POS Partners        Hyderabad   India   \n",
       "3                  NaN      NaN    Cold call/email        Bangalore   India   \n",
       "4                  NaN      NaN    Cold call/email             Pune   India   \n",
       "\n",
       "   number_of_outlets  \n",
       "0                  1  \n",
       "1                 69  \n",
       "2                  1  \n",
       "3                  1  \n",
       "4                  1  "
      ],
      "text/html": "<div>\n<style scoped>\n    .dataframe tbody tr th:only-of-type {\n        vertical-align: middle;\n    }\n\n    .dataframe tbody tr th {\n        vertical-align: top;\n    }\n\n    .dataframe thead th {\n        text-align: right;\n    }\n</style>\n<table border=\"1\" class=\"dataframe\">\n  <thead>\n    <tr style=\"text-align: right;\">\n      <th></th>\n      <th>id</th>\n      <th>owner</th>\n      <th>deal_stage</th>\n      <th>updated_at</th>\n      <th>created_at</th>\n      <th>age_in_days</th>\n      <th>deferred_reason</th>\n      <th>not_interested_reasons</th>\n      <th>no_requirement_reasons</th>\n      <th>next_reach_out_date</th>\n      <th>comments</th>\n      <th>source_of_the_deal</th>\n      <th>head_office_city</th>\n      <th>country</th>\n      <th>number_of_outlets</th>\n    </tr>\n  </thead>\n  <tbody>\n    <tr>\n      <th>0</th>\n      <td>2001640758</td>\n      <td>DJ</td>\n      <td>Won</td>\n      <td>12/03/2018 21:57</td>\n      <td>01/03/2018 16:55</td>\n      <td>18</td>\n      <td>NaN</td>\n      <td>NaN</td>\n      <td>NaN</td>\n      <td>NaN</td>\n      <td>NaN</td>\n      <td>POS Partners</td>\n      <td>Bangalore</td>\n      <td>India</td>\n      <td>1</td>\n    </tr>\n    <tr>\n      <th>1</th>\n      <td>2001652776</td>\n      <td>AIB</td>\n      <td>Won</td>\n      <td>09/10/2020 11:48</td>\n      <td>01/08/2018 12:31</td>\n      <td>612</td>\n      <td>NaN</td>\n      <td>NaN</td>\n      <td>NaN</td>\n      <td>NaN</td>\n      <td>NaN</td>\n      <td>Phone</td>\n      <td>Bangalore</td>\n      <td>India</td>\n      <td>69</td>\n    </tr>\n    <tr>\n      <th>2</th>\n      <td>2001652912</td>\n      <td>JM</td>\n      <td>Deal Deferred</td>\n      <td>07/01/2020 11:43</td>\n      <td>01/08/2018 14:22</td>\n      <td>1167</td>\n      <td>NaN</td>\n      <td>NaN</td>\n      <td>NaN</td>\n      <td>NaN</td>\n      <td>NaN</td>\n      <td>POS Partners</td>\n      <td>Hyderabad</td>\n      <td>India</td>\n      <td>1</td>\n    </tr>\n    <tr>\n      <th>3</th>\n      <td>2001653793</td>\n      <td>NaN</td>\n      <td>Lost</td>\n      <td>12/14/18 16:11</td>\n      <td>01/08/2018 20:37</td>\n      <td>8</td>\n      <td>NaN</td>\n      <td>NaN</td>\n      <td>NaN</td>\n      <td>NaN</td>\n      <td>NaN</td>\n      <td>Cold call/email</td>\n      <td>Bangalore</td>\n      <td>India</td>\n      <td>1</td>\n    </tr>\n    <tr>\n      <th>4</th>\n      <td>2001653901</td>\n      <td>JM</td>\n      <td>Lost</td>\n      <td>9-21-2020 18:34:00</td>\n      <td>01/08/2018 20:44</td>\n      <td>87</td>\n      <td>NaN</td>\n      <td>NaN</td>\n      <td>NaN</td>\n      <td>NaN</td>\n      <td>NaN</td>\n      <td>Cold call/email</td>\n      <td>Pune</td>\n      <td>India</td>\n      <td>1</td>\n    </tr>\n  </tbody>\n</table>\n</div>"
     },
     "metadata": {},
     "execution_count": 30
    }
   ],
   "source": [
    "df.head()"
   ]
  },
  {
   "cell_type": "code",
   "execution_count": 33,
   "metadata": {},
   "outputs": [
    {
     "output_type": "execute_result",
     "data": {
      "text/plain": [
       "              id owner\n",
       "0     2001640758    DJ\n",
       "1     2001652776   AIB\n",
       "2     2001652912    JM\n",
       "3     2001653793   NaN\n",
       "4     2001653901    JM\n",
       "...          ...   ...\n",
       "5858  2005009216   JHM\n",
       "5859  2005035696    DS\n",
       "5860  2005038080    PN\n",
       "5861  2005053100   MPS\n",
       "5862  2005065468    MJ\n",
       "\n",
       "[5863 rows x 2 columns]"
      ],
      "text/html": "<div>\n<style scoped>\n    .dataframe tbody tr th:only-of-type {\n        vertical-align: middle;\n    }\n\n    .dataframe tbody tr th {\n        vertical-align: top;\n    }\n\n    .dataframe thead th {\n        text-align: right;\n    }\n</style>\n<table border=\"1\" class=\"dataframe\">\n  <thead>\n    <tr style=\"text-align: right;\">\n      <th></th>\n      <th>id</th>\n      <th>owner</th>\n    </tr>\n  </thead>\n  <tbody>\n    <tr>\n      <th>0</th>\n      <td>2001640758</td>\n      <td>DJ</td>\n    </tr>\n    <tr>\n      <th>1</th>\n      <td>2001652776</td>\n      <td>AIB</td>\n    </tr>\n    <tr>\n      <th>2</th>\n      <td>2001652912</td>\n      <td>JM</td>\n    </tr>\n    <tr>\n      <th>3</th>\n      <td>2001653793</td>\n      <td>NaN</td>\n    </tr>\n    <tr>\n      <th>4</th>\n      <td>2001653901</td>\n      <td>JM</td>\n    </tr>\n    <tr>\n      <th>...</th>\n      <td>...</td>\n      <td>...</td>\n    </tr>\n    <tr>\n      <th>5858</th>\n      <td>2005009216</td>\n      <td>JHM</td>\n    </tr>\n    <tr>\n      <th>5859</th>\n      <td>2005035696</td>\n      <td>DS</td>\n    </tr>\n    <tr>\n      <th>5860</th>\n      <td>2005038080</td>\n      <td>PN</td>\n    </tr>\n    <tr>\n      <th>5861</th>\n      <td>2005053100</td>\n      <td>MPS</td>\n    </tr>\n    <tr>\n      <th>5862</th>\n      <td>2005065468</td>\n      <td>MJ</td>\n    </tr>\n  </tbody>\n</table>\n<p>5863 rows × 2 columns</p>\n</div>"
     },
     "metadata": {},
     "execution_count": 33
    }
   ],
   "source": [
    "df[[\"id\", \"owner\"]]"
   ]
  },
  {
   "cell_type": "code",
   "execution_count": 37,
   "metadata": {},
   "outputs": [],
   "source": [
    "df1 = df[[\"id\", \"updated_at\"]].copy()"
   ]
  },
  {
   "cell_type": "code",
   "execution_count": 38,
   "metadata": {},
   "outputs": [
    {
     "output_type": "execute_result",
     "data": {
      "text/plain": [
       "           id          updated_at\n",
       "0  2001640758    12/03/2018 21:57\n",
       "1  2001652776    09/10/2020 11:48\n",
       "2  2001652912    07/01/2020 11:43\n",
       "3  2001653793      12/14/18 16:11\n",
       "4  2001653901  9-21-2020 18:34:00"
      ],
      "text/html": "<div>\n<style scoped>\n    .dataframe tbody tr th:only-of-type {\n        vertical-align: middle;\n    }\n\n    .dataframe tbody tr th {\n        vertical-align: top;\n    }\n\n    .dataframe thead th {\n        text-align: right;\n    }\n</style>\n<table border=\"1\" class=\"dataframe\">\n  <thead>\n    <tr style=\"text-align: right;\">\n      <th></th>\n      <th>id</th>\n      <th>updated_at</th>\n    </tr>\n  </thead>\n  <tbody>\n    <tr>\n      <th>0</th>\n      <td>2001640758</td>\n      <td>12/03/2018 21:57</td>\n    </tr>\n    <tr>\n      <th>1</th>\n      <td>2001652776</td>\n      <td>09/10/2020 11:48</td>\n    </tr>\n    <tr>\n      <th>2</th>\n      <td>2001652912</td>\n      <td>07/01/2020 11:43</td>\n    </tr>\n    <tr>\n      <th>3</th>\n      <td>2001653793</td>\n      <td>12/14/18 16:11</td>\n    </tr>\n    <tr>\n      <th>4</th>\n      <td>2001653901</td>\n      <td>9-21-2020 18:34:00</td>\n    </tr>\n  </tbody>\n</table>\n</div>"
     },
     "metadata": {},
     "execution_count": 38
    }
   ],
   "source": [
    "df1.head()"
   ]
  },
  {
   "cell_type": "code",
   "execution_count": 39,
   "metadata": {},
   "outputs": [],
   "source": [
    "df1[\"updated_at_len\"] = df1.updated_at.str.len()"
   ]
  },
  {
   "cell_type": "code",
   "execution_count": 40,
   "metadata": {},
   "outputs": [
    {
     "output_type": "execute_result",
     "data": {
      "text/plain": [
       "           id          updated_at  updated_at_len\n",
       "0  2001640758    12/03/2018 21:57              16\n",
       "1  2001652776    09/10/2020 11:48              16\n",
       "2  2001652912    07/01/2020 11:43              16\n",
       "3  2001653793      12/14/18 16:11              14\n",
       "4  2001653901  9-21-2020 18:34:00              18"
      ],
      "text/html": "<div>\n<style scoped>\n    .dataframe tbody tr th:only-of-type {\n        vertical-align: middle;\n    }\n\n    .dataframe tbody tr th {\n        vertical-align: top;\n    }\n\n    .dataframe thead th {\n        text-align: right;\n    }\n</style>\n<table border=\"1\" class=\"dataframe\">\n  <thead>\n    <tr style=\"text-align: right;\">\n      <th></th>\n      <th>id</th>\n      <th>updated_at</th>\n      <th>updated_at_len</th>\n    </tr>\n  </thead>\n  <tbody>\n    <tr>\n      <th>0</th>\n      <td>2001640758</td>\n      <td>12/03/2018 21:57</td>\n      <td>16</td>\n    </tr>\n    <tr>\n      <th>1</th>\n      <td>2001652776</td>\n      <td>09/10/2020 11:48</td>\n      <td>16</td>\n    </tr>\n    <tr>\n      <th>2</th>\n      <td>2001652912</td>\n      <td>07/01/2020 11:43</td>\n      <td>16</td>\n    </tr>\n    <tr>\n      <th>3</th>\n      <td>2001653793</td>\n      <td>12/14/18 16:11</td>\n      <td>14</td>\n    </tr>\n    <tr>\n      <th>4</th>\n      <td>2001653901</td>\n      <td>9-21-2020 18:34:00</td>\n      <td>18</td>\n    </tr>\n  </tbody>\n</table>\n</div>"
     },
     "metadata": {},
     "execution_count": 40
    }
   ],
   "source": [
    "df1.head()"
   ]
  },
  {
   "cell_type": "code",
   "execution_count": 41,
   "metadata": {},
   "outputs": [
    {
     "output_type": "execute_result",
     "data": {
      "text/plain": [
       "count    5863.000000\n",
       "mean       16.413781\n",
       "std         1.884781\n",
       "min        13.000000\n",
       "25%        16.000000\n",
       "50%        16.000000\n",
       "75%        18.000000\n",
       "max        19.000000\n",
       "Name: updated_at_len, dtype: float64"
      ]
     },
     "metadata": {},
     "execution_count": 41
    }
   ],
   "source": [
    "df1.updated_at_len.describe()"
   ]
  },
  {
   "cell_type": "code",
   "execution_count": 44,
   "metadata": {},
   "outputs": [
    {
     "output_type": "execute_result",
     "data": {
      "text/plain": [
       "              id     updated_at  updated_at_len\n",
       "89    2002726706  01/14/21 6:24              13\n",
       "152   2003425383  01/14/21 6:25              13\n",
       "266   2004520437  10/22/20 8:34              13\n",
       "285   2004637009  01/14/21 6:27              13\n",
       "312   2004813968  01/14/21 6:28              13\n",
       "...          ...            ...             ...\n",
       "5779  2004648250  01/14/21 6:27              13\n",
       "5796  2004703336  01/14/21 6:28              13\n",
       "5797  2004717126  02/26/21 9:57              13\n",
       "5799  2004726567  01/14/21 6:28              13\n",
       "5844  2004901288  01/14/21 6:28              13\n",
       "\n",
       "[226 rows x 3 columns]"
      ],
      "text/html": "<div>\n<style scoped>\n    .dataframe tbody tr th:only-of-type {\n        vertical-align: middle;\n    }\n\n    .dataframe tbody tr th {\n        vertical-align: top;\n    }\n\n    .dataframe thead th {\n        text-align: right;\n    }\n</style>\n<table border=\"1\" class=\"dataframe\">\n  <thead>\n    <tr style=\"text-align: right;\">\n      <th></th>\n      <th>id</th>\n      <th>updated_at</th>\n      <th>updated_at_len</th>\n    </tr>\n  </thead>\n  <tbody>\n    <tr>\n      <th>89</th>\n      <td>2002726706</td>\n      <td>01/14/21 6:24</td>\n      <td>13</td>\n    </tr>\n    <tr>\n      <th>152</th>\n      <td>2003425383</td>\n      <td>01/14/21 6:25</td>\n      <td>13</td>\n    </tr>\n    <tr>\n      <th>266</th>\n      <td>2004520437</td>\n      <td>10/22/20 8:34</td>\n      <td>13</td>\n    </tr>\n    <tr>\n      <th>285</th>\n      <td>2004637009</td>\n      <td>01/14/21 6:27</td>\n      <td>13</td>\n    </tr>\n    <tr>\n      <th>312</th>\n      <td>2004813968</td>\n      <td>01/14/21 6:28</td>\n      <td>13</td>\n    </tr>\n    <tr>\n      <th>...</th>\n      <td>...</td>\n      <td>...</td>\n      <td>...</td>\n    </tr>\n    <tr>\n      <th>5779</th>\n      <td>2004648250</td>\n      <td>01/14/21 6:27</td>\n      <td>13</td>\n    </tr>\n    <tr>\n      <th>5796</th>\n      <td>2004703336</td>\n      <td>01/14/21 6:28</td>\n      <td>13</td>\n    </tr>\n    <tr>\n      <th>5797</th>\n      <td>2004717126</td>\n      <td>02/26/21 9:57</td>\n      <td>13</td>\n    </tr>\n    <tr>\n      <th>5799</th>\n      <td>2004726567</td>\n      <td>01/14/21 6:28</td>\n      <td>13</td>\n    </tr>\n    <tr>\n      <th>5844</th>\n      <td>2004901288</td>\n      <td>01/14/21 6:28</td>\n      <td>13</td>\n    </tr>\n  </tbody>\n</table>\n<p>226 rows × 3 columns</p>\n</div>"
     },
     "metadata": {},
     "execution_count": 44
    }
   ],
   "source": [
    "df1[df1.updated_at_len==13]"
   ]
  },
  {
   "cell_type": "code",
   "execution_count": 45,
   "metadata": {},
   "outputs": [
    {
     "output_type": "execute_result",
     "data": {
      "text/plain": [
       "              id      updated_at  updated_at_len\n",
       "3     2001653793  12/14/18 16:11              14\n",
       "9     2001725131  12/14/18 16:10              14\n",
       "13    2001751823  09/21/20 18:37              14\n",
       "23    2001959788  01/20/21 17:24              14\n",
       "24    2002014924  09/14/20 10:20              14\n",
       "...          ...             ...             ...\n",
       "5826  2004883982  12/21/20 22:22              14\n",
       "5829  2004884056  12/16/20 14:20              14\n",
       "5839  2004890120  02/16/21 19:02              14\n",
       "5848  2004914645  12/16/20 18:26              14\n",
       "5850  2004914660  12/16/20 18:26              14\n",
       "\n",
       "[1183 rows x 3 columns]"
      ],
      "text/html": "<div>\n<style scoped>\n    .dataframe tbody tr th:only-of-type {\n        vertical-align: middle;\n    }\n\n    .dataframe tbody tr th {\n        vertical-align: top;\n    }\n\n    .dataframe thead th {\n        text-align: right;\n    }\n</style>\n<table border=\"1\" class=\"dataframe\">\n  <thead>\n    <tr style=\"text-align: right;\">\n      <th></th>\n      <th>id</th>\n      <th>updated_at</th>\n      <th>updated_at_len</th>\n    </tr>\n  </thead>\n  <tbody>\n    <tr>\n      <th>3</th>\n      <td>2001653793</td>\n      <td>12/14/18 16:11</td>\n      <td>14</td>\n    </tr>\n    <tr>\n      <th>9</th>\n      <td>2001725131</td>\n      <td>12/14/18 16:10</td>\n      <td>14</td>\n    </tr>\n    <tr>\n      <th>13</th>\n      <td>2001751823</td>\n      <td>09/21/20 18:37</td>\n      <td>14</td>\n    </tr>\n    <tr>\n      <th>23</th>\n      <td>2001959788</td>\n      <td>01/20/21 17:24</td>\n      <td>14</td>\n    </tr>\n    <tr>\n      <th>24</th>\n      <td>2002014924</td>\n      <td>09/14/20 10:20</td>\n      <td>14</td>\n    </tr>\n    <tr>\n      <th>...</th>\n      <td>...</td>\n      <td>...</td>\n      <td>...</td>\n    </tr>\n    <tr>\n      <th>5826</th>\n      <td>2004883982</td>\n      <td>12/21/20 22:22</td>\n      <td>14</td>\n    </tr>\n    <tr>\n      <th>5829</th>\n      <td>2004884056</td>\n      <td>12/16/20 14:20</td>\n      <td>14</td>\n    </tr>\n    <tr>\n      <th>5839</th>\n      <td>2004890120</td>\n      <td>02/16/21 19:02</td>\n      <td>14</td>\n    </tr>\n    <tr>\n      <th>5848</th>\n      <td>2004914645</td>\n      <td>12/16/20 18:26</td>\n      <td>14</td>\n    </tr>\n    <tr>\n      <th>5850</th>\n      <td>2004914660</td>\n      <td>12/16/20 18:26</td>\n      <td>14</td>\n    </tr>\n  </tbody>\n</table>\n<p>1183 rows × 3 columns</p>\n</div>"
     },
     "metadata": {},
     "execution_count": 45
    }
   ],
   "source": [
    "df1[df1.updated_at_len==14]"
   ]
  },
  {
   "cell_type": "code",
   "execution_count": 46,
   "metadata": {},
   "outputs": [
    {
     "output_type": "execute_result",
     "data": {
      "text/plain": [
       "Empty DataFrame\n",
       "Columns: [id, updated_at, updated_at_len]\n",
       "Index: []"
      ],
      "text/html": "<div>\n<style scoped>\n    .dataframe tbody tr th:only-of-type {\n        vertical-align: middle;\n    }\n\n    .dataframe tbody tr th {\n        vertical-align: top;\n    }\n\n    .dataframe thead th {\n        text-align: right;\n    }\n</style>\n<table border=\"1\" class=\"dataframe\">\n  <thead>\n    <tr style=\"text-align: right;\">\n      <th></th>\n      <th>id</th>\n      <th>updated_at</th>\n      <th>updated_at_len</th>\n    </tr>\n  </thead>\n  <tbody>\n  </tbody>\n</table>\n</div>"
     },
     "metadata": {},
     "execution_count": 46
    }
   ],
   "source": [
    "df1[df1.updated_at_len==15]"
   ]
  },
  {
   "cell_type": "code",
   "execution_count": 47,
   "metadata": {},
   "outputs": [
    {
     "output_type": "execute_result",
     "data": {
      "text/plain": [
       "              id        updated_at  updated_at_len\n",
       "0     2001640758  12/03/2018 21:57              16\n",
       "1     2001652776  09/10/2020 11:48              16\n",
       "2     2001652912  07/01/2020 11:43              16\n",
       "5     2001664712  12/03/2018 21:57              16\n",
       "6     2001671568  12/07/2020 17:37              16\n",
       "...          ...               ...             ...\n",
       "5855  2004955840  02/02/2021 10:23              16\n",
       "5857  2004969909  03/02/2021 12:29              16\n",
       "5858  2005009216  03/02/2021 08:57              16\n",
       "5859  2005035696  03/09/2021 17:51              16\n",
       "5861  2005053100  03/12/2021 23:18              16\n",
       "\n",
       "[2382 rows x 3 columns]"
      ],
      "text/html": "<div>\n<style scoped>\n    .dataframe tbody tr th:only-of-type {\n        vertical-align: middle;\n    }\n\n    .dataframe tbody tr th {\n        vertical-align: top;\n    }\n\n    .dataframe thead th {\n        text-align: right;\n    }\n</style>\n<table border=\"1\" class=\"dataframe\">\n  <thead>\n    <tr style=\"text-align: right;\">\n      <th></th>\n      <th>id</th>\n      <th>updated_at</th>\n      <th>updated_at_len</th>\n    </tr>\n  </thead>\n  <tbody>\n    <tr>\n      <th>0</th>\n      <td>2001640758</td>\n      <td>12/03/2018 21:57</td>\n      <td>16</td>\n    </tr>\n    <tr>\n      <th>1</th>\n      <td>2001652776</td>\n      <td>09/10/2020 11:48</td>\n      <td>16</td>\n    </tr>\n    <tr>\n      <th>2</th>\n      <td>2001652912</td>\n      <td>07/01/2020 11:43</td>\n      <td>16</td>\n    </tr>\n    <tr>\n      <th>5</th>\n      <td>2001664712</td>\n      <td>12/03/2018 21:57</td>\n      <td>16</td>\n    </tr>\n    <tr>\n      <th>6</th>\n      <td>2001671568</td>\n      <td>12/07/2020 17:37</td>\n      <td>16</td>\n    </tr>\n    <tr>\n      <th>...</th>\n      <td>...</td>\n      <td>...</td>\n      <td>...</td>\n    </tr>\n    <tr>\n      <th>5855</th>\n      <td>2004955840</td>\n      <td>02/02/2021 10:23</td>\n      <td>16</td>\n    </tr>\n    <tr>\n      <th>5857</th>\n      <td>2004969909</td>\n      <td>03/02/2021 12:29</td>\n      <td>16</td>\n    </tr>\n    <tr>\n      <th>5858</th>\n      <td>2005009216</td>\n      <td>03/02/2021 08:57</td>\n      <td>16</td>\n    </tr>\n    <tr>\n      <th>5859</th>\n      <td>2005035696</td>\n      <td>03/09/2021 17:51</td>\n      <td>16</td>\n    </tr>\n    <tr>\n      <th>5861</th>\n      <td>2005053100</td>\n      <td>03/12/2021 23:18</td>\n      <td>16</td>\n    </tr>\n  </tbody>\n</table>\n<p>2382 rows × 3 columns</p>\n</div>"
     },
     "metadata": {},
     "execution_count": 47
    }
   ],
   "source": [
    "df1[df1.updated_at_len==16]"
   ]
  },
  {
   "cell_type": "code",
   "execution_count": 48,
   "metadata": {},
   "outputs": [
    {
     "output_type": "execute_result",
     "data": {
      "text/plain": [
       "              id         updated_at  updated_at_len\n",
       "143   2003284065  1-14-2021 6:25:00              17\n",
       "202   2003885366  1-29-2021 0:01:00              17\n",
       "275   2004571344  1-14-2021 6:27:00              17\n",
       "300   2004691201  1-14-2021 6:28:00              17\n",
       "433   2002557442  1-14-2021 6:24:00              17\n",
       "...          ...                ...             ...\n",
       "5663  2001838857  1-14-2021 6:23:00              17\n",
       "5754  2004268323  1-14-2021 6:26:00              17\n",
       "5765  2004550461  1-14-2021 6:26:00              17\n",
       "5808  2004811940  1-14-2021 6:28:00              17\n",
       "5852  2004933835  2-26-2021 9:59:00              17\n",
       "\n",
       "[72 rows x 3 columns]"
      ],
      "text/html": "<div>\n<style scoped>\n    .dataframe tbody tr th:only-of-type {\n        vertical-align: middle;\n    }\n\n    .dataframe tbody tr th {\n        vertical-align: top;\n    }\n\n    .dataframe thead th {\n        text-align: right;\n    }\n</style>\n<table border=\"1\" class=\"dataframe\">\n  <thead>\n    <tr style=\"text-align: right;\">\n      <th></th>\n      <th>id</th>\n      <th>updated_at</th>\n      <th>updated_at_len</th>\n    </tr>\n  </thead>\n  <tbody>\n    <tr>\n      <th>143</th>\n      <td>2003284065</td>\n      <td>1-14-2021 6:25:00</td>\n      <td>17</td>\n    </tr>\n    <tr>\n      <th>202</th>\n      <td>2003885366</td>\n      <td>1-29-2021 0:01:00</td>\n      <td>17</td>\n    </tr>\n    <tr>\n      <th>275</th>\n      <td>2004571344</td>\n      <td>1-14-2021 6:27:00</td>\n      <td>17</td>\n    </tr>\n    <tr>\n      <th>300</th>\n      <td>2004691201</td>\n      <td>1-14-2021 6:28:00</td>\n      <td>17</td>\n    </tr>\n    <tr>\n      <th>433</th>\n      <td>2002557442</td>\n      <td>1-14-2021 6:24:00</td>\n      <td>17</td>\n    </tr>\n    <tr>\n      <th>...</th>\n      <td>...</td>\n      <td>...</td>\n      <td>...</td>\n    </tr>\n    <tr>\n      <th>5663</th>\n      <td>2001838857</td>\n      <td>1-14-2021 6:23:00</td>\n      <td>17</td>\n    </tr>\n    <tr>\n      <th>5754</th>\n      <td>2004268323</td>\n      <td>1-14-2021 6:26:00</td>\n      <td>17</td>\n    </tr>\n    <tr>\n      <th>5765</th>\n      <td>2004550461</td>\n      <td>1-14-2021 6:26:00</td>\n      <td>17</td>\n    </tr>\n    <tr>\n      <th>5808</th>\n      <td>2004811940</td>\n      <td>1-14-2021 6:28:00</td>\n      <td>17</td>\n    </tr>\n    <tr>\n      <th>5852</th>\n      <td>2004933835</td>\n      <td>2-26-2021 9:59:00</td>\n      <td>17</td>\n    </tr>\n  </tbody>\n</table>\n<p>72 rows × 3 columns</p>\n</div>"
     },
     "metadata": {},
     "execution_count": 48
    }
   ],
   "source": [
    "df1[df1.updated_at_len==17]"
   ]
  },
  {
   "cell_type": "code",
   "execution_count": 49,
   "metadata": {},
   "outputs": [
    {
     "output_type": "execute_result",
     "data": {
      "text/plain": [
       "              id          updated_at  updated_at_len\n",
       "4     2001653901  9-21-2020 18:34:00              18\n",
       "27    2002047336  2-14-2020 12:04:00              18\n",
       "40    2002182827  01-14-2021 6:23:00              18\n",
       "47    2002331829  10-21-2020 1:29:00              18\n",
       "81    2002593730  01-14-2021 6:24:00              18\n",
       "...          ...                 ...             ...\n",
       "5802  2004758683  1-14-2021 20:29:00              18\n",
       "5816  2004831501  2-23-2021 20:50:00              18\n",
       "5835  2004890071  2-19-2021 18:55:00              18\n",
       "5837  2004890096  2-15-2021 20:42:00              18\n",
       "5838  2004890110  2-16-2021 18:59:00              18\n",
       "\n",
       "[602 rows x 3 columns]"
      ],
      "text/html": "<div>\n<style scoped>\n    .dataframe tbody tr th:only-of-type {\n        vertical-align: middle;\n    }\n\n    .dataframe tbody tr th {\n        vertical-align: top;\n    }\n\n    .dataframe thead th {\n        text-align: right;\n    }\n</style>\n<table border=\"1\" class=\"dataframe\">\n  <thead>\n    <tr style=\"text-align: right;\">\n      <th></th>\n      <th>id</th>\n      <th>updated_at</th>\n      <th>updated_at_len</th>\n    </tr>\n  </thead>\n  <tbody>\n    <tr>\n      <th>4</th>\n      <td>2001653901</td>\n      <td>9-21-2020 18:34:00</td>\n      <td>18</td>\n    </tr>\n    <tr>\n      <th>27</th>\n      <td>2002047336</td>\n      <td>2-14-2020 12:04:00</td>\n      <td>18</td>\n    </tr>\n    <tr>\n      <th>40</th>\n      <td>2002182827</td>\n      <td>01-14-2021 6:23:00</td>\n      <td>18</td>\n    </tr>\n    <tr>\n      <th>47</th>\n      <td>2002331829</td>\n      <td>10-21-2020 1:29:00</td>\n      <td>18</td>\n    </tr>\n    <tr>\n      <th>81</th>\n      <td>2002593730</td>\n      <td>01-14-2021 6:24:00</td>\n      <td>18</td>\n    </tr>\n    <tr>\n      <th>...</th>\n      <td>...</td>\n      <td>...</td>\n      <td>...</td>\n    </tr>\n    <tr>\n      <th>5802</th>\n      <td>2004758683</td>\n      <td>1-14-2021 20:29:00</td>\n      <td>18</td>\n    </tr>\n    <tr>\n      <th>5816</th>\n      <td>2004831501</td>\n      <td>2-23-2021 20:50:00</td>\n      <td>18</td>\n    </tr>\n    <tr>\n      <th>5835</th>\n      <td>2004890071</td>\n      <td>2-19-2021 18:55:00</td>\n      <td>18</td>\n    </tr>\n    <tr>\n      <th>5837</th>\n      <td>2004890096</td>\n      <td>2-15-2021 20:42:00</td>\n      <td>18</td>\n    </tr>\n    <tr>\n      <th>5838</th>\n      <td>2004890110</td>\n      <td>2-16-2021 18:59:00</td>\n      <td>18</td>\n    </tr>\n  </tbody>\n</table>\n<p>602 rows × 3 columns</p>\n</div>"
     },
     "metadata": {},
     "execution_count": 49
    }
   ],
   "source": [
    "df1[df1.updated_at_len==18]"
   ]
  },
  {
   "cell_type": "code",
   "execution_count": 50,
   "metadata": {},
   "outputs": [
    {
     "output_type": "execute_result",
     "data": {
      "text/plain": [
       "              id           updated_at  updated_at_len\n",
       "22    2001959672  03-17-2021 19:49:00              19\n",
       "37    2002164911  02-14-2020 12:04:00              19\n",
       "41    2002197780  09-14-2020 10:20:00              19\n",
       "42    2002280399  09-14-2020 10:20:00              19\n",
       "43    2002283152  09-21-2020 18:43:00              19\n",
       "...          ...                  ...             ...\n",
       "5849  2004914659  12-16-2020 18:25:00              19\n",
       "5854  2004946166  02-26-2021 10:04:00              19\n",
       "5856  2004969882  02-26-2021 10:00:00              19\n",
       "5860  2005038080  02-26-2021 16:48:00              19\n",
       "5862  2005065468  03-18-2021 16:22:00              19\n",
       "\n",
       "[1398 rows x 3 columns]"
      ],
      "text/html": "<div>\n<style scoped>\n    .dataframe tbody tr th:only-of-type {\n        vertical-align: middle;\n    }\n\n    .dataframe tbody tr th {\n        vertical-align: top;\n    }\n\n    .dataframe thead th {\n        text-align: right;\n    }\n</style>\n<table border=\"1\" class=\"dataframe\">\n  <thead>\n    <tr style=\"text-align: right;\">\n      <th></th>\n      <th>id</th>\n      <th>updated_at</th>\n      <th>updated_at_len</th>\n    </tr>\n  </thead>\n  <tbody>\n    <tr>\n      <th>22</th>\n      <td>2001959672</td>\n      <td>03-17-2021 19:49:00</td>\n      <td>19</td>\n    </tr>\n    <tr>\n      <th>37</th>\n      <td>2002164911</td>\n      <td>02-14-2020 12:04:00</td>\n      <td>19</td>\n    </tr>\n    <tr>\n      <th>41</th>\n      <td>2002197780</td>\n      <td>09-14-2020 10:20:00</td>\n      <td>19</td>\n    </tr>\n    <tr>\n      <th>42</th>\n      <td>2002280399</td>\n      <td>09-14-2020 10:20:00</td>\n      <td>19</td>\n    </tr>\n    <tr>\n      <th>43</th>\n      <td>2002283152</td>\n      <td>09-21-2020 18:43:00</td>\n      <td>19</td>\n    </tr>\n    <tr>\n      <th>...</th>\n      <td>...</td>\n      <td>...</td>\n      <td>...</td>\n    </tr>\n    <tr>\n      <th>5849</th>\n      <td>2004914659</td>\n      <td>12-16-2020 18:25:00</td>\n      <td>19</td>\n    </tr>\n    <tr>\n      <th>5854</th>\n      <td>2004946166</td>\n      <td>02-26-2021 10:04:00</td>\n      <td>19</td>\n    </tr>\n    <tr>\n      <th>5856</th>\n      <td>2004969882</td>\n      <td>02-26-2021 10:00:00</td>\n      <td>19</td>\n    </tr>\n    <tr>\n      <th>5860</th>\n      <td>2005038080</td>\n      <td>02-26-2021 16:48:00</td>\n      <td>19</td>\n    </tr>\n    <tr>\n      <th>5862</th>\n      <td>2005065468</td>\n      <td>03-18-2021 16:22:00</td>\n      <td>19</td>\n    </tr>\n  </tbody>\n</table>\n<p>1398 rows × 3 columns</p>\n</div>"
     },
     "metadata": {},
     "execution_count": 50
    }
   ],
   "source": [
    "df1[df1.updated_at_len==19]"
   ]
  },
  {
   "cell_type": "code",
   "execution_count": 52,
   "metadata": {},
   "outputs": [
    {
     "output_type": "execute_result",
     "data": {
      "text/plain": [
       "id                          int64\n",
       "owner                      object\n",
       "deal_stage                 object\n",
       "updated_at                 object\n",
       "created_at                 object\n",
       "age_in_days                 int64\n",
       "deferred_reason            object\n",
       "not_interested_reasons     object\n",
       "no_requirement_reasons     object\n",
       "next_reach_out_date       float64\n",
       "comments                   object\n",
       "source_of_the_deal         object\n",
       "head_office_city           object\n",
       "country                    object\n",
       "number_of_outlets           int64\n",
       "dtype: object"
      ]
     },
     "metadata": {},
     "execution_count": 52
    }
   ],
   "source": [
    "df.dtypes"
   ]
  },
  {
   "cell_type": "code",
   "execution_count": 53,
   "metadata": {},
   "outputs": [
    {
     "output_type": "execute_result",
     "data": {
      "text/plain": [
       "0      2018-12-03 21:57:00\n",
       "1      2020-09-10 11:48:00\n",
       "2      2020-07-01 11:43:00\n",
       "3      2018-12-14 16:11:00\n",
       "4      2020-09-21 18:34:00\n",
       "               ...        \n",
       "5858   2021-03-02 08:57:00\n",
       "5859   2021-03-09 17:51:00\n",
       "5860   2021-02-26 16:48:00\n",
       "5861   2021-03-12 23:18:00\n",
       "5862   2021-03-18 16:22:00\n",
       "Name: updated_at, Length: 5863, dtype: datetime64[ns]"
      ]
     },
     "metadata": {},
     "execution_count": 53
    }
   ],
   "source": [
    "pd.to_datetime(df.updated_at)"
   ]
  },
  {
   "cell_type": "code",
   "execution_count": 57,
   "metadata": {},
   "outputs": [
    {
     "output_type": "execute_result",
     "data": {
      "text/plain": [
       "           id owner     deal_stage          updated_at        created_at  \\\n",
       "0  2001640758    DJ            Won    12/03/2018 21:57  01/03/2018 16:55   \n",
       "1  2001652776   AIB            Won    09/10/2020 11:48  01/08/2018 12:31   \n",
       "2  2001652912    JM  Deal Deferred    07/01/2020 11:43  01/08/2018 14:22   \n",
       "3  2001653793   NaN           Lost      12/14/18 16:11  01/08/2018 20:37   \n",
       "4  2001653901    JM           Lost  9-21-2020 18:34:00  01/08/2018 20:44   \n",
       "\n",
       "   age_in_days deferred_reason not_interested_reasons no_requirement_reasons  \\\n",
       "0           18             NaN                    NaN                    NaN   \n",
       "1          612             NaN                    NaN                    NaN   \n",
       "2         1167             NaN                    NaN                    NaN   \n",
       "3            8             NaN                    NaN                    NaN   \n",
       "4           87             NaN                    NaN                    NaN   \n",
       "\n",
       "   next_reach_out_date comments source_of_the_deal head_office_city country  \\\n",
       "0                  NaN      NaN       POS Partners        Bangalore   India   \n",
       "1                  NaN      NaN              Phone        Bangalore   India   \n",
       "2                  NaN      NaN       POS Partners        Hyderabad   India   \n",
       "3                  NaN      NaN    Cold call/email        Bangalore   India   \n",
       "4                  NaN      NaN    Cold call/email             Pune   India   \n",
       "\n",
       "   number_of_outlets  \n",
       "0                  1  \n",
       "1                 69  \n",
       "2                  1  \n",
       "3                  1  \n",
       "4                  1  "
      ],
      "text/html": "<div>\n<style scoped>\n    .dataframe tbody tr th:only-of-type {\n        vertical-align: middle;\n    }\n\n    .dataframe tbody tr th {\n        vertical-align: top;\n    }\n\n    .dataframe thead th {\n        text-align: right;\n    }\n</style>\n<table border=\"1\" class=\"dataframe\">\n  <thead>\n    <tr style=\"text-align: right;\">\n      <th></th>\n      <th>id</th>\n      <th>owner</th>\n      <th>deal_stage</th>\n      <th>updated_at</th>\n      <th>created_at</th>\n      <th>age_in_days</th>\n      <th>deferred_reason</th>\n      <th>not_interested_reasons</th>\n      <th>no_requirement_reasons</th>\n      <th>next_reach_out_date</th>\n      <th>comments</th>\n      <th>source_of_the_deal</th>\n      <th>head_office_city</th>\n      <th>country</th>\n      <th>number_of_outlets</th>\n    </tr>\n  </thead>\n  <tbody>\n    <tr>\n      <th>0</th>\n      <td>2001640758</td>\n      <td>DJ</td>\n      <td>Won</td>\n      <td>12/03/2018 21:57</td>\n      <td>01/03/2018 16:55</td>\n      <td>18</td>\n      <td>NaN</td>\n      <td>NaN</td>\n      <td>NaN</td>\n      <td>NaN</td>\n      <td>NaN</td>\n      <td>POS Partners</td>\n      <td>Bangalore</td>\n      <td>India</td>\n      <td>1</td>\n    </tr>\n    <tr>\n      <th>1</th>\n      <td>2001652776</td>\n      <td>AIB</td>\n      <td>Won</td>\n      <td>09/10/2020 11:48</td>\n      <td>01/08/2018 12:31</td>\n      <td>612</td>\n      <td>NaN</td>\n      <td>NaN</td>\n      <td>NaN</td>\n      <td>NaN</td>\n      <td>NaN</td>\n      <td>Phone</td>\n      <td>Bangalore</td>\n      <td>India</td>\n      <td>69</td>\n    </tr>\n    <tr>\n      <th>2</th>\n      <td>2001652912</td>\n      <td>JM</td>\n      <td>Deal Deferred</td>\n      <td>07/01/2020 11:43</td>\n      <td>01/08/2018 14:22</td>\n      <td>1167</td>\n      <td>NaN</td>\n      <td>NaN</td>\n      <td>NaN</td>\n      <td>NaN</td>\n      <td>NaN</td>\n      <td>POS Partners</td>\n      <td>Hyderabad</td>\n      <td>India</td>\n      <td>1</td>\n    </tr>\n    <tr>\n      <th>3</th>\n      <td>2001653793</td>\n      <td>NaN</td>\n      <td>Lost</td>\n      <td>12/14/18 16:11</td>\n      <td>01/08/2018 20:37</td>\n      <td>8</td>\n      <td>NaN</td>\n      <td>NaN</td>\n      <td>NaN</td>\n      <td>NaN</td>\n      <td>NaN</td>\n      <td>Cold call/email</td>\n      <td>Bangalore</td>\n      <td>India</td>\n      <td>1</td>\n    </tr>\n    <tr>\n      <th>4</th>\n      <td>2001653901</td>\n      <td>JM</td>\n      <td>Lost</td>\n      <td>9-21-2020 18:34:00</td>\n      <td>01/08/2018 20:44</td>\n      <td>87</td>\n      <td>NaN</td>\n      <td>NaN</td>\n      <td>NaN</td>\n      <td>NaN</td>\n      <td>NaN</td>\n      <td>Cold call/email</td>\n      <td>Pune</td>\n      <td>India</td>\n      <td>1</td>\n    </tr>\n  </tbody>\n</table>\n</div>"
     },
     "metadata": {},
     "execution_count": 57
    }
   ],
   "source": [
    "df.head()"
   ]
  },
  {
   "cell_type": "code",
   "execution_count": 58,
   "metadata": {},
   "outputs": [],
   "source": [
    "df[\"updated_at_2\"] = pd.to_datetime(df.updated_at)"
   ]
  },
  {
   "cell_type": "code",
   "execution_count": 61,
   "metadata": {},
   "outputs": [
    {
     "output_type": "execute_result",
     "data": {
      "text/plain": [
       "id                                 int64\n",
       "owner                             object\n",
       "deal_stage                        object\n",
       "updated_at                        object\n",
       "created_at                        object\n",
       "age_in_days                        int64\n",
       "deferred_reason                   object\n",
       "not_interested_reasons            object\n",
       "no_requirement_reasons            object\n",
       "next_reach_out_date              float64\n",
       "comments                          object\n",
       "source_of_the_deal                object\n",
       "head_office_city                  object\n",
       "country                           object\n",
       "number_of_outlets                  int64\n",
       "updated_at_2              datetime64[ns]\n",
       "updated_at_len                     int64\n",
       "dtype: object"
      ]
     },
     "metadata": {},
     "execution_count": 61
    }
   ],
   "source": [
    "df.dtypes"
   ]
  },
  {
   "cell_type": "code",
   "execution_count": 71,
   "metadata": {},
   "outputs": [],
   "source": [
    "df[\"updated_at_len\"] = df.updated_at.str.len()\n",
    "df[\"updated_at_2_len\"] = df.updated_at_2.astype(\"str\").str.len()"
   ]
  },
  {
   "cell_type": "code",
   "execution_count": 72,
   "metadata": {},
   "outputs": [
    {
     "output_type": "execute_result",
     "data": {
      "text/plain": [
       "           id owner     deal_stage          updated_at        created_at  \\\n",
       "0  2001640758    DJ            Won    12/03/2018 21:57  01/03/2018 16:55   \n",
       "1  2001652776   AIB            Won    09/10/2020 11:48  01/08/2018 12:31   \n",
       "2  2001652912    JM  Deal Deferred    07/01/2020 11:43  01/08/2018 14:22   \n",
       "3  2001653793   NaN           Lost      12/14/18 16:11  01/08/2018 20:37   \n",
       "4  2001653901    JM           Lost  9-21-2020 18:34:00  01/08/2018 20:44   \n",
       "\n",
       "   age_in_days deferred_reason not_interested_reasons no_requirement_reasons  \\\n",
       "0           18             NaN                    NaN                    NaN   \n",
       "1          612             NaN                    NaN                    NaN   \n",
       "2         1167             NaN                    NaN                    NaN   \n",
       "3            8             NaN                    NaN                    NaN   \n",
       "4           87             NaN                    NaN                    NaN   \n",
       "\n",
       "   next_reach_out_date comments source_of_the_deal head_office_city country  \\\n",
       "0                  NaN      NaN       POS Partners        Bangalore   India   \n",
       "1                  NaN      NaN              Phone        Bangalore   India   \n",
       "2                  NaN      NaN       POS Partners        Hyderabad   India   \n",
       "3                  NaN      NaN    Cold call/email        Bangalore   India   \n",
       "4                  NaN      NaN    Cold call/email             Pune   India   \n",
       "\n",
       "   number_of_outlets        updated_at_2  updated_at_len  updated_at_2_len  \n",
       "0                  1 2018-12-03 21:57:00              16                19  \n",
       "1                 69 2020-09-10 11:48:00              16                19  \n",
       "2                  1 2020-07-01 11:43:00              16                19  \n",
       "3                  1 2018-12-14 16:11:00              14                19  \n",
       "4                  1 2020-09-21 18:34:00              18                19  "
      ],
      "text/html": "<div>\n<style scoped>\n    .dataframe tbody tr th:only-of-type {\n        vertical-align: middle;\n    }\n\n    .dataframe tbody tr th {\n        vertical-align: top;\n    }\n\n    .dataframe thead th {\n        text-align: right;\n    }\n</style>\n<table border=\"1\" class=\"dataframe\">\n  <thead>\n    <tr style=\"text-align: right;\">\n      <th></th>\n      <th>id</th>\n      <th>owner</th>\n      <th>deal_stage</th>\n      <th>updated_at</th>\n      <th>created_at</th>\n      <th>age_in_days</th>\n      <th>deferred_reason</th>\n      <th>not_interested_reasons</th>\n      <th>no_requirement_reasons</th>\n      <th>next_reach_out_date</th>\n      <th>comments</th>\n      <th>source_of_the_deal</th>\n      <th>head_office_city</th>\n      <th>country</th>\n      <th>number_of_outlets</th>\n      <th>updated_at_2</th>\n      <th>updated_at_len</th>\n      <th>updated_at_2_len</th>\n    </tr>\n  </thead>\n  <tbody>\n    <tr>\n      <th>0</th>\n      <td>2001640758</td>\n      <td>DJ</td>\n      <td>Won</td>\n      <td>12/03/2018 21:57</td>\n      <td>01/03/2018 16:55</td>\n      <td>18</td>\n      <td>NaN</td>\n      <td>NaN</td>\n      <td>NaN</td>\n      <td>NaN</td>\n      <td>NaN</td>\n      <td>POS Partners</td>\n      <td>Bangalore</td>\n      <td>India</td>\n      <td>1</td>\n      <td>2018-12-03 21:57:00</td>\n      <td>16</td>\n      <td>19</td>\n    </tr>\n    <tr>\n      <th>1</th>\n      <td>2001652776</td>\n      <td>AIB</td>\n      <td>Won</td>\n      <td>09/10/2020 11:48</td>\n      <td>01/08/2018 12:31</td>\n      <td>612</td>\n      <td>NaN</td>\n      <td>NaN</td>\n      <td>NaN</td>\n      <td>NaN</td>\n      <td>NaN</td>\n      <td>Phone</td>\n      <td>Bangalore</td>\n      <td>India</td>\n      <td>69</td>\n      <td>2020-09-10 11:48:00</td>\n      <td>16</td>\n      <td>19</td>\n    </tr>\n    <tr>\n      <th>2</th>\n      <td>2001652912</td>\n      <td>JM</td>\n      <td>Deal Deferred</td>\n      <td>07/01/2020 11:43</td>\n      <td>01/08/2018 14:22</td>\n      <td>1167</td>\n      <td>NaN</td>\n      <td>NaN</td>\n      <td>NaN</td>\n      <td>NaN</td>\n      <td>NaN</td>\n      <td>POS Partners</td>\n      <td>Hyderabad</td>\n      <td>India</td>\n      <td>1</td>\n      <td>2020-07-01 11:43:00</td>\n      <td>16</td>\n      <td>19</td>\n    </tr>\n    <tr>\n      <th>3</th>\n      <td>2001653793</td>\n      <td>NaN</td>\n      <td>Lost</td>\n      <td>12/14/18 16:11</td>\n      <td>01/08/2018 20:37</td>\n      <td>8</td>\n      <td>NaN</td>\n      <td>NaN</td>\n      <td>NaN</td>\n      <td>NaN</td>\n      <td>NaN</td>\n      <td>Cold call/email</td>\n      <td>Bangalore</td>\n      <td>India</td>\n      <td>1</td>\n      <td>2018-12-14 16:11:00</td>\n      <td>14</td>\n      <td>19</td>\n    </tr>\n    <tr>\n      <th>4</th>\n      <td>2001653901</td>\n      <td>JM</td>\n      <td>Lost</td>\n      <td>9-21-2020 18:34:00</td>\n      <td>01/08/2018 20:44</td>\n      <td>87</td>\n      <td>NaN</td>\n      <td>NaN</td>\n      <td>NaN</td>\n      <td>NaN</td>\n      <td>NaN</td>\n      <td>Cold call/email</td>\n      <td>Pune</td>\n      <td>India</td>\n      <td>1</td>\n      <td>2020-09-21 18:34:00</td>\n      <td>18</td>\n      <td>19</td>\n    </tr>\n  </tbody>\n</table>\n</div>"
     },
     "metadata": {},
     "execution_count": 72
    }
   ],
   "source": [
    "df.head()"
   ]
  },
  {
   "cell_type": "code",
   "execution_count": 73,
   "metadata": {},
   "outputs": [
    {
     "output_type": "execute_result",
     "data": {
      "text/plain": [
       "                 id  age_in_days  next_reach_out_date  number_of_outlets  \\\n",
       "count  5.863000e+03  5863.000000           185.000000        5863.000000   \n",
       "mean   2.003714e+09   350.491557         44355.108108         104.600887   \n",
       "std    1.024682e+06   329.953288            88.841941        7416.533507   \n",
       "min    2.001614e+09 -1192.000000         44209.000000           1.000000   \n",
       "25%    2.002778e+09    91.500000         44293.000000           1.000000   \n",
       "50%    2.003950e+09   248.000000         44328.000000           3.000000   \n",
       "75%    2.004686e+09   509.000000         44419.000000           8.000000   \n",
       "max    2.005079e+09  1173.000000         44882.000000      567890.000000   \n",
       "\n",
       "       updated_at_len  updated_at_2_len  \n",
       "count     5863.000000            5863.0  \n",
       "mean        16.413781              19.0  \n",
       "std          1.884781               0.0  \n",
       "min         13.000000              19.0  \n",
       "25%         16.000000              19.0  \n",
       "50%         16.000000              19.0  \n",
       "75%         18.000000              19.0  \n",
       "max         19.000000              19.0  "
      ],
      "text/html": "<div>\n<style scoped>\n    .dataframe tbody tr th:only-of-type {\n        vertical-align: middle;\n    }\n\n    .dataframe tbody tr th {\n        vertical-align: top;\n    }\n\n    .dataframe thead th {\n        text-align: right;\n    }\n</style>\n<table border=\"1\" class=\"dataframe\">\n  <thead>\n    <tr style=\"text-align: right;\">\n      <th></th>\n      <th>id</th>\n      <th>age_in_days</th>\n      <th>next_reach_out_date</th>\n      <th>number_of_outlets</th>\n      <th>updated_at_len</th>\n      <th>updated_at_2_len</th>\n    </tr>\n  </thead>\n  <tbody>\n    <tr>\n      <th>count</th>\n      <td>5.863000e+03</td>\n      <td>5863.000000</td>\n      <td>185.000000</td>\n      <td>5863.000000</td>\n      <td>5863.000000</td>\n      <td>5863.0</td>\n    </tr>\n    <tr>\n      <th>mean</th>\n      <td>2.003714e+09</td>\n      <td>350.491557</td>\n      <td>44355.108108</td>\n      <td>104.600887</td>\n      <td>16.413781</td>\n      <td>19.0</td>\n    </tr>\n    <tr>\n      <th>std</th>\n      <td>1.024682e+06</td>\n      <td>329.953288</td>\n      <td>88.841941</td>\n      <td>7416.533507</td>\n      <td>1.884781</td>\n      <td>0.0</td>\n    </tr>\n    <tr>\n      <th>min</th>\n      <td>2.001614e+09</td>\n      <td>-1192.000000</td>\n      <td>44209.000000</td>\n      <td>1.000000</td>\n      <td>13.000000</td>\n      <td>19.0</td>\n    </tr>\n    <tr>\n      <th>25%</th>\n      <td>2.002778e+09</td>\n      <td>91.500000</td>\n      <td>44293.000000</td>\n      <td>1.000000</td>\n      <td>16.000000</td>\n      <td>19.0</td>\n    </tr>\n    <tr>\n      <th>50%</th>\n      <td>2.003950e+09</td>\n      <td>248.000000</td>\n      <td>44328.000000</td>\n      <td>3.000000</td>\n      <td>16.000000</td>\n      <td>19.0</td>\n    </tr>\n    <tr>\n      <th>75%</th>\n      <td>2.004686e+09</td>\n      <td>509.000000</td>\n      <td>44419.000000</td>\n      <td>8.000000</td>\n      <td>18.000000</td>\n      <td>19.0</td>\n    </tr>\n    <tr>\n      <th>max</th>\n      <td>2.005079e+09</td>\n      <td>1173.000000</td>\n      <td>44882.000000</td>\n      <td>567890.000000</td>\n      <td>19.000000</td>\n      <td>19.0</td>\n    </tr>\n  </tbody>\n</table>\n</div>"
     },
     "metadata": {},
     "execution_count": 73
    }
   ],
   "source": [
    "df.describe()"
   ]
  },
  {
   "cell_type": "code",
   "execution_count": 80,
   "metadata": {},
   "outputs": [
    {
     "output_type": "stream",
     "name": "stdout",
     "text": [
      "2018\n2021\n"
     ]
    }
   ],
   "source": [
    "print(df.updated_at_2.dt.year.min())\n",
    "print(df.updated_at_2.dt.year.max())"
   ]
  },
  {
   "cell_type": "code",
   "execution_count": 81,
   "metadata": {},
   "outputs": [
    {
     "output_type": "execute_result",
     "data": {
      "text/plain": [
       "count    5863.00000\n",
       "mean     2020.37080\n",
       "std         0.63044\n",
       "min      2018.00000\n",
       "25%      2020.00000\n",
       "50%      2020.00000\n",
       "75%      2021.00000\n",
       "max      2021.00000\n",
       "Name: updated_at_2, dtype: float64"
      ]
     },
     "metadata": {},
     "execution_count": 81
    }
   ],
   "source": [
    "df.updated_at_2.dt.year.describe()"
   ]
  },
  {
   "cell_type": "code",
   "execution_count": 82,
   "metadata": {},
   "outputs": [
    {
     "output_type": "execute_result",
     "data": {
      "text/plain": [
       "2020    3171\n",
       "2021    2507\n",
       "2018     148\n",
       "2019      37\n",
       "Name: updated_at_2, dtype: int64"
      ]
     },
     "metadata": {},
     "execution_count": 82
    }
   ],
   "source": [
    "df.updated_at_2.dt.year.value_counts()"
   ]
  },
  {
   "cell_type": "code",
   "execution_count": 83,
   "metadata": {},
   "outputs": [
    {
     "output_type": "execute_result",
     "data": {
      "text/plain": [
       "Index(['id', 'owner', 'deal_stage', 'updated_at', 'created_at', 'age_in_days',\n",
       "       'deferred_reason', 'not_interested_reasons', 'no_requirement_reasons',\n",
       "       'next_reach_out_date', 'comments', 'source_of_the_deal',\n",
       "       'head_office_city', 'country', 'number_of_outlets', 'updated_at_2',\n",
       "       'updated_at_len', 'updated_at_2_len'],\n",
       "      dtype='object')"
      ]
     },
     "metadata": {},
     "execution_count": 83
    }
   ],
   "source": [
    "df.columns"
   ]
  },
  {
   "cell_type": "code",
   "execution_count": 84,
   "metadata": {},
   "outputs": [
    {
     "output_type": "execute_result",
     "data": {
      "text/plain": [
       "id                                 int64\n",
       "owner                             object\n",
       "deal_stage                        object\n",
       "updated_at                        object\n",
       "created_at                        object\n",
       "age_in_days                        int64\n",
       "deferred_reason                   object\n",
       "not_interested_reasons            object\n",
       "no_requirement_reasons            object\n",
       "next_reach_out_date              float64\n",
       "comments                          object\n",
       "source_of_the_deal                object\n",
       "head_office_city                  object\n",
       "country                           object\n",
       "number_of_outlets                  int64\n",
       "updated_at_2              datetime64[ns]\n",
       "updated_at_len                     int64\n",
       "updated_at_2_len                   int64\n",
       "dtype: object"
      ]
     },
     "metadata": {},
     "execution_count": 84
    }
   ],
   "source": [
    "df.dtypes"
   ]
  },
  {
   "cell_type": "code",
   "execution_count": 85,
   "metadata": {},
   "outputs": [
    {
     "output_type": "execute_result",
     "data": {
      "text/plain": [
       "count    5863.000000\n",
       "mean       16.457957\n",
       "std         1.846802\n",
       "min        13.000000\n",
       "25%        16.000000\n",
       "50%        16.000000\n",
       "75%        19.000000\n",
       "max        19.000000\n",
       "Name: created_at, dtype: float64"
      ]
     },
     "metadata": {},
     "execution_count": 85
    }
   ],
   "source": [
    "df.created_at.str.len().describe()"
   ]
  },
  {
   "cell_type": "code",
   "execution_count": 86,
   "metadata": {},
   "outputs": [
    {
     "output_type": "execute_result",
     "data": {
      "text/plain": [
       "0      2018-01-03 16:55:00\n",
       "1      2018-01-08 12:31:00\n",
       "2      2018-01-08 14:22:00\n",
       "3      2018-01-08 20:37:00\n",
       "4      2018-01-08 20:44:00\n",
       "               ...        \n",
       "5858   2021-02-12 17:25:00\n",
       "5859   2021-02-24 18:25:00\n",
       "5860   2021-02-25 19:40:00\n",
       "5861   2021-03-08 11:13:00\n",
       "5862   2021-03-15 12:06:00\n",
       "Name: created_at, Length: 5863, dtype: datetime64[ns]"
      ]
     },
     "metadata": {},
     "execution_count": 86
    }
   ],
   "source": [
    "pd.to_datetime(df.created_at)"
   ]
  },
  {
   "cell_type": "code",
   "execution_count": 87,
   "metadata": {},
   "outputs": [],
   "source": [
    "df[\"created_at_2\"] = pd.to_datetime(df.created_at)"
   ]
  },
  {
   "cell_type": "code",
   "execution_count": 88,
   "metadata": {},
   "outputs": [],
   "source": [
    "df[\"created_at_len\"] = df.created_at.str.len()"
   ]
  },
  {
   "cell_type": "code",
   "execution_count": 90,
   "metadata": {},
   "outputs": [],
   "source": [
    "df[\"created_at_2_len\"] = df.created_at_2.astype(str).str.len()"
   ]
  },
  {
   "cell_type": "code",
   "execution_count": 92,
   "metadata": {},
   "outputs": [
    {
     "output_type": "execute_result",
     "data": {
      "text/plain": [
       "                 id  age_in_days  next_reach_out_date  number_of_outlets  \\\n",
       "count  5.863000e+03  5863.000000           185.000000        5863.000000   \n",
       "mean   2.003714e+09   350.491557         44355.108108         104.600887   \n",
       "std    1.024682e+06   329.953288            88.841941        7416.533507   \n",
       "min    2.001614e+09 -1192.000000         44209.000000           1.000000   \n",
       "25%    2.002778e+09    91.500000         44293.000000           1.000000   \n",
       "50%    2.003950e+09   248.000000         44328.000000           3.000000   \n",
       "75%    2.004686e+09   509.000000         44419.000000           8.000000   \n",
       "max    2.005079e+09  1173.000000         44882.000000      567890.000000   \n",
       "\n",
       "       updated_at_len  updated_at_2_len  created_at_len  created_at_2_len  \n",
       "count     5863.000000            5863.0     5863.000000            5863.0  \n",
       "mean        16.413781              19.0       16.457957              19.0  \n",
       "std          1.884781               0.0        1.846802               0.0  \n",
       "min         13.000000              19.0       13.000000              19.0  \n",
       "25%         16.000000              19.0       16.000000              19.0  \n",
       "50%         16.000000              19.0       16.000000              19.0  \n",
       "75%         18.000000              19.0       19.000000              19.0  \n",
       "max         19.000000              19.0       19.000000              19.0  "
      ],
      "text/html": "<div>\n<style scoped>\n    .dataframe tbody tr th:only-of-type {\n        vertical-align: middle;\n    }\n\n    .dataframe tbody tr th {\n        vertical-align: top;\n    }\n\n    .dataframe thead th {\n        text-align: right;\n    }\n</style>\n<table border=\"1\" class=\"dataframe\">\n  <thead>\n    <tr style=\"text-align: right;\">\n      <th></th>\n      <th>id</th>\n      <th>age_in_days</th>\n      <th>next_reach_out_date</th>\n      <th>number_of_outlets</th>\n      <th>updated_at_len</th>\n      <th>updated_at_2_len</th>\n      <th>created_at_len</th>\n      <th>created_at_2_len</th>\n    </tr>\n  </thead>\n  <tbody>\n    <tr>\n      <th>count</th>\n      <td>5.863000e+03</td>\n      <td>5863.000000</td>\n      <td>185.000000</td>\n      <td>5863.000000</td>\n      <td>5863.000000</td>\n      <td>5863.0</td>\n      <td>5863.000000</td>\n      <td>5863.0</td>\n    </tr>\n    <tr>\n      <th>mean</th>\n      <td>2.003714e+09</td>\n      <td>350.491557</td>\n      <td>44355.108108</td>\n      <td>104.600887</td>\n      <td>16.413781</td>\n      <td>19.0</td>\n      <td>16.457957</td>\n      <td>19.0</td>\n    </tr>\n    <tr>\n      <th>std</th>\n      <td>1.024682e+06</td>\n      <td>329.953288</td>\n      <td>88.841941</td>\n      <td>7416.533507</td>\n      <td>1.884781</td>\n      <td>0.0</td>\n      <td>1.846802</td>\n      <td>0.0</td>\n    </tr>\n    <tr>\n      <th>min</th>\n      <td>2.001614e+09</td>\n      <td>-1192.000000</td>\n      <td>44209.000000</td>\n      <td>1.000000</td>\n      <td>13.000000</td>\n      <td>19.0</td>\n      <td>13.000000</td>\n      <td>19.0</td>\n    </tr>\n    <tr>\n      <th>25%</th>\n      <td>2.002778e+09</td>\n      <td>91.500000</td>\n      <td>44293.000000</td>\n      <td>1.000000</td>\n      <td>16.000000</td>\n      <td>19.0</td>\n      <td>16.000000</td>\n      <td>19.0</td>\n    </tr>\n    <tr>\n      <th>50%</th>\n      <td>2.003950e+09</td>\n      <td>248.000000</td>\n      <td>44328.000000</td>\n      <td>3.000000</td>\n      <td>16.000000</td>\n      <td>19.0</td>\n      <td>16.000000</td>\n      <td>19.0</td>\n    </tr>\n    <tr>\n      <th>75%</th>\n      <td>2.004686e+09</td>\n      <td>509.000000</td>\n      <td>44419.000000</td>\n      <td>8.000000</td>\n      <td>18.000000</td>\n      <td>19.0</td>\n      <td>19.000000</td>\n      <td>19.0</td>\n    </tr>\n    <tr>\n      <th>max</th>\n      <td>2.005079e+09</td>\n      <td>1173.000000</td>\n      <td>44882.000000</td>\n      <td>567890.000000</td>\n      <td>19.000000</td>\n      <td>19.0</td>\n      <td>19.000000</td>\n      <td>19.0</td>\n    </tr>\n  </tbody>\n</table>\n</div>"
     },
     "metadata": {},
     "execution_count": 92
    }
   ],
   "source": [
    "df.describe()"
   ]
  },
  {
   "cell_type": "code",
   "execution_count": 99,
   "metadata": {},
   "outputs": [
    {
     "output_type": "stream",
     "name": "stdout",
     "text": [
      "count    5863.000000\nmean       15.227870\nstd         9.408011\nmin         1.000000\n25%         7.000000\n50%        15.000000\n75%        24.000000\nmax        31.000000\nName: created_at_2, dtype: float64\ncount    5863.000000\nmean        7.542555\nstd         3.816213\nmin         1.000000\n25%         4.000000\n50%         8.000000\n75%        11.000000\nmax        12.000000\nName: created_at_2, dtype: float64\ncount    5863.000000\nmean     2019.190517\nstd         0.880839\nmin      2017.000000\n25%      2018.000000\n50%      2019.000000\n75%      2020.000000\nmax      2021.000000\nName: created_at_2, dtype: float64\n"
     ]
    }
   ],
   "source": [
    "print(df.created_at_2.dt.day.describe())\n",
    "print(df.created_at_2.dt.month.describe())\n",
    "print(df.created_at_2.dt.year.describe())"
   ]
  },
  {
   "cell_type": "code",
   "execution_count": 100,
   "metadata": {},
   "outputs": [],
   "source": [
    "df[\"created_at_2_year\"] = df.created_at_2.dt.year\n",
    "df[\"created_at_2_month\"] = df.created_at_2.dt.month\n",
    "df[\"created_at_2_day\"] = df.created_at_2.dt.day"
   ]
  },
  {
   "cell_type": "code",
   "execution_count": 101,
   "metadata": {},
   "outputs": [
    {
     "output_type": "execute_result",
     "data": {
      "text/plain": [
       "           id owner     deal_stage          updated_at        created_at  \\\n",
       "0  2001640758    DJ            Won    12/03/2018 21:57  01/03/2018 16:55   \n",
       "1  2001652776   AIB            Won    09/10/2020 11:48  01/08/2018 12:31   \n",
       "2  2001652912    JM  Deal Deferred    07/01/2020 11:43  01/08/2018 14:22   \n",
       "3  2001653793   NaN           Lost      12/14/18 16:11  01/08/2018 20:37   \n",
       "4  2001653901    JM           Lost  9-21-2020 18:34:00  01/08/2018 20:44   \n",
       "\n",
       "   age_in_days deferred_reason not_interested_reasons no_requirement_reasons  \\\n",
       "0           18             NaN                    NaN                    NaN   \n",
       "1          612             NaN                    NaN                    NaN   \n",
       "2         1167             NaN                    NaN                    NaN   \n",
       "3            8             NaN                    NaN                    NaN   \n",
       "4           87             NaN                    NaN                    NaN   \n",
       "\n",
       "   next_reach_out_date  ... number_of_outlets        updated_at_2  \\\n",
       "0                  NaN  ...                 1 2018-12-03 21:57:00   \n",
       "1                  NaN  ...                69 2020-09-10 11:48:00   \n",
       "2                  NaN  ...                 1 2020-07-01 11:43:00   \n",
       "3                  NaN  ...                 1 2018-12-14 16:11:00   \n",
       "4                  NaN  ...                 1 2020-09-21 18:34:00   \n",
       "\n",
       "  updated_at_len updated_at_2_len        created_at_2 created_at_len  \\\n",
       "0             16               19 2018-01-03 16:55:00             16   \n",
       "1             16               19 2018-01-08 12:31:00             16   \n",
       "2             16               19 2018-01-08 14:22:00             16   \n",
       "3             14               19 2018-01-08 20:37:00             16   \n",
       "4             18               19 2018-01-08 20:44:00             16   \n",
       "\n",
       "   created_at_2_len  created_at_2_year created_at_2_month  created_at_2_day  \n",
       "0                19               2018                  1                 3  \n",
       "1                19               2018                  1                 8  \n",
       "2                19               2018                  1                 8  \n",
       "3                19               2018                  1                 8  \n",
       "4                19               2018                  1                 8  \n",
       "\n",
       "[5 rows x 24 columns]"
      ],
      "text/html": "<div>\n<style scoped>\n    .dataframe tbody tr th:only-of-type {\n        vertical-align: middle;\n    }\n\n    .dataframe tbody tr th {\n        vertical-align: top;\n    }\n\n    .dataframe thead th {\n        text-align: right;\n    }\n</style>\n<table border=\"1\" class=\"dataframe\">\n  <thead>\n    <tr style=\"text-align: right;\">\n      <th></th>\n      <th>id</th>\n      <th>owner</th>\n      <th>deal_stage</th>\n      <th>updated_at</th>\n      <th>created_at</th>\n      <th>age_in_days</th>\n      <th>deferred_reason</th>\n      <th>not_interested_reasons</th>\n      <th>no_requirement_reasons</th>\n      <th>next_reach_out_date</th>\n      <th>...</th>\n      <th>number_of_outlets</th>\n      <th>updated_at_2</th>\n      <th>updated_at_len</th>\n      <th>updated_at_2_len</th>\n      <th>created_at_2</th>\n      <th>created_at_len</th>\n      <th>created_at_2_len</th>\n      <th>created_at_2_year</th>\n      <th>created_at_2_month</th>\n      <th>created_at_2_day</th>\n    </tr>\n  </thead>\n  <tbody>\n    <tr>\n      <th>0</th>\n      <td>2001640758</td>\n      <td>DJ</td>\n      <td>Won</td>\n      <td>12/03/2018 21:57</td>\n      <td>01/03/2018 16:55</td>\n      <td>18</td>\n      <td>NaN</td>\n      <td>NaN</td>\n      <td>NaN</td>\n      <td>NaN</td>\n      <td>...</td>\n      <td>1</td>\n      <td>2018-12-03 21:57:00</td>\n      <td>16</td>\n      <td>19</td>\n      <td>2018-01-03 16:55:00</td>\n      <td>16</td>\n      <td>19</td>\n      <td>2018</td>\n      <td>1</td>\n      <td>3</td>\n    </tr>\n    <tr>\n      <th>1</th>\n      <td>2001652776</td>\n      <td>AIB</td>\n      <td>Won</td>\n      <td>09/10/2020 11:48</td>\n      <td>01/08/2018 12:31</td>\n      <td>612</td>\n      <td>NaN</td>\n      <td>NaN</td>\n      <td>NaN</td>\n      <td>NaN</td>\n      <td>...</td>\n      <td>69</td>\n      <td>2020-09-10 11:48:00</td>\n      <td>16</td>\n      <td>19</td>\n      <td>2018-01-08 12:31:00</td>\n      <td>16</td>\n      <td>19</td>\n      <td>2018</td>\n      <td>1</td>\n      <td>8</td>\n    </tr>\n    <tr>\n      <th>2</th>\n      <td>2001652912</td>\n      <td>JM</td>\n      <td>Deal Deferred</td>\n      <td>07/01/2020 11:43</td>\n      <td>01/08/2018 14:22</td>\n      <td>1167</td>\n      <td>NaN</td>\n      <td>NaN</td>\n      <td>NaN</td>\n      <td>NaN</td>\n      <td>...</td>\n      <td>1</td>\n      <td>2020-07-01 11:43:00</td>\n      <td>16</td>\n      <td>19</td>\n      <td>2018-01-08 14:22:00</td>\n      <td>16</td>\n      <td>19</td>\n      <td>2018</td>\n      <td>1</td>\n      <td>8</td>\n    </tr>\n    <tr>\n      <th>3</th>\n      <td>2001653793</td>\n      <td>NaN</td>\n      <td>Lost</td>\n      <td>12/14/18 16:11</td>\n      <td>01/08/2018 20:37</td>\n      <td>8</td>\n      <td>NaN</td>\n      <td>NaN</td>\n      <td>NaN</td>\n      <td>NaN</td>\n      <td>...</td>\n      <td>1</td>\n      <td>2018-12-14 16:11:00</td>\n      <td>14</td>\n      <td>19</td>\n      <td>2018-01-08 20:37:00</td>\n      <td>16</td>\n      <td>19</td>\n      <td>2018</td>\n      <td>1</td>\n      <td>8</td>\n    </tr>\n    <tr>\n      <th>4</th>\n      <td>2001653901</td>\n      <td>JM</td>\n      <td>Lost</td>\n      <td>9-21-2020 18:34:00</td>\n      <td>01/08/2018 20:44</td>\n      <td>87</td>\n      <td>NaN</td>\n      <td>NaN</td>\n      <td>NaN</td>\n      <td>NaN</td>\n      <td>...</td>\n      <td>1</td>\n      <td>2020-09-21 18:34:00</td>\n      <td>18</td>\n      <td>19</td>\n      <td>2018-01-08 20:44:00</td>\n      <td>16</td>\n      <td>19</td>\n      <td>2018</td>\n      <td>1</td>\n      <td>8</td>\n    </tr>\n  </tbody>\n</table>\n<p>5 rows × 24 columns</p>\n</div>"
     },
     "metadata": {},
     "execution_count": 101
    }
   ],
   "source": [
    "df.head()"
   ]
  },
  {
   "cell_type": "code",
   "execution_count": 102,
   "metadata": {},
   "outputs": [
    {
     "output_type": "execute_result",
     "data": {
      "text/plain": [
       "id                        5863\n",
       "owner                     5842\n",
       "deal_stage                5863\n",
       "updated_at                5863\n",
       "created_at                5863\n",
       "age_in_days               5863\n",
       "deferred_reason            313\n",
       "not_interested_reasons      40\n",
       "no_requirement_reasons      37\n",
       "next_reach_out_date        185\n",
       "comments                   235\n",
       "source_of_the_deal        5566\n",
       "head_office_city          5697\n",
       "country                   5863\n",
       "number_of_outlets         5863\n",
       "updated_at_2              5863\n",
       "updated_at_len            5863\n",
       "updated_at_2_len          5863\n",
       "created_at_2              5863\n",
       "created_at_len            5863\n",
       "created_at_2_len          5863\n",
       "created_at_2_year         5863\n",
       "created_at_2_month        5863\n",
       "created_at_2_day          5863\n",
       "dtype: int64"
      ]
     },
     "metadata": {},
     "execution_count": 102
    }
   ],
   "source": [
    "df.count()"
   ]
  },
  {
   "cell_type": "code",
   "execution_count": 103,
   "metadata": {},
   "outputs": [
    {
     "output_type": "execute_result",
     "data": {
      "text/plain": [
       "id                                 int64\n",
       "owner                             object\n",
       "deal_stage                        object\n",
       "updated_at                        object\n",
       "created_at                        object\n",
       "age_in_days                        int64\n",
       "deferred_reason                   object\n",
       "not_interested_reasons            object\n",
       "no_requirement_reasons            object\n",
       "next_reach_out_date              float64\n",
       "comments                          object\n",
       "source_of_the_deal                object\n",
       "head_office_city                  object\n",
       "country                           object\n",
       "number_of_outlets                  int64\n",
       "updated_at_2              datetime64[ns]\n",
       "updated_at_len                     int64\n",
       "updated_at_2_len                   int64\n",
       "created_at_2              datetime64[ns]\n",
       "created_at_len                     int64\n",
       "created_at_2_len                   int64\n",
       "created_at_2_year                  int64\n",
       "created_at_2_month                 int64\n",
       "created_at_2_day                   int64\n",
       "dtype: object"
      ]
     },
     "metadata": {},
     "execution_count": 103
    }
   ],
   "source": [
    "df.dtypes"
   ]
  },
  {
   "cell_type": "code",
   "execution_count": 108,
   "metadata": {},
   "outputs": [
    {
     "output_type": "execute_result",
     "data": {
      "text/plain": [
       "      next_reach_out_date\n",
       "140               44462.0\n",
       "170               44511.0\n",
       "180               44272.0\n",
       "206               44307.0\n",
       "209               44273.0\n",
       "...                   ...\n",
       "5748              44419.0\n",
       "5785              44322.0\n",
       "5803              44343.0\n",
       "5807              44294.0\n",
       "5841              44410.0\n",
       "\n",
       "[185 rows x 1 columns]"
      ],
      "text/html": "<div>\n<style scoped>\n    .dataframe tbody tr th:only-of-type {\n        vertical-align: middle;\n    }\n\n    .dataframe tbody tr th {\n        vertical-align: top;\n    }\n\n    .dataframe thead th {\n        text-align: right;\n    }\n</style>\n<table border=\"1\" class=\"dataframe\">\n  <thead>\n    <tr style=\"text-align: right;\">\n      <th></th>\n      <th>next_reach_out_date</th>\n    </tr>\n  </thead>\n  <tbody>\n    <tr>\n      <th>140</th>\n      <td>44462.0</td>\n    </tr>\n    <tr>\n      <th>170</th>\n      <td>44511.0</td>\n    </tr>\n    <tr>\n      <th>180</th>\n      <td>44272.0</td>\n    </tr>\n    <tr>\n      <th>206</th>\n      <td>44307.0</td>\n    </tr>\n    <tr>\n      <th>209</th>\n      <td>44273.0</td>\n    </tr>\n    <tr>\n      <th>...</th>\n      <td>...</td>\n    </tr>\n    <tr>\n      <th>5748</th>\n      <td>44419.0</td>\n    </tr>\n    <tr>\n      <th>5785</th>\n      <td>44322.0</td>\n    </tr>\n    <tr>\n      <th>5803</th>\n      <td>44343.0</td>\n    </tr>\n    <tr>\n      <th>5807</th>\n      <td>44294.0</td>\n    </tr>\n    <tr>\n      <th>5841</th>\n      <td>44410.0</td>\n    </tr>\n  </tbody>\n</table>\n<p>185 rows × 1 columns</p>\n</div>"
     },
     "metadata": {},
     "execution_count": 108
    }
   ],
   "source": [
    "df[[\"next_reach_out_date\"]][df.next_reach_out_date.notna()]"
   ]
  },
  {
   "cell_type": "code",
   "execution_count": 112,
   "metadata": {},
   "outputs": [
    {
     "output_type": "execute_result",
     "data": {
      "text/plain": [
       "      next_reach_out_date\n",
       "140               44462.0\n",
       "170               44511.0\n",
       "180               44272.0\n",
       "206               44307.0\n",
       "209               44273.0\n",
       "...                   ...\n",
       "5748              44419.0\n",
       "5785              44322.0\n",
       "5803              44343.0\n",
       "5807              44294.0\n",
       "5841              44410.0\n",
       "\n",
       "[185 rows x 1 columns]"
      ],
      "text/html": "<div>\n<style scoped>\n    .dataframe tbody tr th:only-of-type {\n        vertical-align: middle;\n    }\n\n    .dataframe tbody tr th {\n        vertical-align: top;\n    }\n\n    .dataframe thead th {\n        text-align: right;\n    }\n</style>\n<table border=\"1\" class=\"dataframe\">\n  <thead>\n    <tr style=\"text-align: right;\">\n      <th></th>\n      <th>next_reach_out_date</th>\n    </tr>\n  </thead>\n  <tbody>\n    <tr>\n      <th>140</th>\n      <td>44462.0</td>\n    </tr>\n    <tr>\n      <th>170</th>\n      <td>44511.0</td>\n    </tr>\n    <tr>\n      <th>180</th>\n      <td>44272.0</td>\n    </tr>\n    <tr>\n      <th>206</th>\n      <td>44307.0</td>\n    </tr>\n    <tr>\n      <th>209</th>\n      <td>44273.0</td>\n    </tr>\n    <tr>\n      <th>...</th>\n      <td>...</td>\n    </tr>\n    <tr>\n      <th>5748</th>\n      <td>44419.0</td>\n    </tr>\n    <tr>\n      <th>5785</th>\n      <td>44322.0</td>\n    </tr>\n    <tr>\n      <th>5803</th>\n      <td>44343.0</td>\n    </tr>\n    <tr>\n      <th>5807</th>\n      <td>44294.0</td>\n    </tr>\n    <tr>\n      <th>5841</th>\n      <td>44410.0</td>\n    </tr>\n  </tbody>\n</table>\n<p>185 rows × 1 columns</p>\n</div>"
     },
     "metadata": {},
     "execution_count": 112
    }
   ],
   "source": [
    "df[[\"next_reach_out_date\"]][pd.to_datetime(df.next_reach_out_date).notna()]"
   ]
  },
  {
   "cell_type": "code",
   "execution_count": 117,
   "metadata": {},
   "outputs": [],
   "source": [
    "df[\"next_reach_out_date_2\"] = pd.to_datetime(df.next_reach_out_date, infer_datetime_format=True)"
   ]
  },
  {
   "cell_type": "code",
   "execution_count": 118,
   "metadata": {},
   "outputs": [
    {
     "output_type": "execute_result",
     "data": {
      "text/plain": [
       "      next_reach_out_date         next_reach_out_date_2\n",
       "140               44462.0 1970-01-01 00:00:00.000044462\n",
       "170               44511.0 1970-01-01 00:00:00.000044511\n",
       "180               44272.0 1970-01-01 00:00:00.000044272\n",
       "206               44307.0 1970-01-01 00:00:00.000044307\n",
       "209               44273.0 1970-01-01 00:00:00.000044273\n",
       "...                   ...                           ...\n",
       "5748              44419.0 1970-01-01 00:00:00.000044419\n",
       "5785              44322.0 1970-01-01 00:00:00.000044322\n",
       "5803              44343.0 1970-01-01 00:00:00.000044343\n",
       "5807              44294.0 1970-01-01 00:00:00.000044294\n",
       "5841              44410.0 1970-01-01 00:00:00.000044410\n",
       "\n",
       "[185 rows x 2 columns]"
      ],
      "text/html": "<div>\n<style scoped>\n    .dataframe tbody tr th:only-of-type {\n        vertical-align: middle;\n    }\n\n    .dataframe tbody tr th {\n        vertical-align: top;\n    }\n\n    .dataframe thead th {\n        text-align: right;\n    }\n</style>\n<table border=\"1\" class=\"dataframe\">\n  <thead>\n    <tr style=\"text-align: right;\">\n      <th></th>\n      <th>next_reach_out_date</th>\n      <th>next_reach_out_date_2</th>\n    </tr>\n  </thead>\n  <tbody>\n    <tr>\n      <th>140</th>\n      <td>44462.0</td>\n      <td>1970-01-01 00:00:00.000044462</td>\n    </tr>\n    <tr>\n      <th>170</th>\n      <td>44511.0</td>\n      <td>1970-01-01 00:00:00.000044511</td>\n    </tr>\n    <tr>\n      <th>180</th>\n      <td>44272.0</td>\n      <td>1970-01-01 00:00:00.000044272</td>\n    </tr>\n    <tr>\n      <th>206</th>\n      <td>44307.0</td>\n      <td>1970-01-01 00:00:00.000044307</td>\n    </tr>\n    <tr>\n      <th>209</th>\n      <td>44273.0</td>\n      <td>1970-01-01 00:00:00.000044273</td>\n    </tr>\n    <tr>\n      <th>...</th>\n      <td>...</td>\n      <td>...</td>\n    </tr>\n    <tr>\n      <th>5748</th>\n      <td>44419.0</td>\n      <td>1970-01-01 00:00:00.000044419</td>\n    </tr>\n    <tr>\n      <th>5785</th>\n      <td>44322.0</td>\n      <td>1970-01-01 00:00:00.000044322</td>\n    </tr>\n    <tr>\n      <th>5803</th>\n      <td>44343.0</td>\n      <td>1970-01-01 00:00:00.000044343</td>\n    </tr>\n    <tr>\n      <th>5807</th>\n      <td>44294.0</td>\n      <td>1970-01-01 00:00:00.000044294</td>\n    </tr>\n    <tr>\n      <th>5841</th>\n      <td>44410.0</td>\n      <td>1970-01-01 00:00:00.000044410</td>\n    </tr>\n  </tbody>\n</table>\n<p>185 rows × 2 columns</p>\n</div>"
     },
     "metadata": {},
     "execution_count": 118
    }
   ],
   "source": [
    "df[[\"next_reach_out_date\", \"next_reach_out_date_2\"]][pd.to_datetime(df.next_reach_out_date).notna()]"
   ]
  },
  {
   "cell_type": "code",
   "execution_count": 116,
   "metadata": {},
   "outputs": [
    {
     "output_type": "execute_result",
     "data": {
      "text/plain": [
       "94"
      ]
     },
     "metadata": {},
     "execution_count": 116
    }
   ],
   "source": [
    "df.next_reach_out_date_2.nunique()"
   ]
  },
  {
   "cell_type": "code",
   "execution_count": 135,
   "metadata": {},
   "outputs": [],
   "source": [
    "# xl_date = 44462\n",
    "datetime_date = df[[\"next_reach_out_date\"]][pd.to_datetime(df.next_reach_out_date).notna()][\"next_reach_out_date\"].apply(lambda x: xlrd.xldate_as_datetime(x, 0) if ~np.isnan(x) else x)"
   ]
  },
  {
   "cell_type": "code",
   "execution_count": 136,
   "metadata": {},
   "outputs": [
    {
     "output_type": "execute_result",
     "data": {
      "text/plain": [
       "140    2021-09-23\n",
       "170    2021-11-11\n",
       "180    2021-03-17\n",
       "206    2021-04-21\n",
       "209    2021-03-18\n",
       "          ...    \n",
       "5748   2021-08-11\n",
       "5785   2021-05-06\n",
       "5803   2021-05-27\n",
       "5807   2021-04-08\n",
       "5841   2021-08-02\n",
       "Name: next_reach_out_date, Length: 185, dtype: datetime64[ns]"
      ]
     },
     "metadata": {},
     "execution_count": 136
    }
   ],
   "source": [
    "datetime_date"
   ]
  },
  {
   "cell_type": "code",
   "execution_count": 141,
   "metadata": {},
   "outputs": [],
   "source": [
    "# xl_date = 44462\n",
    "df[\"next_reach_out_date_2\"] = df[\"next_reach_out_date\"]\\\n",
    "    .apply(lambda x: xlrd.xldate_as_datetime(x, 0) if ~np.isnan(x) else x)"
   ]
  },
  {
   "cell_type": "code",
   "execution_count": 142,
   "metadata": {},
   "outputs": [
    {
     "output_type": "execute_result",
     "data": {
      "text/plain": [
       "             id owner     deal_stage          updated_at           created_at  \\\n",
       "140  2003251165    DS  Deal Deferred  3-15-2021 21:59:00  04-19-2019 17:48:00   \n",
       "170  2003755782    AR  Deal Deferred    03/10/2021 12:24  10-16-2019 20:22:00   \n",
       "180  2003789576    DS  Deal Deferred  3-18-2021 21:09:00       10/28/19 16:25   \n",
       "206  2003950239    DS  Deal Deferred    02/08/2021 13:00     12/09/2019 17:38   \n",
       "209  2003960172    DS  Deal Deferred      01/27/21 18:37       12/13/19 18:24   \n",
       "\n",
       "     age_in_days       deferred_reason not_interested_reasons  \\\n",
       "140          701           No Response                    NaN   \n",
       "170          521  Opted For Competitor                    NaN   \n",
       "180          509           No Response                    NaN   \n",
       "206          467           No Response                    NaN   \n",
       "209          463        No Requirement                    NaN   \n",
       "\n",
       "    no_requirement_reasons  next_reach_out_date  ...        updated_at_2  \\\n",
       "140                    NaN              44462.0  ... 2021-03-15 21:59:00   \n",
       "170                    NaN              44511.0  ... 2021-03-10 12:24:00   \n",
       "180                    NaN              44272.0  ... 2021-03-18 21:09:00   \n",
       "206                    NaN              44307.0  ... 2021-02-08 13:00:00   \n",
       "209       Low Order Volume              44273.0  ... 2021-01-27 18:37:00   \n",
       "\n",
       "    updated_at_len updated_at_2_len        created_at_2  created_at_len  \\\n",
       "140             18               19 2019-04-19 17:48:00              19   \n",
       "170             16               19 2019-10-16 20:22:00              19   \n",
       "180             18               19 2019-10-28 16:25:00              14   \n",
       "206             16               19 2019-12-09 17:38:00              16   \n",
       "209             14               19 2019-12-13 18:24:00              14   \n",
       "\n",
       "    created_at_2_len  created_at_2_year  created_at_2_month created_at_2_day  \\\n",
       "140               19               2019                   4               19   \n",
       "170               19               2019                  10               16   \n",
       "180               19               2019                  10               28   \n",
       "206               19               2019                  12                9   \n",
       "209               19               2019                  12               13   \n",
       "\n",
       "     next_reach_out_date_2  \n",
       "140             2021-09-23  \n",
       "170             2021-11-11  \n",
       "180             2021-03-17  \n",
       "206             2021-04-21  \n",
       "209             2021-03-18  \n",
       "\n",
       "[5 rows x 25 columns]"
      ],
      "text/html": "<div>\n<style scoped>\n    .dataframe tbody tr th:only-of-type {\n        vertical-align: middle;\n    }\n\n    .dataframe tbody tr th {\n        vertical-align: top;\n    }\n\n    .dataframe thead th {\n        text-align: right;\n    }\n</style>\n<table border=\"1\" class=\"dataframe\">\n  <thead>\n    <tr style=\"text-align: right;\">\n      <th></th>\n      <th>id</th>\n      <th>owner</th>\n      <th>deal_stage</th>\n      <th>updated_at</th>\n      <th>created_at</th>\n      <th>age_in_days</th>\n      <th>deferred_reason</th>\n      <th>not_interested_reasons</th>\n      <th>no_requirement_reasons</th>\n      <th>next_reach_out_date</th>\n      <th>...</th>\n      <th>updated_at_2</th>\n      <th>updated_at_len</th>\n      <th>updated_at_2_len</th>\n      <th>created_at_2</th>\n      <th>created_at_len</th>\n      <th>created_at_2_len</th>\n      <th>created_at_2_year</th>\n      <th>created_at_2_month</th>\n      <th>created_at_2_day</th>\n      <th>next_reach_out_date_2</th>\n    </tr>\n  </thead>\n  <tbody>\n    <tr>\n      <th>140</th>\n      <td>2003251165</td>\n      <td>DS</td>\n      <td>Deal Deferred</td>\n      <td>3-15-2021 21:59:00</td>\n      <td>04-19-2019 17:48:00</td>\n      <td>701</td>\n      <td>No Response</td>\n      <td>NaN</td>\n      <td>NaN</td>\n      <td>44462.0</td>\n      <td>...</td>\n      <td>2021-03-15 21:59:00</td>\n      <td>18</td>\n      <td>19</td>\n      <td>2019-04-19 17:48:00</td>\n      <td>19</td>\n      <td>19</td>\n      <td>2019</td>\n      <td>4</td>\n      <td>19</td>\n      <td>2021-09-23</td>\n    </tr>\n    <tr>\n      <th>170</th>\n      <td>2003755782</td>\n      <td>AR</td>\n      <td>Deal Deferred</td>\n      <td>03/10/2021 12:24</td>\n      <td>10-16-2019 20:22:00</td>\n      <td>521</td>\n      <td>Opted For Competitor</td>\n      <td>NaN</td>\n      <td>NaN</td>\n      <td>44511.0</td>\n      <td>...</td>\n      <td>2021-03-10 12:24:00</td>\n      <td>16</td>\n      <td>19</td>\n      <td>2019-10-16 20:22:00</td>\n      <td>19</td>\n      <td>19</td>\n      <td>2019</td>\n      <td>10</td>\n      <td>16</td>\n      <td>2021-11-11</td>\n    </tr>\n    <tr>\n      <th>180</th>\n      <td>2003789576</td>\n      <td>DS</td>\n      <td>Deal Deferred</td>\n      <td>3-18-2021 21:09:00</td>\n      <td>10/28/19 16:25</td>\n      <td>509</td>\n      <td>No Response</td>\n      <td>NaN</td>\n      <td>NaN</td>\n      <td>44272.0</td>\n      <td>...</td>\n      <td>2021-03-18 21:09:00</td>\n      <td>18</td>\n      <td>19</td>\n      <td>2019-10-28 16:25:00</td>\n      <td>14</td>\n      <td>19</td>\n      <td>2019</td>\n      <td>10</td>\n      <td>28</td>\n      <td>2021-03-17</td>\n    </tr>\n    <tr>\n      <th>206</th>\n      <td>2003950239</td>\n      <td>DS</td>\n      <td>Deal Deferred</td>\n      <td>02/08/2021 13:00</td>\n      <td>12/09/2019 17:38</td>\n      <td>467</td>\n      <td>No Response</td>\n      <td>NaN</td>\n      <td>NaN</td>\n      <td>44307.0</td>\n      <td>...</td>\n      <td>2021-02-08 13:00:00</td>\n      <td>16</td>\n      <td>19</td>\n      <td>2019-12-09 17:38:00</td>\n      <td>16</td>\n      <td>19</td>\n      <td>2019</td>\n      <td>12</td>\n      <td>9</td>\n      <td>2021-04-21</td>\n    </tr>\n    <tr>\n      <th>209</th>\n      <td>2003960172</td>\n      <td>DS</td>\n      <td>Deal Deferred</td>\n      <td>01/27/21 18:37</td>\n      <td>12/13/19 18:24</td>\n      <td>463</td>\n      <td>No Requirement</td>\n      <td>NaN</td>\n      <td>Low Order Volume</td>\n      <td>44273.0</td>\n      <td>...</td>\n      <td>2021-01-27 18:37:00</td>\n      <td>14</td>\n      <td>19</td>\n      <td>2019-12-13 18:24:00</td>\n      <td>14</td>\n      <td>19</td>\n      <td>2019</td>\n      <td>12</td>\n      <td>13</td>\n      <td>2021-03-18</td>\n    </tr>\n  </tbody>\n</table>\n<p>5 rows × 25 columns</p>\n</div>"
     },
     "metadata": {},
     "execution_count": 142
    }
   ],
   "source": [
    "df[pd.to_datetime(df.next_reach_out_date).notna()].head()"
   ]
  },
  {
   "cell_type": "code",
   "execution_count": 140,
   "metadata": {},
   "outputs": [
    {
     "output_type": "execute_result",
     "data": {
      "text/plain": [
       "id                                 int64\n",
       "owner                             object\n",
       "deal_stage                        object\n",
       "updated_at                        object\n",
       "created_at                        object\n",
       "age_in_days                        int64\n",
       "deferred_reason                   object\n",
       "not_interested_reasons            object\n",
       "no_requirement_reasons            object\n",
       "next_reach_out_date              float64\n",
       "comments                          object\n",
       "source_of_the_deal                object\n",
       "head_office_city                  object\n",
       "country                           object\n",
       "number_of_outlets                  int64\n",
       "updated_at_2              datetime64[ns]\n",
       "updated_at_len                     int64\n",
       "updated_at_2_len                   int64\n",
       "created_at_2              datetime64[ns]\n",
       "created_at_len                     int64\n",
       "created_at_2_len                   int64\n",
       "created_at_2_year                  int64\n",
       "created_at_2_month                 int64\n",
       "created_at_2_day                   int64\n",
       "next_reach_out_date_2     datetime64[ns]\n",
       "dtype: object"
      ]
     },
     "metadata": {},
     "execution_count": 140
    }
   ],
   "source": [
    "df.dtypes"
   ]
  },
  {
   "cell_type": "code",
   "execution_count": null,
   "metadata": {},
   "outputs": [],
   "source": []
  }
 ]
}