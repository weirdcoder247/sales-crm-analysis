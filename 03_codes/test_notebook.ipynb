{
 "metadata": {
  "language_info": {
   "codemirror_mode": {
    "name": "ipython",
    "version": 3
   },
   "file_extension": ".py",
   "mimetype": "text/x-python",
   "name": "python",
   "nbconvert_exporter": "python",
   "pygments_lexer": "ipython3",
   "version": "3.8.3-final"
  },
  "orig_nbformat": 2,
  "kernelspec": {
   "name": "python383jvsc74a57bd06e43f85b8c899b31f9c6e20303c90261e28e4bc4148d5526e30491a7115eaa38",
   "display_name": "Python 3.8.3 64-bit (conda)"
  }
 },
 "nbformat": 4,
 "nbformat_minor": 2,
 "cells": [
  {
   "cell_type": "code",
   "execution_count": 1,
   "metadata": {},
   "outputs": [],
   "source": [
    "# -----------------------------------------------------------------------------\n",
    "# Author: Dhruv Panchal <dhruvpanchal1491@gmail.com>\n",
    "# Project: UrbanPiper_Assignment\n",
    "# Create Date: 2021-04-12\n",
    "# Update Date:\n",
    "# Contributors:\n",
    "# Python Version: 3.8.3\n",
    "# -----------------------------------------------------------------------------"
   ]
  },
  {
   "cell_type": "code",
   "execution_count": 2,
   "metadata": {},
   "outputs": [],
   "source": [
    "# Import Packages\n",
    "import pandas as pd\n",
    "import os\n",
    "import seaborn as sns\n",
    "# import sys\n",
    "import matplotlib.pyplot as plt\n",
    "%matplotlib inline"
   ]
  },
  {
   "cell_type": "code",
   "execution_count": 3,
   "metadata": {},
   "outputs": [
    {
     "output_type": "execute_result",
     "data": {
      "text/plain": [
       "'c:\\\\Users\\\\dhruv\\\\Documents\\\\UrbanPiper\\\\sales-crm-analysis\\\\03_codes'"
      ]
     },
     "metadata": {},
     "execution_count": 3
    }
   ],
   "source": [
    "os.getcwd()"
   ]
  },
  {
   "cell_type": "code",
   "execution_count": 5,
   "metadata": {},
   "outputs": [
    {
     "output_type": "stream",
     "name": "stdout",
     "text": [
      "                 id  age_in_days  next_reach_out_date  number_of_outlets\ncount  5.863000e+03  5863.000000           185.000000        5863.000000\nmean   2.003714e+09   350.491557         44355.108108         104.600887\nstd    1.024682e+06   329.953288            88.841941        7416.533507\nmin    2.001614e+09 -1192.000000         44209.000000           1.000000\n25%    2.002778e+09    91.500000         44293.000000           1.000000\n50%    2.003950e+09   248.000000         44328.000000           3.000000\n75%    2.004686e+09   509.000000         44419.000000           8.000000\nmax    2.005079e+09  1173.000000         44882.000000      567890.000000\nid                        5863\nowner                       13\ndeal_stage                  20\nupdated_at                2708\ncreated_at                5067\nage_in_days                910\ndeferred_reason              7\nnot_interested_reasons       3\nno_requirement_reasons       3\nnext_reach_out_date         94\ncomments                   163\nsource_of_the_deal          16\nhead_office_city            59\ncountry                      1\nnumber_of_outlets           97\ndtype: int64\nid                        5863\nowner                     5842\ndeal_stage                5863\nupdated_at                5863\ncreated_at                5863\nage_in_days               5863\ndeferred_reason            313\nnot_interested_reasons      40\nno_requirement_reasons      37\nnext_reach_out_date        185\ncomments                   235\nsource_of_the_deal        5566\nhead_office_city          5697\ncountry                   5863\nnumber_of_outlets         5863\ndtype: int64\n"
     ]
    }
   ],
   "source": [
    "# Change Directory\n",
    "os.chdir(r'C:\\Users\\dhruv\\Documents\\UrbanPiper\\sales-crm-analysis\\02_data')\n",
    "os.getcwd()\n",
    "\n",
    "# Import Data\n",
    "df = pd.read_csv(\"crm_data.csv\")\n",
    "\n",
    "# Continuous Variables\n",
    "print(df.describe())\n",
    "print(df.nunique())\n",
    "print(df.count())\n"
   ]
  },
  {
   "cell_type": "code",
   "execution_count": null,
   "metadata": {},
   "outputs": [],
   "source": []
  }
 ]
}