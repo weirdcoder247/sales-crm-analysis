{
 "metadata": {
  "language_info": {
   "codemirror_mode": {
    "name": "ipython",
    "version": 3
   },
   "file_extension": ".py",
   "mimetype": "text/x-python",
   "name": "python",
   "nbconvert_exporter": "python",
   "pygments_lexer": "ipython3",
   "version": "3.8.3-final"
  },
  "orig_nbformat": 2,
  "kernelspec": {
   "name": "python383jvsc74a57bd06e43f85b8c899b31f9c6e20303c90261e28e4bc4148d5526e30491a7115eaa38",
   "display_name": "Python 3.8.3 64-bit (conda)"
  }
 },
 "nbformat": 4,
 "nbformat_minor": 2,
 "cells": [
  {
   "cell_type": "code",
   "execution_count": 1,
   "metadata": {},
   "outputs": [],
   "source": [
    "# -----------------------------------------------------------------------------\n",
    "# Author: Dhruv Panchal <dhruvpanchal1491@gmail.com>\n",
    "# Project: UrbanPiper_Assignment\n",
    "# Create Date: 2021-04-12\n",
    "# Update Date:\n",
    "# Contributors:\n",
    "# Python Version: 3.8.3\n",
    "# -----------------------------------------------------------------------------"
   ]
  },
  {
   "cell_type": "code",
   "execution_count": 160,
   "metadata": {},
   "outputs": [],
   "source": [
    "# Import Packages\n",
    "import pandas as pd\n",
    "import os\n",
    "import xlrd\n",
    "import numpy as np\n",
    "import seaborn as sns\n",
    "import time\n",
    "import sys\n",
    "import matplotlib.pyplot as plt\n",
    "%matplotlib inline"
   ]
  },
  {
   "cell_type": "code",
   "execution_count": 164,
   "metadata": {},
   "outputs": [
    {
     "output_type": "stream",
     "name": "stdout",
     "text": [
      "1618246692.1546843\n"
     ]
    }
   ],
   "source": [
    "start_time = time.time()\n",
    "print(start_time)"
   ]
  },
  {
   "cell_type": "code",
   "execution_count": 5,
   "metadata": {},
   "outputs": [
    {
     "output_type": "stream",
     "name": "stdout",
     "text": [
      "                 id  age_in_days  next_reach_out_date  number_of_outlets\ncount  5.863000e+03  5863.000000           185.000000        5863.000000\nmean   2.003714e+09   350.491557         44355.108108         104.600887\nstd    1.024682e+06   329.953288            88.841941        7416.533507\nmin    2.001614e+09 -1192.000000         44209.000000           1.000000\n25%    2.002778e+09    91.500000         44293.000000           1.000000\n50%    2.003950e+09   248.000000         44328.000000           3.000000\n75%    2.004686e+09   509.000000         44419.000000           8.000000\nmax    2.005079e+09  1173.000000         44882.000000      567890.000000\nid                        5863\nowner                       13\ndeal_stage                  20\nupdated_at                2708\ncreated_at                5067\nage_in_days                910\ndeferred_reason              7\nnot_interested_reasons       3\nno_requirement_reasons       3\nnext_reach_out_date         94\ncomments                   163\nsource_of_the_deal          16\nhead_office_city            59\ncountry                      1\nnumber_of_outlets           97\ndtype: int64\nid                        5863\nowner                     5842\ndeal_stage                5863\nupdated_at                5863\ncreated_at                5863\nage_in_days               5863\ndeferred_reason            313\nnot_interested_reasons      40\nno_requirement_reasons      37\nnext_reach_out_date        185\ncomments                   235\nsource_of_the_deal        5566\nhead_office_city          5697\ncountry                   5863\nnumber_of_outlets         5863\ndtype: int64\n"
     ]
    }
   ],
   "source": [
    "# Change Directory\n",
    "os.chdir(r'C:\\Users\\dhruv\\Documents\\UrbanPiper\\sales-crm-analysis\\02_data')\n",
    "os.getcwd()"
   ]
  },
  {
   "cell_type": "code",
   "execution_count": null,
   "metadata": {},
   "outputs": [],
   "source": [
    "# Import Data\n",
    "df = pd.read_csv(\"crm_data.csv\")"
   ]
  },
  {
   "cell_type": "code",
   "execution_count": 10,
   "metadata": {},
   "outputs": [],
   "source": [
    "# Need to remap deal_stage unique values since there seem to be some duplicate entries\n",
    "\n",
    "# Convert next_reachout_date to date format\n",
    "\n",
    "# Data Type Conversion\n",
    "\n",
    "# Missing Value Treatment\n",
    "\n",
    "# Outlier Treatment\n",
    "\n",
    "# Feature Generation: Categorical and Continuous\n",
    "\n",
    "# Univariate Report\n",
    "\n",
    "# Bivariate Report\n",
    "\n",
    "# Multivariate Report\n"
   ]
  },
  {
   "cell_type": "code",
   "execution_count": 37,
   "metadata": {},
   "outputs": [],
   "source": [
    "df1 = df[[\"id\", \"updated_at\"]].copy()"
   ]
  },
  {
   "cell_type": "code",
   "execution_count": 38,
   "metadata": {},
   "outputs": [
    {
     "output_type": "execute_result",
     "data": {
      "text/plain": [
       "           id          updated_at\n",
       "0  2001640758    12/03/2018 21:57\n",
       "1  2001652776    09/10/2020 11:48\n",
       "2  2001652912    07/01/2020 11:43\n",
       "3  2001653793      12/14/18 16:11\n",
       "4  2001653901  9-21-2020 18:34:00"
      ],
      "text/html": "<div>\n<style scoped>\n    .dataframe tbody tr th:only-of-type {\n        vertical-align: middle;\n    }\n\n    .dataframe tbody tr th {\n        vertical-align: top;\n    }\n\n    .dataframe thead th {\n        text-align: right;\n    }\n</style>\n<table border=\"1\" class=\"dataframe\">\n  <thead>\n    <tr style=\"text-align: right;\">\n      <th></th>\n      <th>id</th>\n      <th>updated_at</th>\n    </tr>\n  </thead>\n  <tbody>\n    <tr>\n      <th>0</th>\n      <td>2001640758</td>\n      <td>12/03/2018 21:57</td>\n    </tr>\n    <tr>\n      <th>1</th>\n      <td>2001652776</td>\n      <td>09/10/2020 11:48</td>\n    </tr>\n    <tr>\n      <th>2</th>\n      <td>2001652912</td>\n      <td>07/01/2020 11:43</td>\n    </tr>\n    <tr>\n      <th>3</th>\n      <td>2001653793</td>\n      <td>12/14/18 16:11</td>\n    </tr>\n    <tr>\n      <th>4</th>\n      <td>2001653901</td>\n      <td>9-21-2020 18:34:00</td>\n    </tr>\n  </tbody>\n</table>\n</div>"
     },
     "metadata": {},
     "execution_count": 38
    }
   ],
   "source": [
    "df1.head()"
   ]
  },
  {
   "cell_type": "code",
   "execution_count": 58,
   "metadata": {},
   "outputs": [],
   "source": [
    "df[\"updated_at_2\"] = pd.to_datetime(df.updated_at)"
   ]
  },
  {
   "cell_type": "code",
   "execution_count": 71,
   "metadata": {},
   "outputs": [],
   "source": [
    "df[\"updated_at_len\"] = df.updated_at.str.len()\n",
    "df[\"updated_at_2_len\"] = df.updated_at_2.astype(\"str\").str.len()"
   ]
  },
  {
   "cell_type": "code",
   "execution_count": 73,
   "metadata": {},
   "outputs": [
    {
     "output_type": "execute_result",
     "data": {
      "text/plain": [
       "                 id  age_in_days  next_reach_out_date  number_of_outlets  \\\n",
       "count  5.863000e+03  5863.000000           185.000000        5863.000000   \n",
       "mean   2.003714e+09   350.491557         44355.108108         104.600887   \n",
       "std    1.024682e+06   329.953288            88.841941        7416.533507   \n",
       "min    2.001614e+09 -1192.000000         44209.000000           1.000000   \n",
       "25%    2.002778e+09    91.500000         44293.000000           1.000000   \n",
       "50%    2.003950e+09   248.000000         44328.000000           3.000000   \n",
       "75%    2.004686e+09   509.000000         44419.000000           8.000000   \n",
       "max    2.005079e+09  1173.000000         44882.000000      567890.000000   \n",
       "\n",
       "       updated_at_len  updated_at_2_len  \n",
       "count     5863.000000            5863.0  \n",
       "mean        16.413781              19.0  \n",
       "std          1.884781               0.0  \n",
       "min         13.000000              19.0  \n",
       "25%         16.000000              19.0  \n",
       "50%         16.000000              19.0  \n",
       "75%         18.000000              19.0  \n",
       "max         19.000000              19.0  "
      ],
      "text/html": "<div>\n<style scoped>\n    .dataframe tbody tr th:only-of-type {\n        vertical-align: middle;\n    }\n\n    .dataframe tbody tr th {\n        vertical-align: top;\n    }\n\n    .dataframe thead th {\n        text-align: right;\n    }\n</style>\n<table border=\"1\" class=\"dataframe\">\n  <thead>\n    <tr style=\"text-align: right;\">\n      <th></th>\n      <th>id</th>\n      <th>age_in_days</th>\n      <th>next_reach_out_date</th>\n      <th>number_of_outlets</th>\n      <th>updated_at_len</th>\n      <th>updated_at_2_len</th>\n    </tr>\n  </thead>\n  <tbody>\n    <tr>\n      <th>count</th>\n      <td>5.863000e+03</td>\n      <td>5863.000000</td>\n      <td>185.000000</td>\n      <td>5863.000000</td>\n      <td>5863.000000</td>\n      <td>5863.0</td>\n    </tr>\n    <tr>\n      <th>mean</th>\n      <td>2.003714e+09</td>\n      <td>350.491557</td>\n      <td>44355.108108</td>\n      <td>104.600887</td>\n      <td>16.413781</td>\n      <td>19.0</td>\n    </tr>\n    <tr>\n      <th>std</th>\n      <td>1.024682e+06</td>\n      <td>329.953288</td>\n      <td>88.841941</td>\n      <td>7416.533507</td>\n      <td>1.884781</td>\n      <td>0.0</td>\n    </tr>\n    <tr>\n      <th>min</th>\n      <td>2.001614e+09</td>\n      <td>-1192.000000</td>\n      <td>44209.000000</td>\n      <td>1.000000</td>\n      <td>13.000000</td>\n      <td>19.0</td>\n    </tr>\n    <tr>\n      <th>25%</th>\n      <td>2.002778e+09</td>\n      <td>91.500000</td>\n      <td>44293.000000</td>\n      <td>1.000000</td>\n      <td>16.000000</td>\n      <td>19.0</td>\n    </tr>\n    <tr>\n      <th>50%</th>\n      <td>2.003950e+09</td>\n      <td>248.000000</td>\n      <td>44328.000000</td>\n      <td>3.000000</td>\n      <td>16.000000</td>\n      <td>19.0</td>\n    </tr>\n    <tr>\n      <th>75%</th>\n      <td>2.004686e+09</td>\n      <td>509.000000</td>\n      <td>44419.000000</td>\n      <td>8.000000</td>\n      <td>18.000000</td>\n      <td>19.0</td>\n    </tr>\n    <tr>\n      <th>max</th>\n      <td>2.005079e+09</td>\n      <td>1173.000000</td>\n      <td>44882.000000</td>\n      <td>567890.000000</td>\n      <td>19.000000</td>\n      <td>19.0</td>\n    </tr>\n  </tbody>\n</table>\n</div>"
     },
     "metadata": {},
     "execution_count": 73
    }
   ],
   "source": [
    "df.describe()"
   ]
  },
  {
   "cell_type": "code",
   "execution_count": 81,
   "metadata": {},
   "outputs": [
    {
     "output_type": "execute_result",
     "data": {
      "text/plain": [
       "count    5863.00000\n",
       "mean     2020.37080\n",
       "std         0.63044\n",
       "min      2018.00000\n",
       "25%      2020.00000\n",
       "50%      2020.00000\n",
       "75%      2021.00000\n",
       "max      2021.00000\n",
       "Name: updated_at_2, dtype: float64"
      ]
     },
     "metadata": {},
     "execution_count": 81
    }
   ],
   "source": [
    "df.updated_at_2.dt.year.describe()"
   ]
  },
  {
   "cell_type": "code",
   "execution_count": 82,
   "metadata": {},
   "outputs": [
    {
     "output_type": "execute_result",
     "data": {
      "text/plain": [
       "2020    3171\n",
       "2021    2507\n",
       "2018     148\n",
       "2019      37\n",
       "Name: updated_at_2, dtype: int64"
      ]
     },
     "metadata": {},
     "execution_count": 82
    }
   ],
   "source": [
    "df.updated_at_2.dt.year.value_counts()"
   ]
  },
  {
   "cell_type": "code",
   "execution_count": 84,
   "metadata": {},
   "outputs": [
    {
     "output_type": "execute_result",
     "data": {
      "text/plain": [
       "id                                 int64\n",
       "owner                             object\n",
       "deal_stage                        object\n",
       "updated_at                        object\n",
       "created_at                        object\n",
       "age_in_days                        int64\n",
       "deferred_reason                   object\n",
       "not_interested_reasons            object\n",
       "no_requirement_reasons            object\n",
       "next_reach_out_date              float64\n",
       "comments                          object\n",
       "source_of_the_deal                object\n",
       "head_office_city                  object\n",
       "country                           object\n",
       "number_of_outlets                  int64\n",
       "updated_at_2              datetime64[ns]\n",
       "updated_at_len                     int64\n",
       "updated_at_2_len                   int64\n",
       "dtype: object"
      ]
     },
     "metadata": {},
     "execution_count": 84
    }
   ],
   "source": [
    "df.dtypes"
   ]
  },
  {
   "cell_type": "code",
   "execution_count": 87,
   "metadata": {},
   "outputs": [],
   "source": [
    "df[\"created_at_2\"] = pd.to_datetime(df.created_at)"
   ]
  },
  {
   "cell_type": "code",
   "execution_count": 88,
   "metadata": {},
   "outputs": [],
   "source": [
    "df[\"created_at_len\"] = df.created_at.str.len()"
   ]
  },
  {
   "cell_type": "code",
   "execution_count": 90,
   "metadata": {},
   "outputs": [],
   "source": [
    "df[\"created_at_2_len\"] = df.created_at_2.astype(str).str.len()"
   ]
  },
  {
   "cell_type": "code",
   "execution_count": 92,
   "metadata": {},
   "outputs": [
    {
     "output_type": "execute_result",
     "data": {
      "text/plain": [
       "                 id  age_in_days  next_reach_out_date  number_of_outlets  \\\n",
       "count  5.863000e+03  5863.000000           185.000000        5863.000000   \n",
       "mean   2.003714e+09   350.491557         44355.108108         104.600887   \n",
       "std    1.024682e+06   329.953288            88.841941        7416.533507   \n",
       "min    2.001614e+09 -1192.000000         44209.000000           1.000000   \n",
       "25%    2.002778e+09    91.500000         44293.000000           1.000000   \n",
       "50%    2.003950e+09   248.000000         44328.000000           3.000000   \n",
       "75%    2.004686e+09   509.000000         44419.000000           8.000000   \n",
       "max    2.005079e+09  1173.000000         44882.000000      567890.000000   \n",
       "\n",
       "       updated_at_len  updated_at_2_len  created_at_len  created_at_2_len  \n",
       "count     5863.000000            5863.0     5863.000000            5863.0  \n",
       "mean        16.413781              19.0       16.457957              19.0  \n",
       "std          1.884781               0.0        1.846802               0.0  \n",
       "min         13.000000              19.0       13.000000              19.0  \n",
       "25%         16.000000              19.0       16.000000              19.0  \n",
       "50%         16.000000              19.0       16.000000              19.0  \n",
       "75%         18.000000              19.0       19.000000              19.0  \n",
       "max         19.000000              19.0       19.000000              19.0  "
      ],
      "text/html": "<div>\n<style scoped>\n    .dataframe tbody tr th:only-of-type {\n        vertical-align: middle;\n    }\n\n    .dataframe tbody tr th {\n        vertical-align: top;\n    }\n\n    .dataframe thead th {\n        text-align: right;\n    }\n</style>\n<table border=\"1\" class=\"dataframe\">\n  <thead>\n    <tr style=\"text-align: right;\">\n      <th></th>\n      <th>id</th>\n      <th>age_in_days</th>\n      <th>next_reach_out_date</th>\n      <th>number_of_outlets</th>\n      <th>updated_at_len</th>\n      <th>updated_at_2_len</th>\n      <th>created_at_len</th>\n      <th>created_at_2_len</th>\n    </tr>\n  </thead>\n  <tbody>\n    <tr>\n      <th>count</th>\n      <td>5.863000e+03</td>\n      <td>5863.000000</td>\n      <td>185.000000</td>\n      <td>5863.000000</td>\n      <td>5863.000000</td>\n      <td>5863.0</td>\n      <td>5863.000000</td>\n      <td>5863.0</td>\n    </tr>\n    <tr>\n      <th>mean</th>\n      <td>2.003714e+09</td>\n      <td>350.491557</td>\n      <td>44355.108108</td>\n      <td>104.600887</td>\n      <td>16.413781</td>\n      <td>19.0</td>\n      <td>16.457957</td>\n      <td>19.0</td>\n    </tr>\n    <tr>\n      <th>std</th>\n      <td>1.024682e+06</td>\n      <td>329.953288</td>\n      <td>88.841941</td>\n      <td>7416.533507</td>\n      <td>1.884781</td>\n      <td>0.0</td>\n      <td>1.846802</td>\n      <td>0.0</td>\n    </tr>\n    <tr>\n      <th>min</th>\n      <td>2.001614e+09</td>\n      <td>-1192.000000</td>\n      <td>44209.000000</td>\n      <td>1.000000</td>\n      <td>13.000000</td>\n      <td>19.0</td>\n      <td>13.000000</td>\n      <td>19.0</td>\n    </tr>\n    <tr>\n      <th>25%</th>\n      <td>2.002778e+09</td>\n      <td>91.500000</td>\n      <td>44293.000000</td>\n      <td>1.000000</td>\n      <td>16.000000</td>\n      <td>19.0</td>\n      <td>16.000000</td>\n      <td>19.0</td>\n    </tr>\n    <tr>\n      <th>50%</th>\n      <td>2.003950e+09</td>\n      <td>248.000000</td>\n      <td>44328.000000</td>\n      <td>3.000000</td>\n      <td>16.000000</td>\n      <td>19.0</td>\n      <td>16.000000</td>\n      <td>19.0</td>\n    </tr>\n    <tr>\n      <th>75%</th>\n      <td>2.004686e+09</td>\n      <td>509.000000</td>\n      <td>44419.000000</td>\n      <td>8.000000</td>\n      <td>18.000000</td>\n      <td>19.0</td>\n      <td>19.000000</td>\n      <td>19.0</td>\n    </tr>\n    <tr>\n      <th>max</th>\n      <td>2.005079e+09</td>\n      <td>1173.000000</td>\n      <td>44882.000000</td>\n      <td>567890.000000</td>\n      <td>19.000000</td>\n      <td>19.0</td>\n      <td>19.000000</td>\n      <td>19.0</td>\n    </tr>\n  </tbody>\n</table>\n</div>"
     },
     "metadata": {},
     "execution_count": 92
    }
   ],
   "source": [
    "df.describe()"
   ]
  },
  {
   "cell_type": "code",
   "execution_count": 158,
   "metadata": {},
   "outputs": [],
   "source": [
    "df[\"created_at_2_year\"] = df.created_at_2.dt.year\n",
    "df[\"created_at_2_month\"] = df.created_at_2.dt.month\n",
    "df[\"created_at_2_day\"] = df.created_at_2.dt.day\n",
    "df[\"updated_at_2_year\"] = df.updated_at_2.dt.year\n",
    "df[\"updated_at_2_month\"] = df.updated_at_2.dt.month\n",
    "df[\"updated_at_2_day\"] = df.updated_at_2.dt.day"
   ]
  },
  {
   "cell_type": "code",
   "execution_count": 108,
   "metadata": {},
   "outputs": [
    {
     "output_type": "execute_result",
     "data": {
      "text/plain": [
       "      next_reach_out_date\n",
       "140               44462.0\n",
       "170               44511.0\n",
       "180               44272.0\n",
       "206               44307.0\n",
       "209               44273.0\n",
       "...                   ...\n",
       "5748              44419.0\n",
       "5785              44322.0\n",
       "5803              44343.0\n",
       "5807              44294.0\n",
       "5841              44410.0\n",
       "\n",
       "[185 rows x 1 columns]"
      ],
      "text/html": "<div>\n<style scoped>\n    .dataframe tbody tr th:only-of-type {\n        vertical-align: middle;\n    }\n\n    .dataframe tbody tr th {\n        vertical-align: top;\n    }\n\n    .dataframe thead th {\n        text-align: right;\n    }\n</style>\n<table border=\"1\" class=\"dataframe\">\n  <thead>\n    <tr style=\"text-align: right;\">\n      <th></th>\n      <th>next_reach_out_date</th>\n    </tr>\n  </thead>\n  <tbody>\n    <tr>\n      <th>140</th>\n      <td>44462.0</td>\n    </tr>\n    <tr>\n      <th>170</th>\n      <td>44511.0</td>\n    </tr>\n    <tr>\n      <th>180</th>\n      <td>44272.0</td>\n    </tr>\n    <tr>\n      <th>206</th>\n      <td>44307.0</td>\n    </tr>\n    <tr>\n      <th>209</th>\n      <td>44273.0</td>\n    </tr>\n    <tr>\n      <th>...</th>\n      <td>...</td>\n    </tr>\n    <tr>\n      <th>5748</th>\n      <td>44419.0</td>\n    </tr>\n    <tr>\n      <th>5785</th>\n      <td>44322.0</td>\n    </tr>\n    <tr>\n      <th>5803</th>\n      <td>44343.0</td>\n    </tr>\n    <tr>\n      <th>5807</th>\n      <td>44294.0</td>\n    </tr>\n    <tr>\n      <th>5841</th>\n      <td>44410.0</td>\n    </tr>\n  </tbody>\n</table>\n<p>185 rows × 1 columns</p>\n</div>"
     },
     "metadata": {},
     "execution_count": 108
    }
   ],
   "source": [
    "df[[\"next_reach_out_date\"]][df.next_reach_out_date.notna()]"
   ]
  },
  {
   "cell_type": "code",
   "execution_count": 112,
   "metadata": {},
   "outputs": [
    {
     "output_type": "execute_result",
     "data": {
      "text/plain": [
       "      next_reach_out_date\n",
       "140               44462.0\n",
       "170               44511.0\n",
       "180               44272.0\n",
       "206               44307.0\n",
       "209               44273.0\n",
       "...                   ...\n",
       "5748              44419.0\n",
       "5785              44322.0\n",
       "5803              44343.0\n",
       "5807              44294.0\n",
       "5841              44410.0\n",
       "\n",
       "[185 rows x 1 columns]"
      ],
      "text/html": "<div>\n<style scoped>\n    .dataframe tbody tr th:only-of-type {\n        vertical-align: middle;\n    }\n\n    .dataframe tbody tr th {\n        vertical-align: top;\n    }\n\n    .dataframe thead th {\n        text-align: right;\n    }\n</style>\n<table border=\"1\" class=\"dataframe\">\n  <thead>\n    <tr style=\"text-align: right;\">\n      <th></th>\n      <th>next_reach_out_date</th>\n    </tr>\n  </thead>\n  <tbody>\n    <tr>\n      <th>140</th>\n      <td>44462.0</td>\n    </tr>\n    <tr>\n      <th>170</th>\n      <td>44511.0</td>\n    </tr>\n    <tr>\n      <th>180</th>\n      <td>44272.0</td>\n    </tr>\n    <tr>\n      <th>206</th>\n      <td>44307.0</td>\n    </tr>\n    <tr>\n      <th>209</th>\n      <td>44273.0</td>\n    </tr>\n    <tr>\n      <th>...</th>\n      <td>...</td>\n    </tr>\n    <tr>\n      <th>5748</th>\n      <td>44419.0</td>\n    </tr>\n    <tr>\n      <th>5785</th>\n      <td>44322.0</td>\n    </tr>\n    <tr>\n      <th>5803</th>\n      <td>44343.0</td>\n    </tr>\n    <tr>\n      <th>5807</th>\n      <td>44294.0</td>\n    </tr>\n    <tr>\n      <th>5841</th>\n      <td>44410.0</td>\n    </tr>\n  </tbody>\n</table>\n<p>185 rows × 1 columns</p>\n</div>"
     },
     "metadata": {},
     "execution_count": 112
    }
   ],
   "source": [
    "df[[\"next_reach_out_date\"]][pd.to_datetime(df.next_reach_out_date).notna()]"
   ]
  },
  {
   "cell_type": "code",
   "execution_count": 117,
   "metadata": {},
   "outputs": [],
   "source": [
    "df[\"next_reach_out_date_2\"] = pd.to_datetime(df.next_reach_out_date, infer_datetime_format=True)"
   ]
  },
  {
   "cell_type": "code",
   "execution_count": 159,
   "metadata": {},
   "outputs": [
    {
     "output_type": "execute_result",
     "data": {
      "text/plain": [
       "      next_reach_out_date next_reach_out_date_2\n",
       "140               44462.0            2021-09-23\n",
       "170               44511.0            2021-11-11\n",
       "180               44272.0            2021-03-17\n",
       "206               44307.0            2021-04-21\n",
       "209               44273.0            2021-03-18\n",
       "...                   ...                   ...\n",
       "5748              44419.0            2021-08-11\n",
       "5785              44322.0            2021-05-06\n",
       "5803              44343.0            2021-05-27\n",
       "5807              44294.0            2021-04-08\n",
       "5841              44410.0            2021-08-02\n",
       "\n",
       "[185 rows x 2 columns]"
      ],
      "text/html": "<div>\n<style scoped>\n    .dataframe tbody tr th:only-of-type {\n        vertical-align: middle;\n    }\n\n    .dataframe tbody tr th {\n        vertical-align: top;\n    }\n\n    .dataframe thead th {\n        text-align: right;\n    }\n</style>\n<table border=\"1\" class=\"dataframe\">\n  <thead>\n    <tr style=\"text-align: right;\">\n      <th></th>\n      <th>next_reach_out_date</th>\n      <th>next_reach_out_date_2</th>\n    </tr>\n  </thead>\n  <tbody>\n    <tr>\n      <th>140</th>\n      <td>44462.0</td>\n      <td>2021-09-23</td>\n    </tr>\n    <tr>\n      <th>170</th>\n      <td>44511.0</td>\n      <td>2021-11-11</td>\n    </tr>\n    <tr>\n      <th>180</th>\n      <td>44272.0</td>\n      <td>2021-03-17</td>\n    </tr>\n    <tr>\n      <th>206</th>\n      <td>44307.0</td>\n      <td>2021-04-21</td>\n    </tr>\n    <tr>\n      <th>209</th>\n      <td>44273.0</td>\n      <td>2021-03-18</td>\n    </tr>\n    <tr>\n      <th>...</th>\n      <td>...</td>\n      <td>...</td>\n    </tr>\n    <tr>\n      <th>5748</th>\n      <td>44419.0</td>\n      <td>2021-08-11</td>\n    </tr>\n    <tr>\n      <th>5785</th>\n      <td>44322.0</td>\n      <td>2021-05-06</td>\n    </tr>\n    <tr>\n      <th>5803</th>\n      <td>44343.0</td>\n      <td>2021-05-27</td>\n    </tr>\n    <tr>\n      <th>5807</th>\n      <td>44294.0</td>\n      <td>2021-04-08</td>\n    </tr>\n    <tr>\n      <th>5841</th>\n      <td>44410.0</td>\n      <td>2021-08-02</td>\n    </tr>\n  </tbody>\n</table>\n<p>185 rows × 2 columns</p>\n</div>"
     },
     "metadata": {},
     "execution_count": 159
    }
   ],
   "source": [
    "df[[\"next_reach_out_date\", \"next_reach_out_date_2\"]][pd.to_datetime(df.next_reach_out_date).notna()]"
   ]
  },
  {
   "cell_type": "code",
   "execution_count": 141,
   "metadata": {},
   "outputs": [],
   "source": [
    "df[\"next_reach_out_date_2\"] = df[\"next_reach_out_date\"]\\\n",
    "    .apply(lambda x: xlrd.xldate_as_datetime(x, 0) if ~np.isnan(x) else x)"
   ]
  },
  {
   "cell_type": "code",
   "execution_count": 142,
   "metadata": {},
   "outputs": [
    {
     "output_type": "execute_result",
     "data": {
      "text/plain": [
       "             id owner     deal_stage          updated_at           created_at  \\\n",
       "140  2003251165    DS  Deal Deferred  3-15-2021 21:59:00  04-19-2019 17:48:00   \n",
       "170  2003755782    AR  Deal Deferred    03/10/2021 12:24  10-16-2019 20:22:00   \n",
       "180  2003789576    DS  Deal Deferred  3-18-2021 21:09:00       10/28/19 16:25   \n",
       "206  2003950239    DS  Deal Deferred    02/08/2021 13:00     12/09/2019 17:38   \n",
       "209  2003960172    DS  Deal Deferred      01/27/21 18:37       12/13/19 18:24   \n",
       "\n",
       "     age_in_days       deferred_reason not_interested_reasons  \\\n",
       "140          701           No Response                    NaN   \n",
       "170          521  Opted For Competitor                    NaN   \n",
       "180          509           No Response                    NaN   \n",
       "206          467           No Response                    NaN   \n",
       "209          463        No Requirement                    NaN   \n",
       "\n",
       "    no_requirement_reasons  next_reach_out_date  ...        updated_at_2  \\\n",
       "140                    NaN              44462.0  ... 2021-03-15 21:59:00   \n",
       "170                    NaN              44511.0  ... 2021-03-10 12:24:00   \n",
       "180                    NaN              44272.0  ... 2021-03-18 21:09:00   \n",
       "206                    NaN              44307.0  ... 2021-02-08 13:00:00   \n",
       "209       Low Order Volume              44273.0  ... 2021-01-27 18:37:00   \n",
       "\n",
       "    updated_at_len updated_at_2_len        created_at_2  created_at_len  \\\n",
       "140             18               19 2019-04-19 17:48:00              19   \n",
       "170             16               19 2019-10-16 20:22:00              19   \n",
       "180             18               19 2019-10-28 16:25:00              14   \n",
       "206             16               19 2019-12-09 17:38:00              16   \n",
       "209             14               19 2019-12-13 18:24:00              14   \n",
       "\n",
       "    created_at_2_len  created_at_2_year  created_at_2_month created_at_2_day  \\\n",
       "140               19               2019                   4               19   \n",
       "170               19               2019                  10               16   \n",
       "180               19               2019                  10               28   \n",
       "206               19               2019                  12                9   \n",
       "209               19               2019                  12               13   \n",
       "\n",
       "     next_reach_out_date_2  \n",
       "140             2021-09-23  \n",
       "170             2021-11-11  \n",
       "180             2021-03-17  \n",
       "206             2021-04-21  \n",
       "209             2021-03-18  \n",
       "\n",
       "[5 rows x 25 columns]"
      ],
      "text/html": "<div>\n<style scoped>\n    .dataframe tbody tr th:only-of-type {\n        vertical-align: middle;\n    }\n\n    .dataframe tbody tr th {\n        vertical-align: top;\n    }\n\n    .dataframe thead th {\n        text-align: right;\n    }\n</style>\n<table border=\"1\" class=\"dataframe\">\n  <thead>\n    <tr style=\"text-align: right;\">\n      <th></th>\n      <th>id</th>\n      <th>owner</th>\n      <th>deal_stage</th>\n      <th>updated_at</th>\n      <th>created_at</th>\n      <th>age_in_days</th>\n      <th>deferred_reason</th>\n      <th>not_interested_reasons</th>\n      <th>no_requirement_reasons</th>\n      <th>next_reach_out_date</th>\n      <th>...</th>\n      <th>updated_at_2</th>\n      <th>updated_at_len</th>\n      <th>updated_at_2_len</th>\n      <th>created_at_2</th>\n      <th>created_at_len</th>\n      <th>created_at_2_len</th>\n      <th>created_at_2_year</th>\n      <th>created_at_2_month</th>\n      <th>created_at_2_day</th>\n      <th>next_reach_out_date_2</th>\n    </tr>\n  </thead>\n  <tbody>\n    <tr>\n      <th>140</th>\n      <td>2003251165</td>\n      <td>DS</td>\n      <td>Deal Deferred</td>\n      <td>3-15-2021 21:59:00</td>\n      <td>04-19-2019 17:48:00</td>\n      <td>701</td>\n      <td>No Response</td>\n      <td>NaN</td>\n      <td>NaN</td>\n      <td>44462.0</td>\n      <td>...</td>\n      <td>2021-03-15 21:59:00</td>\n      <td>18</td>\n      <td>19</td>\n      <td>2019-04-19 17:48:00</td>\n      <td>19</td>\n      <td>19</td>\n      <td>2019</td>\n      <td>4</td>\n      <td>19</td>\n      <td>2021-09-23</td>\n    </tr>\n    <tr>\n      <th>170</th>\n      <td>2003755782</td>\n      <td>AR</td>\n      <td>Deal Deferred</td>\n      <td>03/10/2021 12:24</td>\n      <td>10-16-2019 20:22:00</td>\n      <td>521</td>\n      <td>Opted For Competitor</td>\n      <td>NaN</td>\n      <td>NaN</td>\n      <td>44511.0</td>\n      <td>...</td>\n      <td>2021-03-10 12:24:00</td>\n      <td>16</td>\n      <td>19</td>\n      <td>2019-10-16 20:22:00</td>\n      <td>19</td>\n      <td>19</td>\n      <td>2019</td>\n      <td>10</td>\n      <td>16</td>\n      <td>2021-11-11</td>\n    </tr>\n    <tr>\n      <th>180</th>\n      <td>2003789576</td>\n      <td>DS</td>\n      <td>Deal Deferred</td>\n      <td>3-18-2021 21:09:00</td>\n      <td>10/28/19 16:25</td>\n      <td>509</td>\n      <td>No Response</td>\n      <td>NaN</td>\n      <td>NaN</td>\n      <td>44272.0</td>\n      <td>...</td>\n      <td>2021-03-18 21:09:00</td>\n      <td>18</td>\n      <td>19</td>\n      <td>2019-10-28 16:25:00</td>\n      <td>14</td>\n      <td>19</td>\n      <td>2019</td>\n      <td>10</td>\n      <td>28</td>\n      <td>2021-03-17</td>\n    </tr>\n    <tr>\n      <th>206</th>\n      <td>2003950239</td>\n      <td>DS</td>\n      <td>Deal Deferred</td>\n      <td>02/08/2021 13:00</td>\n      <td>12/09/2019 17:38</td>\n      <td>467</td>\n      <td>No Response</td>\n      <td>NaN</td>\n      <td>NaN</td>\n      <td>44307.0</td>\n      <td>...</td>\n      <td>2021-02-08 13:00:00</td>\n      <td>16</td>\n      <td>19</td>\n      <td>2019-12-09 17:38:00</td>\n      <td>16</td>\n      <td>19</td>\n      <td>2019</td>\n      <td>12</td>\n      <td>9</td>\n      <td>2021-04-21</td>\n    </tr>\n    <tr>\n      <th>209</th>\n      <td>2003960172</td>\n      <td>DS</td>\n      <td>Deal Deferred</td>\n      <td>01/27/21 18:37</td>\n      <td>12/13/19 18:24</td>\n      <td>463</td>\n      <td>No Requirement</td>\n      <td>NaN</td>\n      <td>Low Order Volume</td>\n      <td>44273.0</td>\n      <td>...</td>\n      <td>2021-01-27 18:37:00</td>\n      <td>14</td>\n      <td>19</td>\n      <td>2019-12-13 18:24:00</td>\n      <td>14</td>\n      <td>19</td>\n      <td>2019</td>\n      <td>12</td>\n      <td>13</td>\n      <td>2021-03-18</td>\n    </tr>\n  </tbody>\n</table>\n<p>5 rows × 25 columns</p>\n</div>"
     },
     "metadata": {},
     "execution_count": 142
    }
   ],
   "source": [
    "df[pd.to_datetime(df.next_reach_out_date).notna()].head()"
   ]
  },
  {
   "cell_type": "code",
   "execution_count": 140,
   "metadata": {},
   "outputs": [
    {
     "output_type": "execute_result",
     "data": {
      "text/plain": [
       "id                                 int64\n",
       "owner                             object\n",
       "deal_stage                        object\n",
       "updated_at                        object\n",
       "created_at                        object\n",
       "age_in_days                        int64\n",
       "deferred_reason                   object\n",
       "not_interested_reasons            object\n",
       "no_requirement_reasons            object\n",
       "next_reach_out_date              float64\n",
       "comments                          object\n",
       "source_of_the_deal                object\n",
       "head_office_city                  object\n",
       "country                           object\n",
       "number_of_outlets                  int64\n",
       "updated_at_2              datetime64[ns]\n",
       "updated_at_len                     int64\n",
       "updated_at_2_len                   int64\n",
       "created_at_2              datetime64[ns]\n",
       "created_at_len                     int64\n",
       "created_at_2_len                   int64\n",
       "created_at_2_year                  int64\n",
       "created_at_2_month                 int64\n",
       "created_at_2_day                   int64\n",
       "next_reach_out_date_2     datetime64[ns]\n",
       "dtype: object"
      ]
     },
     "metadata": {},
     "execution_count": 140
    }
   ],
   "source": [
    "df.dtypes"
   ]
  },
  {
   "cell_type": "code",
   "execution_count": 146,
   "metadata": {},
   "outputs": [
    {
     "output_type": "execute_result",
     "data": {
      "text/plain": [
       "array(['POS Partners', 'Phone', 'Cold call/email', 'Web Form', nan,\n",
       "       'Food Aggregators', 'Chat', 'Referral', 'Ola Database',\n",
       "       'Aahar 2020', 'Drip campaign', 'Grocery Database 10th June',\n",
       "       'Channel Partner', 'Lead Sourcing - Food Aggregators',\n",
       "       'Support @ UrbanPiper', 'LinkedIn', 'Email'], dtype=object)"
      ]
     },
     "metadata": {},
     "execution_count": 146
    }
   ],
   "source": [
    "df.source_of_the_deal.unique()"
   ]
  },
  {
   "cell_type": "code",
   "execution_count": 147,
   "metadata": {},
   "outputs": [
    {
     "output_type": "execute_result",
     "data": {
      "text/plain": [
       "array(['Bangalore', 'Hyderabad', 'Pune', 'Mumbai', 'Delhi NCR', 'Chennai',\n",
       "       'Others', 'Jaipur', 'Lucknow', 'Coimbatore', 'Jalandhar',\n",
       "       'Kolkata', 'Kochi', 'Chandigarh', 'Gandhi Nagar', nan, 'Amritsar',\n",
       "       'Ludhiana', 'Indore', 'Vadodara', 'Ahmedabad', 'Vijayawada',\n",
       "       'Bhubaneswar', 'Nagpur', 'Kanpur', 'Bhopal', 'Surat', 'Madurai',\n",
       "       'Nashik', 'Dehradun', 'Jamshedpur', 'Cochin', 'Mysore', 'Ranchi',\n",
       "       'Jaunpur', 'Vishakhapatnam', 'Salem', 'Pudhucherry', 'Patna',\n",
       "       'Goa', 'Mangalore', 'Solapur', 'Aizwal', 'Allahabad', 'Siliguri',\n",
       "       'Guwahati', 'Raipur', 'Jabalpur', 'Hubli', 'Ajmer', 'Vizag',\n",
       "       'Bilaspur', 'Kota', 'Navsari', 'Agra', 'Aurangabad', 'Trichy',\n",
       "       'Kozhikode', 'Tirupathi', 'Jodhpur'], dtype=object)"
      ]
     },
     "metadata": {},
     "execution_count": 147
    }
   ],
   "source": [
    "df.head_office_city.unique()"
   ]
  },
  {
   "cell_type": "code",
   "execution_count": 150,
   "metadata": {},
   "outputs": [
    {
     "output_type": "execute_result",
     "data": {
      "text/plain": [
       "id                                 int64\n",
       "owner                             object\n",
       "deal_stage                        object\n",
       "updated_at                        object\n",
       "created_at                        object\n",
       "age_in_days                        int64\n",
       "deferred_reason                   object\n",
       "not_interested_reasons            object\n",
       "no_requirement_reasons            object\n",
       "next_reach_out_date              float64\n",
       "comments                          object\n",
       "source_of_the_deal                object\n",
       "head_office_city                  object\n",
       "country                           object\n",
       "number_of_outlets                  int64\n",
       "updated_at_2              datetime64[ns]\n",
       "updated_at_len                     int64\n",
       "updated_at_2_len                   int64\n",
       "created_at_2              datetime64[ns]\n",
       "created_at_len                     int64\n",
       "created_at_2_len                   int64\n",
       "created_at_2_year                  int64\n",
       "created_at_2_month                 int64\n",
       "created_at_2_day                   int64\n",
       "next_reach_out_date_2     datetime64[ns]\n",
       "dtype: object"
      ]
     },
     "metadata": {},
     "execution_count": 150
    }
   ],
   "source": [
    "df.dtypes"
   ]
  },
  {
   "cell_type": "code",
   "execution_count": 151,
   "metadata": {},
   "outputs": [
    {
     "output_type": "execute_result",
     "data": {
      "text/plain": [
       "array(['India'], dtype=object)"
      ]
     },
     "metadata": {},
     "execution_count": 151
    }
   ],
   "source": [
    "df.country.unique()"
   ]
  },
  {
   "cell_type": "code",
   "execution_count": 153,
   "metadata": {},
   "outputs": [
    {
     "output_type": "execute_result",
     "data": {
      "text/plain": [
       "count      5863.000000\n",
       "mean        104.600887\n",
       "std        7416.533507\n",
       "min           1.000000\n",
       "25%           1.000000\n",
       "50%           3.000000\n",
       "75%           8.000000\n",
       "max      567890.000000\n",
       "Name: number_of_outlets, dtype: float64"
      ]
     },
     "metadata": {},
     "execution_count": 153
    }
   ],
   "source": [
    "df.number_of_outlets.describe()"
   ]
  },
  {
   "cell_type": "code",
   "execution_count": 157,
   "metadata": {},
   "outputs": [
    {
     "output_type": "execute_result",
     "data": {
      "text/plain": [
       "Index(['id', 'owner', 'deal_stage', 'updated_at', 'created_at', 'age_in_days',\n",
       "       'deferred_reason', 'not_interested_reasons', 'no_requirement_reasons',\n",
       "       'next_reach_out_date', 'comments', 'source_of_the_deal',\n",
       "       'head_office_city', 'country', 'number_of_outlets', 'updated_at_2',\n",
       "       'updated_at_len', 'updated_at_2_len', 'created_at_2', 'created_at_len',\n",
       "       'created_at_2_len', 'created_at_2_year', 'created_at_2_month',\n",
       "       'created_at_2_day', 'next_reach_out_date_2'],\n",
       "      dtype='object')"
      ]
     },
     "metadata": {},
     "execution_count": 157
    }
   ],
   "source": [
    "df.columns"
   ]
  },
  {
   "cell_type": "code",
   "execution_count": null,
   "metadata": {},
   "outputs": [],
   "source": [
    "execution_time = time.time() -start_time\n",
    "print(total_time)"
   ]
  }
 ]
}