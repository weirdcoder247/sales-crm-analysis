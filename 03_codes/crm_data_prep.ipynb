{
 "metadata": {
  "language_info": {
   "codemirror_mode": {
    "name": "ipython",
    "version": 3
   },
   "file_extension": ".py",
   "mimetype": "text/x-python",
   "name": "python",
   "nbconvert_exporter": "python",
   "pygments_lexer": "ipython3",
   "version": "3.8.3-final"
  },
  "orig_nbformat": 2,
  "kernelspec": {
   "name": "python383jvsc74a57bd06e43f85b8c899b31f9c6e20303c90261e28e4bc4148d5526e30491a7115eaa38",
   "display_name": "Python 3.8.3 64-bit (conda)"
  }
 },
 "nbformat": 4,
 "nbformat_minor": 2,
 "cells": [
  {
   "cell_type": "code",
   "execution_count": 1,
   "metadata": {},
   "outputs": [],
   "source": [
    "# -----------------------------------------------------------------------------\n",
    "# Author: Dhruv Panchal <dhruvpanchal1491@gmail.com>\n",
    "# Project: UrbanPiper_Assignment\n",
    "# Create Date: 2021-04-12\n",
    "# Update Date:\n",
    "# Contributors:\n",
    "# Python Version: 3.8.3\n",
    "# -----------------------------------------------------------------------------"
   ]
  },
  {
   "cell_type": "code",
   "execution_count": 2,
   "metadata": {},
   "outputs": [],
   "source": [
    "# Import Packages\n",
    "import pandas as pd\n",
    "import os\n",
    "import xlrd\n",
    "import numpy as np\n",
    "import seaborn as sns\n",
    "import time\n",
    "import sys\n",
    "import matplotlib.pyplot as plt\n",
    "%matplotlib inline"
   ]
  },
  {
   "source": [
    "# User Input"
   ],
   "cell_type": "markdown",
   "metadata": {}
  },
  {
   "cell_type": "code",
   "execution_count": 3,
   "metadata": {},
   "outputs": [],
   "source": [
    "# User Input\n",
    "file_path = r\"C:\\Users\\dhruv\\Documents\\UrbanPiper\\sales-crm-analysis\\02_data\" \n",
    "file_name = \"crm_data.csv\"\n"
   ]
  },
  {
   "cell_type": "code",
   "execution_count": 4,
   "metadata": {},
   "outputs": [
    {
     "output_type": "stream",
     "name": "stdout",
     "text": [
      "Working directory changed to: C:\\Users\\dhruv\\Documents\\UrbanPiper\\sales-crm-analysis\\02_data\n"
     ]
    }
   ],
   "source": [
    "# Change Directory\n",
    "os.chdir(file_path)\n",
    "print(\"Working directory changed to:\", os.getcwd())"
   ]
  },
  {
   "source": [
    "# Data Preparation\n",
    "- Data Type Conversion\n",
    "- Missing Value Treatment\n",
    "- Outlier Treatment\n",
    "- Feature Generation"
   ],
   "cell_type": "markdown",
   "metadata": {}
  },
  {
   "source": [
    "## Data Type Conversion"
   ],
   "cell_type": "markdown",
   "metadata": {}
  },
  {
   "cell_type": "code",
   "execution_count": 5,
   "metadata": {},
   "outputs": [],
   "source": [
    "# Start Log Time\n",
    "start_time = time.time()"
   ]
  },
  {
   "cell_type": "code",
   "execution_count": 6,
   "metadata": {},
   "outputs": [],
   "source": [
    "# Import Data\n",
    "df = pd.read_csv(file_name)"
   ]
  },
  {
   "cell_type": "code",
   "execution_count": 7,
   "metadata": {},
   "outputs": [],
   "source": [
    "# Convert Date Fields to datetime\n",
    "df[\"created_at_2\"] = pd.to_datetime(df.created_at)\n",
    "df[\"updated_at_2\"] = pd.to_datetime(df.updated_at)\n",
    "df[\"next_reach_out_date_2\"] = df[\"next_reach_out_date\"]\\\n",
    "    .apply(lambda x: xlrd.xldate_as_datetime(x, 0) if ~np.isnan(x) else x)"
   ]
  },
  {
   "cell_type": "code",
   "execution_count": 8,
   "metadata": {},
   "outputs": [],
   "source": [
    "# Calculate len of date fields (to be used for QC if corner cases are incorrect)\n",
    "df[\"created_at_len\"] = df.created_at.str.len()\n",
    "df[\"created_at_2_len\"] = df.created_at_2.astype(str).str.len()\n",
    "df[\"updated_at_len\"] = df.updated_at.str.len()\n",
    "df[\"updated_at_2_len\"] = df.updated_at_2.astype(\"str\").str.len()\n",
    "df[\"next_reach_out_date_len\"] = df.next_reach_out_date.astype(str).str.len()\n",
    "df[\"next_reach_out_date_2_len\"] = df.next_reach_out_date_2.astype(str).str.len()"
   ]
  },
  {
   "cell_type": "code",
   "execution_count": 9,
   "metadata": {},
   "outputs": [],
   "source": [
    "# Create Date Part Fields\n",
    "df[\"created_at_2_year\"] = df.created_at_2.dt.year\n",
    "df[\"created_at_2_month\"] = df.created_at_2.dt.month\n",
    "df[\"created_at_2_day\"] = df.created_at_2.dt.day\n",
    "df[\"updated_at_2_year\"] = df.updated_at_2.dt.year\n",
    "df[\"updated_at_2_month\"] = df.updated_at_2.dt.month\n",
    "df[\"updated_at_2_day\"] = df.updated_at_2.dt.day\n",
    "df[\"next_reach_out_date_2_year\"] = df.next_reach_out_date_2.dt.year\n",
    "df[\"next_reach_out_date_2_month\"] = df.next_reach_out_date_2.dt.month\n",
    "df[\"next_reach_out_date_2_day\"] = df.next_reach_out_date_2.dt.day"
   ]
  },
  {
   "cell_type": "code",
   "execution_count": 10,
   "metadata": {},
   "outputs": [
    {
     "output_type": "execute_result",
     "data": {
      "text/plain": [
       "                 id  age_in_days  next_reach_out_date  number_of_outlets  \\\n",
       "count  5.863000e+03  5863.000000           185.000000        5863.000000   \n",
       "mean   2.003714e+09   350.491557         44355.108108         104.600887   \n",
       "std    1.024682e+06   329.953288            88.841941        7416.533507   \n",
       "min    2.001614e+09 -1192.000000         44209.000000           1.000000   \n",
       "25%    2.002778e+09    91.500000         44293.000000           1.000000   \n",
       "50%    2.003950e+09   248.000000         44328.000000           3.000000   \n",
       "75%    2.004686e+09   509.000000         44419.000000           8.000000   \n",
       "max    2.005079e+09  1173.000000         44882.000000      567890.000000   \n",
       "\n",
       "       created_at_len  created_at_2_len  updated_at_len  updated_at_2_len  \\\n",
       "count     5863.000000            5863.0     5863.000000            5863.0   \n",
       "mean        16.457957              19.0       16.413781              19.0   \n",
       "std          1.846802               0.0        1.884781               0.0   \n",
       "min         13.000000              19.0       13.000000              19.0   \n",
       "25%         16.000000              19.0       16.000000              19.0   \n",
       "50%         16.000000              19.0       16.000000              19.0   \n",
       "75%         19.000000              19.0       18.000000              19.0   \n",
       "max         19.000000              19.0       19.000000              19.0   \n",
       "\n",
       "       next_reach_out_date_len  next_reach_out_date_2_len  created_at_2_year  \\\n",
       "count              5863.000000                5863.000000        5863.000000   \n",
       "mean                  3.126215                   3.220877        2019.190517   \n",
       "std                   0.699295                   1.223767           0.880839   \n",
       "min                   3.000000                   3.000000        2017.000000   \n",
       "25%                   3.000000                   3.000000        2018.000000   \n",
       "50%                   3.000000                   3.000000        2019.000000   \n",
       "75%                   3.000000                   3.000000        2020.000000   \n",
       "max                   7.000000                  10.000000        2021.000000   \n",
       "\n",
       "       created_at_2_month  created_at_2_day  updated_at_2_year  \\\n",
       "count         5863.000000       5863.000000         5863.00000   \n",
       "mean             7.542555         15.227870         2020.37080   \n",
       "std              3.816213          9.408011            0.63044   \n",
       "min              1.000000          1.000000         2018.00000   \n",
       "25%              4.000000          7.000000         2020.00000   \n",
       "50%              8.000000         15.000000         2020.00000   \n",
       "75%             11.000000         24.000000         2021.00000   \n",
       "max             12.000000         31.000000         2021.00000   \n",
       "\n",
       "       updated_at_2_month  updated_at_2_day  next_reach_out_date_2_year  \\\n",
       "count         5863.000000       5863.000000                  185.000000   \n",
       "mean             5.477912         13.761044                 2021.016216   \n",
       "std              3.999038          7.700689                    0.126649   \n",
       "min              1.000000          1.000000                 2021.000000   \n",
       "25%              2.000000          9.000000                 2021.000000   \n",
       "50%              3.000000         14.000000                 2021.000000   \n",
       "75%              9.000000         18.000000                 2021.000000   \n",
       "max             12.000000         31.000000                 2022.000000   \n",
       "\n",
       "       next_reach_out_date_2_month  next_reach_out_date_2_day  \n",
       "count                   185.000000                 185.000000  \n",
       "mean                      5.600000                  14.400000  \n",
       "std                       2.592212                   7.676333  \n",
       "min                       1.000000                   1.000000  \n",
       "25%                       4.000000                   8.000000  \n",
       "50%                       5.000000                  13.000000  \n",
       "75%                       8.000000                  20.000000  \n",
       "max                      12.000000                  31.000000  "
      ],
      "text/html": "<div>\n<style scoped>\n    .dataframe tbody tr th:only-of-type {\n        vertical-align: middle;\n    }\n\n    .dataframe tbody tr th {\n        vertical-align: top;\n    }\n\n    .dataframe thead th {\n        text-align: right;\n    }\n</style>\n<table border=\"1\" class=\"dataframe\">\n  <thead>\n    <tr style=\"text-align: right;\">\n      <th></th>\n      <th>id</th>\n      <th>age_in_days</th>\n      <th>next_reach_out_date</th>\n      <th>number_of_outlets</th>\n      <th>created_at_len</th>\n      <th>created_at_2_len</th>\n      <th>updated_at_len</th>\n      <th>updated_at_2_len</th>\n      <th>next_reach_out_date_len</th>\n      <th>next_reach_out_date_2_len</th>\n      <th>created_at_2_year</th>\n      <th>created_at_2_month</th>\n      <th>created_at_2_day</th>\n      <th>updated_at_2_year</th>\n      <th>updated_at_2_month</th>\n      <th>updated_at_2_day</th>\n      <th>next_reach_out_date_2_year</th>\n      <th>next_reach_out_date_2_month</th>\n      <th>next_reach_out_date_2_day</th>\n    </tr>\n  </thead>\n  <tbody>\n    <tr>\n      <th>count</th>\n      <td>5.863000e+03</td>\n      <td>5863.000000</td>\n      <td>185.000000</td>\n      <td>5863.000000</td>\n      <td>5863.000000</td>\n      <td>5863.0</td>\n      <td>5863.000000</td>\n      <td>5863.0</td>\n      <td>5863.000000</td>\n      <td>5863.000000</td>\n      <td>5863.000000</td>\n      <td>5863.000000</td>\n      <td>5863.000000</td>\n      <td>5863.00000</td>\n      <td>5863.000000</td>\n      <td>5863.000000</td>\n      <td>185.000000</td>\n      <td>185.000000</td>\n      <td>185.000000</td>\n    </tr>\n    <tr>\n      <th>mean</th>\n      <td>2.003714e+09</td>\n      <td>350.491557</td>\n      <td>44355.108108</td>\n      <td>104.600887</td>\n      <td>16.457957</td>\n      <td>19.0</td>\n      <td>16.413781</td>\n      <td>19.0</td>\n      <td>3.126215</td>\n      <td>3.220877</td>\n      <td>2019.190517</td>\n      <td>7.542555</td>\n      <td>15.227870</td>\n      <td>2020.37080</td>\n      <td>5.477912</td>\n      <td>13.761044</td>\n      <td>2021.016216</td>\n      <td>5.600000</td>\n      <td>14.400000</td>\n    </tr>\n    <tr>\n      <th>std</th>\n      <td>1.024682e+06</td>\n      <td>329.953288</td>\n      <td>88.841941</td>\n      <td>7416.533507</td>\n      <td>1.846802</td>\n      <td>0.0</td>\n      <td>1.884781</td>\n      <td>0.0</td>\n      <td>0.699295</td>\n      <td>1.223767</td>\n      <td>0.880839</td>\n      <td>3.816213</td>\n      <td>9.408011</td>\n      <td>0.63044</td>\n      <td>3.999038</td>\n      <td>7.700689</td>\n      <td>0.126649</td>\n      <td>2.592212</td>\n      <td>7.676333</td>\n    </tr>\n    <tr>\n      <th>min</th>\n      <td>2.001614e+09</td>\n      <td>-1192.000000</td>\n      <td>44209.000000</td>\n      <td>1.000000</td>\n      <td>13.000000</td>\n      <td>19.0</td>\n      <td>13.000000</td>\n      <td>19.0</td>\n      <td>3.000000</td>\n      <td>3.000000</td>\n      <td>2017.000000</td>\n      <td>1.000000</td>\n      <td>1.000000</td>\n      <td>2018.00000</td>\n      <td>1.000000</td>\n      <td>1.000000</td>\n      <td>2021.000000</td>\n      <td>1.000000</td>\n      <td>1.000000</td>\n    </tr>\n    <tr>\n      <th>25%</th>\n      <td>2.002778e+09</td>\n      <td>91.500000</td>\n      <td>44293.000000</td>\n      <td>1.000000</td>\n      <td>16.000000</td>\n      <td>19.0</td>\n      <td>16.000000</td>\n      <td>19.0</td>\n      <td>3.000000</td>\n      <td>3.000000</td>\n      <td>2018.000000</td>\n      <td>4.000000</td>\n      <td>7.000000</td>\n      <td>2020.00000</td>\n      <td>2.000000</td>\n      <td>9.000000</td>\n      <td>2021.000000</td>\n      <td>4.000000</td>\n      <td>8.000000</td>\n    </tr>\n    <tr>\n      <th>50%</th>\n      <td>2.003950e+09</td>\n      <td>248.000000</td>\n      <td>44328.000000</td>\n      <td>3.000000</td>\n      <td>16.000000</td>\n      <td>19.0</td>\n      <td>16.000000</td>\n      <td>19.0</td>\n      <td>3.000000</td>\n      <td>3.000000</td>\n      <td>2019.000000</td>\n      <td>8.000000</td>\n      <td>15.000000</td>\n      <td>2020.00000</td>\n      <td>3.000000</td>\n      <td>14.000000</td>\n      <td>2021.000000</td>\n      <td>5.000000</td>\n      <td>13.000000</td>\n    </tr>\n    <tr>\n      <th>75%</th>\n      <td>2.004686e+09</td>\n      <td>509.000000</td>\n      <td>44419.000000</td>\n      <td>8.000000</td>\n      <td>19.000000</td>\n      <td>19.0</td>\n      <td>18.000000</td>\n      <td>19.0</td>\n      <td>3.000000</td>\n      <td>3.000000</td>\n      <td>2020.000000</td>\n      <td>11.000000</td>\n      <td>24.000000</td>\n      <td>2021.00000</td>\n      <td>9.000000</td>\n      <td>18.000000</td>\n      <td>2021.000000</td>\n      <td>8.000000</td>\n      <td>20.000000</td>\n    </tr>\n    <tr>\n      <th>max</th>\n      <td>2.005079e+09</td>\n      <td>1173.000000</td>\n      <td>44882.000000</td>\n      <td>567890.000000</td>\n      <td>19.000000</td>\n      <td>19.0</td>\n      <td>19.000000</td>\n      <td>19.0</td>\n      <td>7.000000</td>\n      <td>10.000000</td>\n      <td>2021.000000</td>\n      <td>12.000000</td>\n      <td>31.000000</td>\n      <td>2021.00000</td>\n      <td>12.000000</td>\n      <td>31.000000</td>\n      <td>2022.000000</td>\n      <td>12.000000</td>\n      <td>31.000000</td>\n    </tr>\n  </tbody>\n</table>\n</div>"
     },
     "metadata": {},
     "execution_count": 10
    }
   ],
   "source": [
    "# Check\n",
    "df.describe()"
   ]
  },
  {
   "cell_type": "code",
   "execution_count": 11,
   "metadata": {},
   "outputs": [
    {
     "output_type": "stream",
     "name": "stdout",
     "text": [
      "Execution Time: 9.137824535369873 secs\n"
     ]
    }
   ],
   "source": [
    "# Execution Time\n",
    "execution_time = time.time() - start_time\n",
    "print(\"Execution Time:\", execution_time, \"secs\")"
   ]
  },
  {
   "source": [
    "## Missing Value Treatment"
   ],
   "cell_type": "markdown",
   "metadata": {}
  },
  {
   "source": [
    "## Outlier Treatment"
   ],
   "cell_type": "markdown",
   "metadata": {}
  },
  {
   "source": [
    "## Feature Generation"
   ],
   "cell_type": "markdown",
   "metadata": {}
  },
  {
   "source": [
    "# Univariate Analysis"
   ],
   "cell_type": "markdown",
   "metadata": {}
  },
  {
   "source": [
    "# Bivariate Analysis"
   ],
   "cell_type": "markdown",
   "metadata": {}
  },
  {
   "source": [
    "# Multivariate Analysis"
   ],
   "cell_type": "markdown",
   "metadata": {}
  },
  {
   "cell_type": "code",
   "execution_count": null,
   "metadata": {},
   "outputs": [],
   "source": []
  }
 ]
}